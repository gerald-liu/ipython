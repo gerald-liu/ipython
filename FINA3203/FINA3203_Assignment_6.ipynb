{
 "cells": [
  {
   "cell_type": "markdown",
   "metadata": {},
   "source": [
    "# FINA 3203 Assignment 6\n",
    "FINA 3203 &ndash; Derivative Securities, Spring 2018, HKUST  \n",
    "LIU Weiyang, 20413306  \n",
    "[wliuax@connect.ust.hk](mailto:wliuax@connect.ust.hk)"
   ]
  },
  {
   "cell_type": "markdown",
   "metadata": {},
   "source": [
    "**Table of Contents**\n",
    "- [Question 1: Credit Spread](#Q1)\n",
    "- [Question 2: Expected Loss Given Default](#Q2)\n",
    "- [Question 3: Expected Recovery](#Q3)"
   ]
  },
  {
   "cell_type": "code",
   "execution_count": 1,
   "metadata": {},
   "outputs": [],
   "source": [
    "import math\n",
    "import pandas as pd\n",
    "from scipy.stats import norm"
   ]
  },
  {
   "cell_type": "code",
   "execution_count": 2,
   "metadata": {},
   "outputs": [],
   "source": [
    "def d1(s, k, r, sigma, tau):\n",
    "    if sigma == 0 or tau == 0: return None\n",
    "    return (math.log(s/k)+(r+0.5*sigma**2)*tau)/(sigma*math.sqrt(tau))\n",
    "\n",
    "def d2(s, k, r, sigma, tau):\n",
    "    if sigma == 0 or tau == 0: return None\n",
    "    return d1(s, k, r, sigma, tau)-sigma*math.sqrt(tau)\n",
    "\n",
    "def bsm(callFlag, s, k, r, sigma, tau): # callFlag = 1 means call option\n",
    "    if sigma == 0 or tau == 0: return s\n",
    "    if callFlag:\n",
    "        return s*norm.cdf(d1(s, k, r, sigma, tau))-k*math.exp(-r*tau)*norm.cdf(d2(s, k, r, sigma, tau))\n",
    "    else:\n",
    "        return k*math.exp(-r*tau)*norm.cdf(-d2(s, k, r, sigma, tau))-s*norm.cdf(-d1(s, k, r, sigma, tau))\n",
    "\n",
    "def edf(v, f, mu, sigma, t):\n",
    "    if sigma == 0 or t == 0: return 0\n",
    "    return norm.cdf(-d2(v, f, mu, sigma, t))\n",
    "    \n",
    "def equityMerton(v, f, r, sigma, t): return bsm(1, v, f, r, sigma, t)\n",
    "    \n",
    "def debtMerton(v, f, r, sigma, t):\n",
    "    if sigma == 0 or t == 0: return v\n",
    "    return f*math.exp(-r*t)-bsm(0, v, f, r, sigma, t)\n",
    "\n",
    "def creditSpread(v, f, r, sigma, t):\n",
    "    return -(math.log(debtMerton(v/f, 1, r, sigma, t)))/t-r\n",
    "\n",
    "def expectedLoss(v, f, mu, sigma, t):\n",
    "    return bsm(0, v, f, mu, sigma, t) * math.exp(mu*t) / edf(v, f, mu, sigma, t)\n",
    "\n",
    "def approxCreditSpread(v, f, mu, sigma, t):\n",
    "    return expectedLoss(v, f, mu, sigma, t)/f * edf(v, f, mu, sigma, t) / t"
   ]
  },
  {
   "cell_type": "markdown",
   "metadata": {},
   "source": [
    "**Firm Information**  \n",
    "v = \\$100, &sigma; = 40%, &mu; = 15%, q = 0, r = 8%"
   ]
  },
  {
   "cell_type": "markdown",
   "metadata": {},
   "source": [
    "<a id='Q1'></a>\n",
    "## Question 1: Credit Spread"
   ]
  },
  {
   "cell_type": "code",
   "execution_count": 3,
   "metadata": {
    "scrolled": true
   },
   "outputs": [
    {
     "name": "stdout",
     "output_type": "stream",
     "text": [
      "Question 1\n",
      "The probability of default EDF = 42.56%\n",
      "The credit spread = 6.47%\n"
     ]
    }
   ],
   "source": [
    "v = 100\n",
    "sigma = 0.4\n",
    "mu = 0.15\n",
    "r = 0.08\n",
    "\n",
    "# Question 1\n",
    "\n",
    "f = 120\n",
    "t = 5\n",
    "edf_0 = edf(v, f, mu, sigma, t)\n",
    "cs_0 = creditSpread(v, f, r, sigma, t)\n",
    "print (\"Question 1\\nThe probability of default EDF = {:.2%}\\nThe credit spread = {:.2%}\".format(edf_0, cs_0))"
   ]
  },
  {
   "cell_type": "code",
   "execution_count": 4,
   "metadata": {},
   "outputs": [
    {
     "name": "stdout",
     "output_type": "stream",
     "text": [
      "1.0818973896849435\n",
      "0.18747019868502757\n",
      "0.1396490624434394\n",
      "46.52158088422627\n"
     ]
    }
   ],
   "source": [
    "print(d1(v, f, mu, sigma, t))\n",
    "print(d2(v, f, mu, sigma, t))\n",
    "print(norm.cdf(-d1(v, f, mu, sigma, t)))\n",
    "print(debtMerton(v, f, mu, sigma, t))"
   ]
  },
  {
   "cell_type": "markdown",
   "metadata": {},
   "source": [
    "<a id='Q2'></a>\n",
    "## Question 2: Expected Loss Given Default"
   ]
  },
  {
   "cell_type": "code",
   "execution_count": 5,
   "metadata": {},
   "outputs": [
    {
     "name": "stdout",
     "output_type": "stream",
     "text": [
      "\n",
      "\n",
      "Question 2\n"
     ]
    },
    {
     "data": {
      "text/html": [
       "<div>\n",
       "<style scoped>\n",
       "    .dataframe tbody tr th:only-of-type {\n",
       "        vertical-align: middle;\n",
       "    }\n",
       "\n",
       "    .dataframe tbody tr th {\n",
       "        vertical-align: top;\n",
       "    }\n",
       "\n",
       "    .dataframe thead th {\n",
       "        text-align: right;\n",
       "    }\n",
       "</style>\n",
       "<table border=\"1\" class=\"dataframe\">\n",
       "  <thead>\n",
       "    <tr style=\"text-align: right;\">\n",
       "      <th></th>\n",
       "      <th>Probability of Default</th>\n",
       "      <th>Expected Loss Given Default</th>\n",
       "      <th>Credit Spread</th>\n",
       "      <th>Approximated Credit Spread</th>\n",
       "      <th>Absolute Error</th>\n",
       "      <th>Relative Error</th>\n",
       "    </tr>\n",
       "  </thead>\n",
       "  <tbody>\n",
       "    <tr>\n",
       "      <th>1</th>\n",
       "      <td>0.43054</td>\n",
       "      <td>23.7266</td>\n",
       "      <td>0.135502</td>\n",
       "      <td>0.102152</td>\n",
       "      <td>-0.0333499</td>\n",
       "      <td>-0.24612</td>\n",
       "    </tr>\n",
       "    <tr>\n",
       "      <th>3</th>\n",
       "      <td>0.380903</td>\n",
       "      <td>34.2697</td>\n",
       "      <td>0.0700539</td>\n",
       "      <td>0.0435115</td>\n",
       "      <td>-0.0265424</td>\n",
       "      <td>-0.378885</td>\n",
       "    </tr>\n",
       "    <tr>\n",
       "      <th>10</th>\n",
       "      <td>0.289995</td>\n",
       "      <td>46.6695</td>\n",
       "      <td>0.0315913</td>\n",
       "      <td>0.0135339</td>\n",
       "      <td>-0.0180574</td>\n",
       "      <td>-0.571593</td>\n",
       "    </tr>\n",
       "  </tbody>\n",
       "</table>\n",
       "</div>"
      ],
      "text/plain": [
       "   Probability of Default Expected Loss Given Default Credit Spread  \\\n",
       "1                 0.43054                     23.7266      0.135502   \n",
       "3                0.380903                     34.2697     0.0700539   \n",
       "10               0.289995                     46.6695     0.0315913   \n",
       "\n",
       "   Approximated Credit Spread Absolute Error Relative Error  \n",
       "1                    0.102152     -0.0333499       -0.24612  \n",
       "3                   0.0435115     -0.0265424      -0.378885  \n",
       "10                  0.0135339     -0.0180574      -0.571593  "
      ]
     },
     "metadata": {},
     "output_type": "display_data"
    }
   ],
   "source": [
    "# Question 2\n",
    "\n",
    "print (\"\\n\\nQuestion 2\")\n",
    "f = 100\n",
    "\n",
    "df = pd.DataFrame(columns=['Probability of Default', 'Expected Loss Given Default', 'Credit Spread',\n",
    "                           'Approximated Credit Spread', 'Absolute Error', 'Relative Error'])\n",
    "for t in [1, 3, 10]:\n",
    "    edf_1 = edf(v, f, mu, sigma, t)\n",
    "    cs_1 = creditSpread(v, f, r, sigma, t)\n",
    "    el_1 = expectedLoss(v, f, mu, sigma, t)\n",
    "    acs_1 = approxCreditSpread(v, f, mu, sigma, t)\n",
    "    df.loc[t,:] = ([edf_1, el_1, cs_1, acs_1, acs_1-cs_1, (acs_1-cs_1)/cs_1])\n",
    "\n",
    "display(df)"
   ]
  },
  {
   "cell_type": "markdown",
   "metadata": {},
   "source": [
    "<a id='Q3'></a>\n",
    "## Question 3: Expected Recovery"
   ]
  },
  {
   "cell_type": "code",
   "execution_count": 6,
   "metadata": {},
   "outputs": [
    {
     "name": "stdout",
     "output_type": "stream",
     "text": [
      "\n",
      "\n",
      "Question 3\n",
      "The bond price is $67.47, YTM is 16.29%, default probability is 43.43%, expected recovery is $70.55.\n"
     ]
    }
   ],
   "source": [
    "# Question 3\n",
    "\n",
    "f = 110\n",
    "t = 3\n",
    "cs_2 = creditSpread(v, f, r, sigma, t)\n",
    "y = r + cs_2\n",
    "b = math.exp(-y*t)*f\n",
    "edf_2 = edf(v, f, mu, sigma, t)\n",
    "delta = f - bsm(0, v, f, mu, sigma, t) * math.exp(mu*t) / edf(v, f, mu, sigma, t)\n",
    "print(\"\\n\\nQuestion 3\\nThe bond price is ${:.2f}, YTM is {:.2%}, default probability is {:.2%}, expected recovery is ${:.2f}.\".format(b, y, edf_2, delta))"
   ]
  },
  {
   "cell_type": "code",
   "execution_count": 7,
   "metadata": {},
   "outputs": [
    {
     "name": "stdout",
     "output_type": "stream",
     "text": [
      "59.21520519612164\n"
     ]
    }
   ],
   "source": [
    "print(debtMerton(v, f, mu, sigma, t))"
   ]
  }
 ],
 "metadata": {
  "kernelspec": {
   "display_name": "Python 3",
   "language": "python",
   "name": "python3"
  },
  "language_info": {
   "codemirror_mode": {
    "name": "ipython",
    "version": 3
   },
   "file_extension": ".py",
   "mimetype": "text/x-python",
   "name": "python",
   "nbconvert_exporter": "python",
   "pygments_lexer": "ipython3",
   "version": "3.6.5"
  }
 },
 "nbformat": 4,
 "nbformat_minor": 2
}
