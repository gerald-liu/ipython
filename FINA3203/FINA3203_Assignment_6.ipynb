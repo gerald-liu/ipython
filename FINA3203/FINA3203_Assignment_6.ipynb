{
 "cells": [
  {
   "cell_type": "markdown",
   "metadata": {},
   "source": [
    "# FINA 3203 Assignment 6\n",
    "FINA 3203 &ndash; Derivative Securities, Spring 2018, HKUST  \n",
    "LIU Weiyang, 20413306  \n",
    "[wliuax@connect.ust.hk](mailto:wliuax@connect.ust.hk)"
   ]
  },
  {
   "cell_type": "markdown",
   "metadata": {},
   "source": [
    "**Table of Contents**\n",
    "- [Question 1: Credit Spread](#Q1)\n",
    "- [Question 2: Expected Loss Given Default](#Q2)\n",
    "- [Question 3: Expected Recovery](#Q3)"
   ]
  },
  {
   "cell_type": "code",
   "execution_count": 1,
   "metadata": {},
   "outputs": [],
   "source": [
    "import math\n",
    "from scipy.stats import norm"
   ]
  },
  {
   "cell_type": "code",
   "execution_count": 2,
   "metadata": {},
   "outputs": [],
   "source": [
    "def d1(s, k, r, sigma, tau):\n",
    "    if sigma == 0 or tau == 0: return None\n",
    "    return (math.log(s/k)+(r+0.5*sigma**2)*tau)/(sigma*math.sqrt(tau))\n",
    "\n",
    "def d2(s, k, r, sigma, tau):\n",
    "    if sigma == 0 or tau == 0: return None\n",
    "    return d1(s, k, r, sigma, tau)-sigma*math.sqrt(tau)\n",
    "\n",
    "def bsm(callFlag, s, k, r, sigma, tau): # callFlag = 1 means call option\n",
    "    if sigma == 0 or tau == 0: return s\n",
    "    if callFlag:\n",
    "        return s*norm.cdf(d1(s, k, r, sigma, tau))-k*math.exp(-r*tau)*norm.cdf(d2(s, k, r, sigma, tau))\n",
    "    else:\n",
    "        return k*math.exp(-r*tau)*norm.cdf(-d2(s, k, r, sigma, tau))-s*norm.cdf(-d1(s, k, r, sigma, tau))\n",
    "\n",
    "def edf(v, f, r, sigma, t):\n",
    "    if sigma == 0 or t == 0: return 0\n",
    "    return norm.cdf(-d2(v, f, r, sigma, t))\n",
    "    \n",
    "def equityMerton(v, f, r, sigma, t): return bsm(1, v, f, r, sigma, t)\n",
    "    \n",
    "def debtMerton(v, f, r, sigma, t):\n",
    "    if sigma == 0 or t == 0: return v\n",
    "    return f*math.exp(-r*t)-bsm(0, v, f, r, sigma, t)\n",
    "\n",
    "def creditSpread(v, f, r, sigma, t):\n",
    "    return -(math.log(debtMerton(v/f, 1, r, sigma, t)))/t-r\n",
    "\n",
    "def expectedLoss(v, f, mu, sigma, t):\n",
    "    return bsm(0, v, f, mu, sigma, t) * math.exp(mu*t) / edf(v, f, mu, sigma, t)\n",
    "\n",
    "def approxCreditSpread(v, f, r, mu, sigma, t):\n",
    "    return expectedLoss(v, f, mu, sigma, t)/f * edf(v, f, r, sigma, t) / t"
   ]
  },
  {
   "cell_type": "markdown",
   "metadata": {},
   "source": [
    "**Firm Information**  \n",
    "v = \\$100, &sigma; = 40%, &mu; = 15%, q = 0, r = 8%"
   ]
  },
  {
   "cell_type": "markdown",
   "metadata": {},
   "source": [
    "<a id='Q1'></a>\n",
    "## Question 1: Credit Spread"
   ]
  },
  {
   "cell_type": "code",
   "execution_count": 3,
   "metadata": {
    "scrolled": true
   },
   "outputs": [
    {
     "name": "stdout",
     "output_type": "stream",
     "text": [
      "Question 1\n",
      "The probability of default EDF = 28.40%\n",
      "The credit spread = 2.25%\n"
     ]
    }
   ],
   "source": [
    "v = 100\n",
    "sigma = 0.4\n",
    "mu = 0.15\n",
    "r = 0.08\n",
    "\n",
    "# Question 1\n",
    "\n",
    "f_0 = 0.5 * 120\n",
    "t = 5\n",
    "edf_0 = edf(v, f_0, r, sigma, t)\n",
    "cs_0 = creditSpread(v, f_0, r, sigma, t)\n",
    "print (\"Question 1\\nThe probability of default EDF = {:.2%}\\nThe credit spread = {:.2%}\".format(edf_0, cs_0))"
   ]
  },
  {
   "cell_type": "markdown",
   "metadata": {},
   "source": [
    "<a id='Q2'></a>\n",
    "## Question 2: Expected Loss Given Default"
   ]
  },
  {
   "cell_type": "code",
   "execution_count": 4,
   "metadata": {},
   "outputs": [
    {
     "name": "stdout",
     "output_type": "stream",
     "text": [
      "\n",
      "\n",
      "Question 2\n",
      "For T = 1:\n",
      "The credit spread is 43.28%, the probability of default is 88.00%.\n",
      "The expected loss given default is $59.78.\n",
      "The approximated credit spread given default is 32.88%, the absolute and relative errors are -10.41%, -24.04% respectively.\n",
      "\n",
      "For T = 3:\n",
      "The credit spread is 8.29%, the probability of default is 55.47%.\n",
      "The expected loss given default is $39.45.\n",
      "The approximated credit spread given default is 6.63%, the absolute and relative errors are -1.66%, -20.05% respectively.\n",
      "\n",
      "For T = 10:\n",
      "The credit spread is 3.47%, the probability of default is 53.00%.\n",
      "The expected loss given default is $52.38.\n",
      "The approximated credit spread given default is 2.52%, the absolute and relative errors are -0.94%, -27.24% respectively.\n",
      "\n"
     ]
    }
   ],
   "source": [
    "# Question 2\n",
    "\n",
    "print (\"\\n\\nQuestion 2\")\n",
    "f_1 = 100\n",
    "\n",
    "for t in [1, 3, 10]:\n",
    "    if t <= 1:\n",
    "        f = f_0 + f_1\n",
    "    else:\n",
    "        f = f_0 + 0.5*f_1\n",
    "    edf_1 = edf(v, f, r, sigma, t)\n",
    "    cs_1 = creditSpread(v, f, r, sigma, t)\n",
    "    el_1 = expectedLoss(v, f, mu, sigma, t)\n",
    "    acs_1 = approxCreditSpread(v, f, r, mu, sigma, t)\n",
    "    print(\"For T = {}:\".format(t))\n",
    "    print(\"The credit spread is {:.2%}, the probability of default is {:.2%}.\".format(cs_1, edf_1))\n",
    "    print(\"The expected loss given default is ${:.2f}.\".format(el_1))\n",
    "    print(\"The approximated credit spread given default is {:.2%}, the absolute and relative errors are {:.2%}, {:.2%} respectively.\\n\".format(acs_1, acs_1-cs_1, (acs_1-cs_1)/cs_1))"
   ]
  },
  {
   "cell_type": "markdown",
   "metadata": {},
   "source": [
    "<a id='Q3'></a>\n",
    "## Question 3: Expected Recovery"
   ]
  },
  {
   "cell_type": "code",
   "execution_count": 5,
   "metadata": {},
   "outputs": [
    {
     "name": "stdout",
     "output_type": "stream",
     "text": [
      "\n",
      "\n",
      "Question 3\n",
      "The bond price is $66.16, YTM is 16.95%, default probability is 57.99%, expected recovery is $72.86.\n"
     ]
    }
   ],
   "source": [
    "# Question 3\n",
    "\n",
    "f_2 = 110\n",
    "t = 3\n",
    "f = f_0 + 0.5*f_2\n",
    "cs_2 = creditSpread(v, f, r, sigma, t)\n",
    "y = r + cs_2\n",
    "b = math.exp(-y*t)*f_2\n",
    "edf_2 = edf(v, f, r, sigma, t)\n",
    "delta = f - bsm(0, v, f, mu, sigma, t) * math.exp(mu*t) / edf(v, f, mu, sigma, t)\n",
    "print(\"\\n\\nQuestion 3\\nThe bond price is ${:.2f}, YTM is {:.2%}, default probability is {:.2%}, expected recovery is ${:.2f}.\".format(b, y, edf_2, delta))"
   ]
  }
 ],
 "metadata": {
  "kernelspec": {
   "display_name": "Python 3",
   "language": "python",
   "name": "python3"
  },
  "language_info": {
   "codemirror_mode": {
    "name": "ipython",
    "version": 3
   },
   "file_extension": ".py",
   "mimetype": "text/x-python",
   "name": "python",
   "nbconvert_exporter": "python",
   "pygments_lexer": "ipython3",
   "version": "3.6.4"
  }
 },
 "nbformat": 4,
 "nbformat_minor": 2
}
