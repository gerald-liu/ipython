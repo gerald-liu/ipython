{
 "cells": [
  {
   "cell_type": "code",
   "execution_count": 1,
   "metadata": {
    "collapsed": true
   },
   "outputs": [],
   "source": [
    "import numpy as np\n",
    "import pandas as pd\n",
    "import matplotlib.pyplot as plt\n",
    "from scipy.stats import norm\n",
    "from scipy.stats import probplot\n",
    "import random\n",
    "from scipy.stats import chi2_contingency\n",
    "import statsmodels.formula.api as smf\n",
    "from sympy import solve, symbols\n",
    "%matplotlib inline"
   ]
  },
  {
   "cell_type": "markdown",
   "metadata": {},
   "source": [
    "# 1. Distributions (constructed by np.random)"
   ]
  },
  {
   "cell_type": "code",
   "execution_count": null,
   "metadata": {
    "collapsed": true
   },
   "outputs": [],
   "source": [
    "np.random.chioce(array, size=n, replace=True) # sample from the array  # when replace=False <=> random.sample(array, size)\n",
    "\n",
    "np.random.normal(mean, std, size=n) # Normal Distribution\n",
    "np.random.uniform(low, high, size=n) # Continuous Uniform Distribution\n",
    "np.random.randint(low, high, size=n) # Discrete Uniform Distribution, randomn integers from [low, high]\n",
    "\n",
    "np.random.randn(size) # <=> np.random.standard_normal(size) , sample of z-distribution i.e. N ~ (0, 1)\n",
    "np.random.ranf(size) # random floats in [0, 1), i.e. Unif[0,1)   # <=> np.random.random <=> np.random.sample\n",
    "# Sample from Unif[a,b) : np.random.ranf(size) * (b-a) + a  <=> np.random.uniform(low, high, size=n)"
   ]
  },
  {
   "cell_type": "markdown",
   "metadata": {},
   "source": [
    "## 1.1 Discrete Uniform Distribution"
   ]
  },
  {
   "cell_type": "code",
   "execution_count": 15,
   "metadata": {
    "collapsed": false
   },
   "outputs": [
    {
     "name": "stdout",
     "output_type": "stream",
     "text": [
      "7    125916\n",
      "8    125038\n",
      "4    125018\n",
      "2    124966\n",
      "5    124920\n",
      "3    124861\n",
      "6    124724\n",
      "9    124557\n",
      "dtype: int64\n"
     ]
    },
    {
     "data": {
      "image/png": "[encoded data removed]",
      "text/plain": [
       "<matplotlib.figure.Figure at 0xeb27d30>"
      ]
     },
     "metadata": {},
     "output_type": "display_data"
    }
   ],
   "source": [
    "DUdis=pd.Series(np.random.randint(1,10,size=1000000))\n",
    "plt.subplot(1,2,1)\n",
    "DUdis_hist=plt.hist(DUdis,bins=100,normed=True)\n",
    "print DURV.value_counts()\n",
    "xticks=np.array(DUdis.value_counts().index)\n",
    "x_DU=xticks-1\n",
    "y_DU=DUdis.value_counts()/1000000.0\n",
    "width=1\n",
    "plt.subplot(1,2,2)\n",
    "DUdis_bar=plt.bar(x_DU,y_DU,width=width)\n",
    "plt.xlim(0,10)\n",
    "xticks_=plt.xticks(x_DU+0.5*width, xticks)\n",
    "# We don't draw histogram here, because there are only lines."
   ]
  },
  {
   "cell_type": "code",
   "execution_count": 18,
   "metadata": {
    "collapsed": false
   },
   "outputs": [
    {
     "name": "stdout",
     "output_type": "stream",
     "text": [
      "The mean is 5.002665\n",
      "The standard deviation is 2.58315134048\n"
     ]
    }
   ],
   "source": [
    "print 'The mean is',DUdis.mean()\n",
    "print 'The standard deviation is',DUdis.std()"
   ]
  },
  {
   "cell_type": "markdown",
   "metadata": {},
   "source": [
    "## 1.2 Continuous Uniform Distribution"
   ]
  },
  {
   "cell_type": "code",
   "execution_count": 17,
   "metadata": {
    "collapsed": false,
    "scrolled": false
   },
   "outputs": [
    {
     "data": {
      "image/png": "[encoded data removed]",
      "text/plain": [
       "<matplotlib.figure.Figure at 0xed88a20>"
      ]
     },
     "metadata": {},
     "output_type": "display_data"
    }
   ],
   "source": [
    "CUdis=np.random.uniform(low=2.0,high=9.0,size=1000000)\n",
    "CUdis_hist=plt.hist(CUdis,bins=100,normed=True)"
   ]
  },
  {
   "cell_type": "markdown",
   "metadata": {},
   "source": [
    "## 1.3 Normal Distribution"
   ]
  },
  {
   "cell_type": "code",
   "execution_count": 19,
   "metadata": {
    "collapsed": false,
    "scrolled": false
   },
   "outputs": [
    {
     "data": {
      "image/png": "[encoded data removed]",
      "text/plain": [
       "<matplotlib.figure.Figure at 0xd3e8400>"
      ]
     },
     "metadata": {},
     "output_type": "display_data"
    }
   ],
   "source": [
    "Ndis=np.random.normal(10,5,size=1000000)\n",
    "Ndis_hist=plt.hist(Ndis,bins=100,normed=True)"
   ]
  },
  {
   "cell_type": "markdown",
   "metadata": {},
   "source": [
    "# 2. Probability and Quantiles"
   ]
  },
  {
   "cell_type": "markdown",
   "metadata": {},
   "source": [
    "## 2.1.1 Probability for normal distribution\n",
    "**norm.cdf( value, mean, std )** $= P(X<value)$.</p>\n",
    "1-**norm.cdf( value, mean, std )** $= P(X>value)$."
   ]
  },
  {
   "cell_type": "markdown",
   "metadata": {},
   "source": [
    "## 2.1.2 Probability for any distribution\n",
    "**Run Simulation.**</p>\n",
    "For $P(a<X<b)$"
   ]
  },
  {
   "cell_type": "code",
   "execution_count": 21,
   "metadata": {
    "collapsed": false
   },
   "outputs": [
    {
     "name": "stdout",
     "output_type": "stream",
     "text": [
      "The probability is 0.42901\n"
     ]
    }
   ],
   "source": [
    "# take normal distribution as an example, a=0, b=7\n",
    "A= np.random.normal(5,6,size=1000000)\n",
    "B=A[A>0]\n",
    "C=B[B<7]\n",
    "print 'The probability is',len(C)/float(len(A))"
   ]
  },
  {
   "cell_type": "markdown",
   "metadata": {},
   "source": [
    "## 2.2.1 Quantiles for normal distribution\n",
    "**norm.ppf( percentage, mean, std )**$=k$, when $P(X<k)=$ percentage."
   ]
  },
  {
   "cell_type": "code",
   "execution_count": 5,
   "metadata": {
    "collapsed": false,
    "scrolled": false
   },
   "outputs": [
    {
     "name": "stdout",
     "output_type": "stream",
     "text": [
      "6.62755124902\n",
      "10.0\n",
      "13.372448751\n"
     ]
    }
   ],
   "source": [
    "print norm.ppf(0.25, 10, 5)\n",
    "print norm.ppf(0.5, 10, 5)\n",
    "print norm.ppf(0.75, 10, 5)"
   ]
  },
  {
   "cell_type": "markdown",
   "metadata": {},
   "source": [
    "### Value at Risk (VaR)\n",
    "VaR at the level of pct $=$ **norm.ppf** ( pct, mean, std )</p>\n",
    "It means there's only *pct* chance to lose more than VaR."
   ]
  },
  {
   "cell_type": "markdown",
   "metadata": {},
   "source": [
    "## 2.2.2 Quantiles for continuous uniform distribution\n",
    "For **Unif[a,b)**:\n",
    "$$Probability\\space Density=\\frac{1}{b-a}$$\n",
    "\n",
    "$$p\\% \\space Quantile=a + \\frac{p\\%}{Probability\\space Density} = a + p\\% * (b-a)$$"
   ]
  },
  {
   "cell_type": "markdown",
   "metadata": {},
   "source": [
    "Example:</p>Suppose variable X follows continuous uniform  distribution on $[1,10]$. Find $k$ such that $P(X\\le k)$ = 0.05."
   ]
  },
  {
   "cell_type": "code",
   "execution_count": 7,
   "metadata": {
    "collapsed": false
   },
   "outputs": [
    {
     "name": "stdout",
     "output_type": "stream",
     "text": [
      "1.45\n"
     ]
    }
   ],
   "source": [
    "# Consider the size extremely large\n",
    "prob=0.05\n",
    "prob_density=1.0/(10-1)\n",
    "k1=1.0+prob/prob_density\n",
    "print k1"
   ]
  },
  {
   "cell_type": "markdown",
   "metadata": {},
   "source": [
    "## 2.2.3 Quantiles for any distribution\n",
    "distribution=**pd.Series**(distribution)</p>\n",
    "**distribution.quantile( q = [pct1, pct2, pct3] )**"
   ]
  },
  {
   "cell_type": "code",
   "execution_count": 6,
   "metadata": {
    "collapsed": false
   },
   "outputs": [
    {
     "name": "stdout",
     "output_type": "stream",
     "text": [
      "0.25     3573.269435\n",
      "0.50     6400.472643\n",
      "0.75    10045.847724\n",
      "dtype: float64\n"
     ]
    }
   ],
   "source": [
    "# Quantiles for any distribution\n",
    "norm_squared=pd.Series((np.random.normal(80,30,10000000))**2)\n",
    "print norm_squared.quantile(q=[0.25,0.5,0.75])"
   ]
  },
  {
   "cell_type": "markdown",
   "metadata": {},
   "source": [
    "# 3. Sampling Distributions"
   ]
  },
  {
   "cell_type": "raw",
   "metadata": {},
   "source": [
    "mean_list=[]\n",
    "for k in range(10000):\n",
    "    sample=np.random.choice(population,size,replace=True)\n",
    "    mean_list.append(sample.mean())\n",
    "sampling_hist=plt.hist(mean_list,bins=100,normed=True)\n",
    "\n",
    "# When calculating probability (as in 3.1 Method 2), make an ARRAY!"
   ]
  },
  {
   "cell_type": "markdown",
   "metadata": {},
   "source": [
    "## 3.1 Population is Normal\n",
    "If population is normal $(\\mu,\\sigma^2)$ , sampling distribution will be normal too: $(\\mu, \\frac{\\sigma^2}{n})$ "
   ]
  },
  {
   "cell_type": "markdown",
   "metadata": {},
   "source": [
    "### 3.1.1 Probability"
   ]
  },
  {
   "cell_type": "markdown",
   "metadata": {},
   "source": [
    "**Question:** The monthly salary of staffs in HKUST, follows a normal distrubution with $\\mu=50,000$ and $\\sigma=30,000$. We randomly select 15 professors, what is the chance that their average salary is higher 55000?"
   ]
  },
  {
   "cell_type": "markdown",
   "metadata": {},
   "source": [
    "### Method 1: norm.cdf (value, mean, std)\n",
    "$$P(\\bar{X}>55,000)=1-P(\\bar{X}<55,000)=1-\\space norm.cdf (55000, sample\\space mean, SEM)$$ <p>\n",
    "$$SEM=\\frac{\\sigma}{\\sqrt n}$$"
   ]
  },
  {
   "cell_type": "code",
   "execution_count": 22,
   "metadata": {
    "collapsed": false
   },
   "outputs": [
    {
     "name": "stdout",
     "output_type": "stream",
     "text": [
      "The chance is 0.259302508214\n"
     ]
    }
   ],
   "source": [
    "sem=30000/np.sqrt(15)\n",
    "print 'The chance is', 1-norm.cdf(55000, 50000, sem)"
   ]
  },
  {
   "cell_type": "markdown",
   "metadata": {},
   "source": [
    "### Method 2: Simulation - making an array of sample mean (the sampling distribution)\n",
    "$$Prob=\\frac{len(required)}{len(mean\\space array)}$$"
   ]
  },
  {
   "cell_type": "code",
   "execution_count": 27,
   "metadata": {
    "collapsed": false,
    "scrolled": true
   },
   "outputs": [
    {
     "name": "stdout",
     "output_type": "stream",
     "text": [
      " The chance is 0.259489\n"
     ]
    }
   ],
   "source": [
    "mean_list=[]\n",
    "for k in range(1000000):\n",
    "    sample=np.random.normal(50,30,size=15)\n",
    "    mean_list.append(sample.mean())\n",
    "mean_array=np.array(mean_list)\n",
    "required_array=mean_array[mean_array>55]\n",
    "print 'The chance is',len(required_array)/float(len(mean_array))"
   ]
  },
  {
   "cell_type": "markdown",
   "metadata": {},
   "source": [
    "### 3.1.2 Quantiles\n",
    "As the sampling distribution is normal, we do as 2.2.1, use **norm.ppf( percentage, mean, std )**"
   ]
  },
  {
   "cell_type": "markdown",
   "metadata": {},
   "source": [
    "## 3.2 Population is not Normal\n",
    "**Central Limit Theorem**: The sample mean will be more and more like normal even if it is randomly drawed from a general population, as long as we increase the sample size.<p>\n",
    "The sample mean is approximately normal ($\\mu, \\frac{\\sigma^2}{n}$)\n",
    "<p>"
   ]
  },
  {
   "cell_type": "markdown",
   "metadata": {},
   "source": [
    "### 3.2.1 Probability"
   ]
  },
  {
   "cell_type": "code",
   "execution_count": 36,
   "metadata": {
    "collapsed": false,
    "scrolled": true
   },
   "outputs": [
    {
     "name": "stdout",
     "output_type": "stream",
     "text": [
      "The chance of <11 is 0.3576\n"
     ]
    },
    {
     "data": {
      "text/plain": [
       "<matplotlib.legend.Legend at 0x1636ed30>"
      ]
     },
     "execution_count": 36,
     "metadata": {},
     "output_type": "execute_result"
    },
    {
     "data": {
      "image/png": "[encoded data removed]",
      "text/plain": [
       "<matplotlib.figure.Figure at 0x169332e8>"
      ]
     },
     "metadata": {},
     "output_type": "display_data"
    }
   ],
   "source": [
    "pop=[1,2,3,4,5,6,9,10,12,23,21,12,30,23]\n",
    "mean_list=[]\n",
    "for k in range(10000):\n",
    "    sample=np.random.choice(pop,40,replace=True)\n",
    "    mean_list.append(sample.mean())\n",
    "sampling_hist=plt.hist(mean_list,bins=100,color='y',normed=True)\n",
    "mean_array=np.array(mean_list)\n",
    "required_array=mean_array[mean_array<11]\n",
    "print 'The chance of <11 is',len(required_array)/float(len(mean_array))\n",
    "plt.title(\"Distribution of sample mean\")\n",
    "plt.xlabel(r\"$\\bar{x}$\")\n",
    "plt.axvline(x=11,color='b',linewidth=2,label=r'$\\bar{x}=11$')\n",
    "plt.legend()"
   ]
  },
  {
   "cell_type": "markdown",
   "metadata": {},
   "source": [
    "### 3.2.2 Quantiles\n",
    "As the sampling distribution is not certainly normal, we do as 2.2.3, use **Series.quantile( q = [pct1, pct2, pct3] )**"
   ]
  },
  {
   "cell_type": "code",
   "execution_count": 37,
   "metadata": {
    "collapsed": false
   },
   "outputs": [
    {
     "name": "stdout",
     "output_type": "stream",
     "text": [
      "0.25    10.55\n",
      "0.50    11.50\n",
      "0.75    12.45\n",
      "dtype: float64\n"
     ]
    }
   ],
   "source": [
    "mean_series=pd.Series(mean_array)\n",
    "print mean_series.quantile(q=[0.25,0.5,0.75])"
   ]
  },
  {
   "cell_type": "markdown",
   "metadata": {},
   "source": [
    "# 4. Estimation of the Population Mean by Sampling"
   ]
  },
  {
   "cell_type": "markdown",
   "metadata": {},
   "source": [
    "Either population is normal, or population is not normal but **sample size is large ($n>30$, really depends)**:</p>\n",
    "$\\bar{x}\\rightarrow N(\\mu,\\frac{\\sigma^2}{n})$, the 100(1-$\\alpha$)% confidence interval for the population mean $\\mu$ is\n",
    "$$\\left[\\bar{x}-z_{\\frac{\\alpha}{2}}\\frac{\\sigma}{\\sqrt{n}},\\bar{x}+z_{\\frac{\\alpha}{2}}\\frac{\\sigma}{\\sqrt{n}}\\right]$$"
   ]
  },
  {
   "cell_type": "markdown",
   "metadata": {},
   "source": [
    "## 4.1 Population is Normal"
   ]
  },
  {
   "cell_type": "markdown",
   "metadata": {},
   "source": [
    "If $\\sigma$ is known, the CI for sample mean is <p>$$\\left[\\bar{x}-z_{\\frac{\\alpha}{2}}\\frac{\\sigma}{\\sqrt{n}},\\bar{x}+z_{\\frac{\\alpha}{2}}\\frac{\\sigma}{\\sqrt{n}}\\right]$$ <p>\n",
    "If $\\sigma$ is unknown, use sample standard deviation instead, the CI is:<p>\n",
    "$$\\left[\\bar{x}-z_{\\frac{\\alpha}{2}}\\frac{s}{\\sqrt{n}},\\bar{x}+z_{\\frac{\\alpha}{2}}\\frac{s}{\\sqrt{n}}\\right]$$ <p>\n",
    "where $z_{\\frac{\\alpha}{2}}$ = **norm.ppf**(1-$\\frac{\\alpha}{2}$,0,1) , $s=$ **sample.std(ddof=1)**"
   ]
  },
  {
   "cell_type": "code",
   "execution_count": null,
   "metadata": {
    "collapsed": true
   },
   "outputs": [],
   "source": [
    "# pop normal, size=40, 90% CI\n",
    "# pop std known\n",
    "sample=np.random.choice(pop,40,replace=True)\n",
    "left=sample.mean()-norm.ppf(0.95,0,1)*pop.std()/np.sqrt(40)\n",
    "right=sample.mean()+norm.ppf(0.95,0,1)*pop.std()/np.sqrt(40)\n",
    "print 'The 92% confidence interval for the mean of X3 is [{}, {}]'.format(left,right)\n",
    "# pop std unknown\n",
    "sample=np.random.choice(pop,40,replace=True)\n",
    "left=sample.mean()-norm.ppf(0.95,0,1)*sample.std()/np.sqrt(40)\n",
    "right=sample.mean()+norm.ppf(0.95,0,1)*sample.std()/np.sqrt(40)\n",
    "print 'The 92% confidence interval for the mean of X3 is [{}, {}]'.format(left,right)"
   ]
  },
  {
   "cell_type": "markdown",
   "metadata": {},
   "source": [
    "## 4.2 Population is not Normal"
   ]
  },
  {
   "cell_type": "markdown",
   "metadata": {},
   "source": [
    "If $\\sigma$ is known, given $n>30$, the CI for sample mean is <p>$$\\left[\\bar{x}-z_{\\frac{\\alpha}{2}}\\frac{\\sigma}{\\sqrt{n}},\\bar{x}+z_{\\frac{\\alpha}{2}}\\frac{\\sigma}{\\sqrt{n}}\\right]$$ <p>\n",
    "If $\\sigma$ is unknown, given $n>30$, the CI for sample mean is <p>$$\\left[\\bar{x}-t_{\\frac{\\alpha}{2},\\space (n-1)}\\frac{s}{\\sqrt{n}},\\bar{x}+t_{\\frac{\\alpha}{2},\\space (n-1)}\\frac{s}{\\sqrt{n}}\\right]$$ <p>\n",
    "If $\\sigma$ is unknown, given n **large enough** (now we consider $n>30$ enough), the CI for sample mean is <p>$$\\left[\\bar{x}-z_{\\frac{\\alpha}{2}}\\frac{s}{\\sqrt{n}},\\bar{x}+z_{\\frac{\\alpha}{2}}\\frac{s}{\\sqrt{n}}\\right]$$ <p>\n",
    "where $z_{\\frac{\\alpha}{2}}$ = **norm.ppf**(1-$\\frac{\\alpha}{2}$,0,1) , $s=$ **sample.std(ddof=1)**. As for $t_{\\frac{\\alpha}{2},\\space (n-1)}$, the t-distribution calculator or the t-table is needed."
   ]
  },
  {
   "cell_type": "code",
   "execution_count": null,
   "metadata": {
    "collapsed": true
   },
   "outputs": [],
   "source": [
    "# pop not normal, size=40, 90% CI\n",
    "# pop std known, size=40>30\n",
    "sample=np.random.choice(pop,40,replace=True)\n",
    "left=sample.mean()-norm.ppf(0.95,0,1)*pop.std()/np.sqrt(40)\n",
    "right=sample.mean()+norm.ppf(0.95,0,1)*pop.std()/np.sqrt(40)\n",
    "print 'The 92% confidence interval for the mean of X3 is [{}, {}]'.format(left,right)\n",
    "# pop std unknown, size=40 considered not large enough\n",
    "sample=np.random.choice(pop,40,replace=True)\n",
    "left=sample.mean()-1.685*sample.std()/np.sqrt(40)\n",
    "right=sample.mean()+1.685.ppf(0.95,0,1)*sample.std()/np.sqrt(40)\n",
    "print 'The 92% confidence interval for the mean of X3 is [{}, {}]'.format(left,right)\n",
    "# pop std unknown, size=40>30 and considered large enough\n",
    "sample=np.random.choice(pop,40,replace=True)\n",
    "left=sample.mean()-norm.ppf(0.95,0,1)*sample.std()/np.sqrt(40)\n",
    "right=sample.mean()+norm.ppf(0.95,0,1)*sample.std()/np.sqrt(40)\n",
    "print 'The 92% confidence interval for the mean of X3 is [{}, {}]'.format(left,right)"
   ]
  }
 ],
 "metadata": {
  "anaconda-cloud": {},
  "kernelspec": {
   "display_name": "Python [Root]",
   "language": "python",
   "name": "Python [Root]"
  },
  "language_info": {
   "codemirror_mode": {
    "name": "ipython",
    "version": 2
   },
   "file_extension": ".py",
   "mimetype": "text/x-python",
   "name": "python",
   "nbconvert_exporter": "python",
   "pygments_lexer": "ipython2",
   "version": "2.7.12"
  }
 },
 "nbformat": 4,
 "nbformat_minor": 0
}
