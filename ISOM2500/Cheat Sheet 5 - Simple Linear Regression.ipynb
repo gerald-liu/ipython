{
 "cells": [
  {
   "cell_type": "code",
   "execution_count": 1,
   "metadata": {
    "collapsed": true
   },
   "outputs": [],
   "source": [
    "import numpy as np\n",
    "import pandas as pd\n",
    "import matplotlib.pyplot as plt\n",
    "from scipy.stats import norm\n",
    "import random\n",
    "from scipy.stats import chi2_contingency\n",
    "import statsmodels.formula.api as smf\n",
    "from sympy import solve, symbols\n",
    "%matplotlib inline"
   ]
  },
  {
   "cell_type": "markdown",
   "metadata": {},
   "source": [
    "# Simple Linear Regression model\n",
    "\n",
    "Simple linear regression is an approach for predicting a **quantitative response** using a **single feature** (or \"predictor\" or \"input variable\"). It takes the following form: <p>\n",
    "$$Y= \\beta_0 +\\beta_1 * X+\\epsilon$$\n",
    "\n",
    "What does each term represent?\n",
    "- $Y$ is the response\n",
    "- $X$ is the feature\n",
    "- $\\beta_0$ is the intercept\n",
    "- $\\beta_1$ is the coefficient for X\n",
    "- $\\epsilon$ is noise.\n",
    "\n",
    "Together, $\\beta_0$ and $\\beta_1$ are called the **model coefficients**. <p>\n",
    "And because $E(\\epsilon)=0$, we have\n",
    "$$E(Y)=\\beta_0 +\\beta_1 * E(X)$$"
   ]
  },
  {
   "cell_type": "markdown",
   "metadata": {},
   "source": [
    "# Prediction Equation\n",
    "$$\\hat{y}=b_0+b_1x$$\n",
    "- $\\hat{y}$: predicted value\n",
    "- $b_0$: estimated value of $\\beta_0$\n",
    "- $b_1$: estimated value of $\\beta_1$"
   ]
  },
  {
   "cell_type": "markdown",
   "metadata": {},
   "source": [
    "Generally speaking, model coefficients are estimated using the **least squares criterion**, which means we are find the line (mathematically) which minimizes the **sum of squared residuals** (or \"sum of squared errors\", **SSE**):\n",
    "$$SSE=\\sum_{i=1}^n(y_i-\\hat{y}_i)^2$$<p>\n",
    "that is $$SSE=\\sum_{i=1}^n(y_i-b_0-b_1x_i)^2$$<p>\n",
    "$$b_1=\\frac{S_{XY}}{S_{XX}}, b_0=\\bar{y}-b_1\\bar{x}$$\n",
    "where $$S_{XX}=\\sum_{i=1}^n(x_i-\\bar{x})^2,~ S_{XY}=\\sum_{i=1}^n[(y_i-\\bar{y})(x_i-\\bar{x})]$$\n",
    "\n",
    "We need to define a function to compute **SSE**."
   ]
  },
  {
   "cell_type": "markdown",
   "metadata": {},
   "source": [
    "**Variance of model:** With repeated sampling, the variation of position of line. </p>\n",
    "**Bias of model:** goodness of captuing the true relationship.<p>\n",
    "Linear Regression Model is **low-variance** and **high-bias** model. </p>\n",
    "A closely related concept is **confidence intervals** for the model efficicents."
   ]
  },
  {
   "cell_type": "markdown",
   "metadata": {},
   "source": [
    "For $\\beta_0$, CI is $[b_0-SE,b_0+SE]$</p>\n",
    "For $\\beta_1$, CI is $[b_1-SE,b_1+SE]$<p>\n",
    "(SE: Standard Error)<p>\n",
    "If we know the CI is [a,b], i.e. $b_0-SE=a$, $b_0+SE=b$, we can deduce that $b_0=\\frac{a+b}{2}$, $SE=\\frac{b-a}{2}$"
   ]
  },
  {
   "cell_type": "code",
   "execution_count": 3,
   "metadata": {
    "collapsed": false
   },
   "outputs": [
    {
     "name": "stdout",
     "output_type": "stream",
     "text": [
      "    X\n",
      "0  10\n",
      "1   5\n",
      "2  11\n",
      "3  12\n",
      "4  13\n",
      "5  25\n",
      "6  15\n",
      "54.1928745503 2.32998723454\n",
      "[  77.4927469    65.84281072   79.82273413   82.15272136   84.4827086\n",
      "  112.44255541   89.14268307]\n",
      "[  82.15272136  107.78258094   79.82273413   65.84281072]\n"
     ]
    }
   ],
   "source": [
    "X=[1,1,1,2,2,3,4,5,6,6,7,8,9,1,1,1,2,4,5,5,20,16,15,15,6]\n",
    "Y=[50,60,60,55,55,60,70,65,70,85,85,85,50,55,40,50,70,60,70,75,100,90,85,90,60]\n",
    "predict_x=[10,5,11,12,13,25,15]\n",
    "newhours=[12,23,11,5]\n",
    "data1=pd.DataFrame({\"X\":X,\"Y\":Y})\n",
    "mm=smf.ols(formula='Y ~ X', data=data1).fit()\n",
    "test_X=pd.DataFrame({\"X\":predict_x}) # Use the same feature name\n",
    "test_new=pd.DataFrame({\"X\":newhours})# use the same feature name as that used when you build the model\n",
    "print test_X\n",
    "print mm.params[0], mm.params[1]\n",
    "print mm.predict(test_X)\n",
    "print mm.predict(test_new)"
   ]
  },
  {
   "cell_type": "code",
   "execution_count": 5,
   "metadata": {
    "collapsed": false
   },
   "outputs": [
    {
     "name": "stdout",
     "output_type": "stream",
     "text": [
      "                   0          1\n",
      "Intercept  46.242656  62.143093\n",
      "X           1.317693   3.342282\n",
      "                   0          1\n",
      "Intercept  48.334551  60.051198\n",
      "X           1.584052   3.075923\n",
      "                   0          1\n",
      "Intercept  48.334551  60.051198\n",
      "X           1.584052   3.075923\n",
      "<class 'pandas.core.frame.DataFrame'>\n",
      "0    46.242656\n",
      "1    62.143093\n",
      "Name: Intercept, dtype: float64\n"
     ]
    }
   ],
   "source": [
    "print mm.conf_int(0.01) # alpha=0.01 , hence confidence level is 0.99\n",
    "print mm.conf_int() # 95% confidence level\n",
    "print mm.conf_int(0.05) # 95% confidence level \n",
    "print type(mm.conf_int(0.05))\n",
    "print mm.conf_int(0.01).ix['Intercept'] # 99% confidence interval for beta0"
   ]
  },
  {
   "cell_type": "code",
   "execution_count": 6,
   "metadata": {
    "collapsed": false,
    "scrolled": true
   },
   "outputs": [
    {
     "data": {
      "text/plain": [
       "0.64480108478847975"
      ]
     },
     "execution_count": 6,
     "metadata": {},
     "output_type": "execute_result"
    }
   ],
   "source": [
    "mm.rsquared"
   ]
  },
  {
   "cell_type": "code",
   "execution_count": null,
   "metadata": {
    "collapsed": true
   },
   "outputs": [],
   "source": [
    "def RMSE(x,y,lm):\n",
    "    y_predicted=lm.params[0]+lm.params[1]*x\n",
    "    return np.sqrt(((y-y_predicted)**2).sum()/(len(x)-2))"
   ]
  }
 ],
 "metadata": {
  "anaconda-cloud": {},
  "kernelspec": {
   "display_name": "Python [Root]",
   "language": "python",
   "name": "Python [Root]"
  },
  "language_info": {
   "codemirror_mode": {
    "name": "ipython",
    "version": 2
   },
   "file_extension": ".py",
   "mimetype": "text/x-python",
   "name": "python",
   "nbconvert_exporter": "python",
   "pygments_lexer": "ipython2",
   "version": "2.7.12"
  }
 },
 "nbformat": 4,
 "nbformat_minor": 0
}
