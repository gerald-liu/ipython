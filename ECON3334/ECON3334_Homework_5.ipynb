{
 "cells": [
  {
   "cell_type": "code",
   "execution_count": 1,
   "metadata": {},
   "outputs": [],
   "source": [
    "import numpy as np\n",
    "import pandas as pd\n",
    "import statsmodels.formula.api as smf\n",
    "import matplotlib.pyplot as plt\n",
    "import math\n",
    "from scipy.stats import norm\n",
    "from scipy.optimize import brentq, fmin\n",
    "from tabulate import tabulate"
   ]
  },
  {
   "cell_type": "code",
   "execution_count": 2,
   "metadata": {},
   "outputs": [],
   "source": [
    "# data = pd.read_csv('F:\\workspace\\ipython\\ECON3334\\caschool.csv')\n",
    "df = pd.read_csv(\"https://raw.githubusercontent.com/gerald-liu/ipython/master/ECON3334/caschool.csv\",\n",
    "                 usecols=['testscr', 'str', 'el_pct', 'meal_pct', 'avginc'])"
   ]
  },
  {
   "cell_type": "code",
   "execution_count": 3,
   "metadata": {
    "inputHidden": false,
    "outputHidden": false
   },
   "outputs": [],
   "source": [
    "df['str_X_elpct'] = df['str'].mul(df['el_pct'])\n",
    "df['loginc'] = df['avginc'].apply(np.log)\n",
    "df = df[['testscr', 'str', 'el_pct', 'str_X_elpct', 'meal_pct', 'loginc']]"
   ]
  },
  {
   "cell_type": "code",
   "execution_count": 5,
   "metadata": {
    "scrolled": true
   },
   "outputs": [
    {
     "name": "stdout",
     "output_type": "stream",
     "text": [
      "\\begin{tabular}{lrrrrrr}\n",
      "\\hline\n",
      "             &   Coefficient &         SE &    t-stat &     p-value &     95\\%CI\\_LB &      95\\%CI\\_UB \\\\\n",
      "\\hline\n",
      " Intercept   &   663.158     & 10.0543    &  65.9573  & 0           & 643.451      & 682.864       \\\\\n",
      " str         &    -0.946666  &  0.346875  &  -2.72913 & 0.00635018  &  -1.62653    &  -0.266804    \\\\\n",
      " el\\_pct      &    -0.481824  &  0.246129  &  -1.95761 & 0.0502763   &  -0.964228   &   0.000580411 \\\\\n",
      " str\\_X\\_elpct &     0.0154803 &  0.012334  &   1.2551  & 0.209444    &  -0.00869384 &   0.0396545   \\\\\n",
      " meal\\_pct    &    -0.40138   &  0.0332698 & -12.0644  & 1.62858e-33 &  -0.466587   &  -0.336172    \\\\\n",
      " loginc      &    11.4331    &  1.81773   &   6.28974 & 3.17999e-10 &   7.87038    &  14.9958      \\\\\n",
      "\\hline\n",
      "\\end{tabular}\n"
     ]
    }
   ],
   "source": [
    "lm = smf.ols(formula='testscr ~ ' + ' + '.join(df.columns.tolist()[1:6]), data=df).fit(cov_type='HC1')\n",
    "lm_table = pd.DataFrame({'Coefficient':lm.params, 'SE':lm.bse, 't-stat':lm.tvalues})\n",
    "lm_table['p-value'] = lm.pvalues\n",
    "lm_table = pd.concat([lm_table, lm.conf_int().rename(columns={0: '95%CI_LB', 1: '95%CI_UB'})], axis=1)\n",
    "print (tabulate(lm_table, lm_table.columns, tablefmt=\"latex\"))"
   ]
  },
  {
   "cell_type": "markdown",
   "metadata": {},
   "source": [
    "$$\n",
    "\\begin{aligned}\n",
    "\\Delta testscr &= (\\beta_1+\\beta_3\\cdot el\\_pct)\\sigma_{str} \\\\\n",
    "&= \\beta_1\\sigma_{str}+\\beta_3\\sigma_{str}\\cdot el\\_pct \\\\\n",
    "\\ \\\\\n",
    "SE(\\Delta testscr) &= \\sqrt{var(\\beta_1)\\sigma_{str}^2+var(\\beta_3)\\sigma_{str}^2(el\\_pct)^2+2 \\cdot \\sigma_{str}^2 cov(\\beta_1, \\beta_3)\\cdot el\\_pct}\n",
    "\\end{aligned}\n",
    "$$"
   ]
  },
  {
   "cell_type": "code",
   "execution_count": 6,
   "metadata": {
    "inputHidden": false,
    "outputHidden": false
   },
   "outputs": [
    {
     "data": {
      "image/png": "[encoded data removed]",
      "text/plain": [
       "<Figure size 432x288 with 1 Axes>"
      ]
     },
     "metadata": {},
     "output_type": "display_data"
    }
   ],
   "source": [
    "plt.scatter(df['el_pct'], df['el_pct'].apply(lambda x: (lm.params[1] + lm.params[3]*x) * df['str'].std()))\n",
    "plt.xlabel('el_pct')\n",
    "plt.ylabel('delta_testscr_estimates')\n",
    "plt.savefig('hw5_2.png')"
   ]
  },
  {
   "cell_type": "markdown",
   "metadata": {},
   "source": [
    "$$\n",
    "\\begin{aligned}\n",
    "H_0: \\Delta testscr &= \\beta_1\\sigma_{str}+\\beta_3\\sigma_{str}\\cdot el\\_pct = 0 \\\\\n",
    "H_1: \\Delta testscr &\\neq 0\n",
    "\\end{aligned}\n",
    "$$"
   ]
  },
  {
   "cell_type": "code",
   "execution_count": 7,
   "metadata": {
    "inputHidden": false,
    "outputHidden": false
   },
   "outputs": [],
   "source": [
    "def se_dy(x, var_0, var_1, cov): # y = b_0 + b_1 x\n",
    "    return math.sqrt(var_0 + x**2 * var_1 + 2*x*cov)\n",
    "\n",
    "var_0 = lm.bse[1]**2\n",
    "var_1 = lm.bse[3]**2\n",
    "f = lm.f_test('str + str_X_elpct = 0').fvalue[0][0]\n",
    "cov = ((lm.params[1]+lm.params[3])**2 /f - lm.bse[1]**2 - lm.bse[3]**2)/2"
   ]
  },
  {
   "cell_type": "code",
   "execution_count": 8,
   "metadata": {},
   "outputs": [
    {
     "name": "stdout",
     "output_type": "stream",
     "text": [
      "-1.7909139933774925 0.029285870569600532 0.12032207305089052 0.00015212727799763655 7.568291087086314 -0.002951589033988682\n"
     ]
    }
   ],
   "source": [
    "print(lm.params[1]*df['str'].std(), lm.params[3]*df['str'].std(), var_0, var_1, f, cov)"
   ]
  },
  {
   "cell_type": "code",
   "execution_count": 9,
   "metadata": {
    "inputHidden": false,
    "outputHidden": false
   },
   "outputs": [],
   "source": [
    "el_pct_test = pd.Series(np.arange(1, 81))\n",
    "df_1 = pd.DataFrame({'se_dy': el_pct_test.apply(se_dy, args=(var_0, var_1, cov,)), 'el_pct': el_pct_test})\n",
    "df_1['t-stat'] = (lm.params[1] + lm.params[3]*df_1['el_pct'])/df_1['se_dy']\n",
    "# df_1['95%CI_LB'] = df_1['t-stat'] + norm.ppf(0.05/2)*df_1['se_dy']\n",
    "# df_1['95%CI_UB'] = df_1['t-stat'] - norm.ppf(0.05/2)*df_1['se_dy']"
   ]
  },
  {
   "cell_type": "code",
   "execution_count": 10,
   "metadata": {
    "inputHidden": false,
    "outputHidden": false
   },
   "outputs": [
    {
     "data": {
      "image/png": "[encoded data removed]",
      "text/plain": [
       "<Figure size 432x288 with 1 Axes>"
      ]
     },
     "metadata": {},
     "output_type": "display_data"
    }
   ],
   "source": [
    "plt.scatter(df_1['el_pct'], df_1['t-stat'])\n",
    "# plt.scatter(df_1['el_pct'], df_1['95%CI_LB'])\n",
    "# plt.scatter(df_1['el_pct'], df_1['95%CI_UB'])\n",
    "plt.axhline(y=norm.ppf(0.05/2), label='-1.96')\n",
    "plt.xlabel('el_pct')\n",
    "plt.ylabel('t-stat')\n",
    "plt.legend()\n",
    "plt.savefig('hw5_4.png')"
   ]
  },
  {
   "cell_type": "code",
   "execution_count": 11,
   "metadata": {},
   "outputs": [
    {
     "name": "stdout",
     "output_type": "stream",
     "text": [
      "For el_pct < 27.1408, the change in testscr is significant at 5% level. \n",
      "For el_pct < 9.4744 and el_pct > 61.1528, the significance increases as el_pct increases;\n",
      " \telse, the significance decreases as el_pct increases.\n",
      "The maximum significance level 0.42% is acheived at t-stat = 9.\n"
     ]
    }
   ],
   "source": [
    "def t_dy(x, var_0, var_1, cov):\n",
    "    return (lm.params[1] + lm.params[3]*x)/se_dy(x, var_0, var_1, cov)\n",
    "\n",
    "def solver(x, var_0, var_1, cov, c):\n",
    "    return t_dy(x, var_0, var_1, cov) - c\n",
    "\n",
    "fm = fmin(t_dy, 10, args=(var_0, var_1, cov,), disp=False)\n",
    "\n",
    "print(\"For el_pct < {:.4f}, the change in testscr is significant at 5% level.\".format(brentq(solver, 20, 30,\n",
    "                                                                                             args=(var_0, var_1, cov,\n",
    "                                                                                                   norm.ppf(0.05/2),))),\n",
    "      \"\\nFor el_pct < {:.4f} and el_pct > {:.4f}, the significance increases as el_pct increases;\\n\".format(fm[0],\n",
    "                                                                                                brentq(solver, 60, 70,\n",
    "                                                                                                  args=(var_0, var_1, cov, 0))),\n",
    "      \"\\telse, the significance decreases as el_pct increases.\")\n",
    "\n",
    "x_t_max = 9 if t_dy(9, var_0, var_1, cov) < t_dy(10, var_0, var_1, cov) else 10\n",
    "print(\"The maximum significance level {:.2%} is acheived at t-stat = {}.\".format(2*norm.cdf(t_dy(x_t_max,\n",
    "                                                                                                       var_0, var_1, cov)),\n",
    "                                                                                       x_t_max))"
   ]
  }
 ],
 "metadata": {
  "kernel_info": {
   "name": "python3"
  },
  "kernelspec": {
   "display_name": "Python 3",
   "language": "python",
   "name": "python3"
  },
  "language_info": {
   "codemirror_mode": {
    "name": "ipython",
    "version": 3
   },
   "file_extension": ".py",
   "mimetype": "text/x-python",
   "name": "python",
   "nbconvert_exporter": "python",
   "pygments_lexer": "ipython3",
   "version": "3.6.5"
  },
  "nteract": {
   "version": "0.8.4"
  }
 },
 "nbformat": 4,
 "nbformat_minor": 2
}
