{
 "cells": [
  {
   "cell_type": "code",
   "execution_count": 1,
   "metadata": {},
   "outputs": [],
   "source": [
    "import numpy as np\n",
    "import pandas as pd\n",
    "import statsmodels.formula.api as smf\n",
    "import matplotlib.pyplot as plt\n",
    "import math\n",
    "from scipy.stats import norm\n",
    "from scipy.optimize import brentq"
   ]
  },
  {
   "cell_type": "code",
   "execution_count": 2,
   "metadata": {},
   "outputs": [],
   "source": [
    "# data = pd.read_csv('F:\\workspace\\ipython\\ECON3334\\caschool.csv')\n",
    "df = pd.read_csv(\"https://raw.githubusercontent.com/gerald-liu/ipython/master/ECON3334/caschool.csv\",\n",
    "                 usecols=['testscr', 'str', 'el_pct', 'meal_pct', 'avginc'])"
   ]
  },
  {
   "cell_type": "code",
   "execution_count": 3,
   "metadata": {
    "inputHidden": false,
    "outputHidden": false
   },
   "outputs": [],
   "source": [
    "df['str_X_elpct'] = df['str'].mul(df['el_pct'])\n",
    "df['loginc'] = df['avginc'].apply(np.log)\n",
    "df = df[['testscr', 'str', 'el_pct', 'str_X_elpct', 'meal_pct', 'loginc']]"
   ]
  },
  {
   "cell_type": "code",
   "execution_count": 5,
   "metadata": {
    "scrolled": true
   },
   "outputs": [
    {
     "data": {
      "text/html": [
       "<div>\n",
       "<style scoped>\n",
       "    .dataframe tbody tr th:only-of-type {\n",
       "        vertical-align: middle;\n",
       "    }\n",
       "\n",
       "    .dataframe tbody tr th {\n",
       "        vertical-align: top;\n",
       "    }\n",
       "\n",
       "    .dataframe thead th {\n",
       "        text-align: right;\n",
       "    }\n",
       "</style>\n",
       "<table border=\"1\" class=\"dataframe\">\n",
       "  <thead>\n",
       "    <tr style=\"text-align: right;\">\n",
       "      <th></th>\n",
       "      <th>Coef</th>\n",
       "      <th>SE</th>\n",
       "      <th>t-stat</th>\n",
       "      <th>p-value</th>\n",
       "      <th>95%CI_LB</th>\n",
       "      <th>95%CI_UB</th>\n",
       "    </tr>\n",
       "  </thead>\n",
       "  <tbody>\n",
       "    <tr>\n",
       "      <th>Intercept</th>\n",
       "      <td>663.157651</td>\n",
       "      <td>10.054347</td>\n",
       "      <td>65.957309</td>\n",
       "      <td>0.000000e+00</td>\n",
       "      <td>643.451494</td>\n",
       "      <td>682.863809</td>\n",
       "    </tr>\n",
       "    <tr>\n",
       "      <th>str</th>\n",
       "      <td>-0.946666</td>\n",
       "      <td>0.346875</td>\n",
       "      <td>-2.729130</td>\n",
       "      <td>6.350175e-03</td>\n",
       "      <td>-1.626528</td>\n",
       "      <td>-0.266804</td>\n",
       "    </tr>\n",
       "    <tr>\n",
       "      <th>el_pct</th>\n",
       "      <td>-0.481824</td>\n",
       "      <td>0.246129</td>\n",
       "      <td>-1.957606</td>\n",
       "      <td>5.027628e-02</td>\n",
       "      <td>-0.964228</td>\n",
       "      <td>0.000580</td>\n",
       "    </tr>\n",
       "    <tr>\n",
       "      <th>str_X_elpct</th>\n",
       "      <td>0.015480</td>\n",
       "      <td>0.012334</td>\n",
       "      <td>1.255095</td>\n",
       "      <td>2.094442e-01</td>\n",
       "      <td>-0.008694</td>\n",
       "      <td>0.039655</td>\n",
       "    </tr>\n",
       "    <tr>\n",
       "      <th>meal_pct</th>\n",
       "      <td>-0.401380</td>\n",
       "      <td>0.033270</td>\n",
       "      <td>-12.064393</td>\n",
       "      <td>1.628578e-33</td>\n",
       "      <td>-0.466587</td>\n",
       "      <td>-0.336172</td>\n",
       "    </tr>\n",
       "    <tr>\n",
       "      <th>loginc</th>\n",
       "      <td>11.433074</td>\n",
       "      <td>1.817734</td>\n",
       "      <td>6.289740</td>\n",
       "      <td>3.179988e-10</td>\n",
       "      <td>7.870380</td>\n",
       "      <td>14.995767</td>\n",
       "    </tr>\n",
       "  </tbody>\n",
       "</table>\n",
       "</div>"
      ],
      "text/plain": [
       "                   Coef         SE     t-stat       p-value    95%CI_LB  \\\n",
       "Intercept    663.157651  10.054347  65.957309  0.000000e+00  643.451494   \n",
       "str           -0.946666   0.346875  -2.729130  6.350175e-03   -1.626528   \n",
       "el_pct        -0.481824   0.246129  -1.957606  5.027628e-02   -0.964228   \n",
       "str_X_elpct    0.015480   0.012334   1.255095  2.094442e-01   -0.008694   \n",
       "meal_pct      -0.401380   0.033270 -12.064393  1.628578e-33   -0.466587   \n",
       "loginc        11.433074   1.817734   6.289740  3.179988e-10    7.870380   \n",
       "\n",
       "               95%CI_UB  \n",
       "Intercept    682.863809  \n",
       "str           -0.266804  \n",
       "el_pct         0.000580  \n",
       "str_X_elpct    0.039655  \n",
       "meal_pct      -0.336172  \n",
       "loginc        14.995767  "
      ]
     },
     "execution_count": 5,
     "metadata": {},
     "output_type": "execute_result"
    }
   ],
   "source": [
    "lm = smf.ols(formula='testscr ~ ' + ' + '.join(df.columns.tolist()[1:6]), data=df).fit(cov_type='HC1')\n",
    "lm_table = pd.DataFrame({'Coef':lm.params, 'SE':lm.bse, 't-stat':lm.tvalues})\n",
    "lm_table['p-value'] = lm.pvalues\n",
    "lm_table = pd.concat([lm_table, lm.conf_int().rename(columns={0: '95%CI_LB', 1: '95%CI_UB'})], axis=1)\n",
    "lm_table"
   ]
  },
  {
   "cell_type": "markdown",
   "metadata": {},
   "source": [
    "$$\n",
    "\\begin{aligned}\n",
    "\\Delta testscr &= (\\beta_1+\\beta_3\\cdot el\\_pct)\\sigma_{str} \\\\\n",
    "&= \\beta_1\\sigma_{str}+\\beta_3\\sigma_{str}\\cdot el\\_pct \\\\\n",
    "\\ \\\\\n",
    "SE(\\Delta testscr) &= \\sqrt{var(\\beta_1)\\sigma_{str}^2+var(\\beta_3)\\sigma_{str}^2(el\\_pct)^2+2\\beta_1\\beta_3\\sigma_{str}^2\\cdot el\\_pct\\cdot cov(\\beta_1, \\beta_3)}\n",
    "\\end{aligned}\n",
    "$$"
   ]
  },
  {
   "cell_type": "code",
   "execution_count": 6,
   "metadata": {
    "inputHidden": false,
    "outputHidden": false
   },
   "outputs": [
    {
     "data": {
      "image/png": "[encoded data removed]",
      "text/plain": [
       "<Figure size 432x288 with 1 Axes>"
      ]
     },
     "metadata": {},
     "output_type": "display_data"
    }
   ],
   "source": [
    "plt.scatter(df['el_pct'], df['el_pct'].apply(lambda x: (lm.params[1] + lm.params[3]*x) * df['str'].std()))\n",
    "plt.xlabel('el_pct')\n",
    "plt.ylabel('delta_testscr_estimates')\n",
    "plt.savefig('hw5_2.png')"
   ]
  },
  {
   "cell_type": "markdown",
   "metadata": {},
   "source": [
    "$$\n",
    "\\begin{aligned}\n",
    "H_0: \\Delta testscr &= \\beta_1\\sigma_{str}+\\beta_3\\sigma_{str}\\cdot el\\_pct = 0 \\\\\n",
    "H_1: \\Delta testscr &\\neq 0\n",
    "\\end{aligned}\n",
    "$$"
   ]
  },
  {
   "cell_type": "code",
   "execution_count": 7,
   "metadata": {
    "inputHidden": false,
    "outputHidden": false
   },
   "outputs": [],
   "source": [
    "def se_dy_simple_linear(x, b, k, var_b, var_k, cov_bk): # y = b + kx\n",
    "    return math.sqrt(var_b + var_k * x**2 + 2*b*k*x*cov_bk)\n",
    "\n",
    "f = lm.f_test('str + str_X_elpct = 0').fvalue[0][0]\n",
    "b = lm.params[1] * df['str'].std()\n",
    "k = lm.params[3] * df['str'].std()\n",
    "var_b = lm.bse[1]**2 * df['str'].var()\n",
    "var_k = lm.bse[3]**2 * df['str'].var()\n",
    "cov_bk = ((lm.params[1]+lm.params[3])**2 /f - lm.bse[1]**2 - lm.bse[3]**2)/2"
   ]
  },
  {
   "cell_type": "code",
   "execution_count": 8,
   "metadata": {
    "inputHidden": false,
    "outputHidden": false
   },
   "outputs": [],
   "source": [
    "el_pct_test = pd.Series(np.arange(1, 81))\n",
    "df_1 = pd.DataFrame({'se_dy': el_pct_test.apply(se_dy_simple_linear, args=(b, k, var_b, var_k, cov_bk,)),\n",
    "                     'el_pct': el_pct_test})\n",
    "df_1['t-stat'] = (b + k*df_1['el_pct'])/df_1['se_dy']\n",
    "df_1['95%CI_LB'] = df_1['t-stat'] + norm.ppf(0.05/2)*df_1['se_dy']\n",
    "df_1['95%CI_UB'] = df_1['t-stat'] - norm.ppf(0.05/2)*df_1['se_dy']"
   ]
  },
  {
   "cell_type": "code",
   "execution_count": 9,
   "metadata": {
    "inputHidden": false,
    "outputHidden": false
   },
   "outputs": [
    {
     "data": {
      "image/png": "[encoded data removed]",
      "text/plain": [
       "<Figure size 432x288 with 1 Axes>"
      ]
     },
     "metadata": {},
     "output_type": "display_data"
    }
   ],
   "source": [
    "plt.scatter(df_1['el_pct'], df_1['t-stat'])\n",
    "plt.scatter(df_1['el_pct'], df_1['95%CI_LB'])\n",
    "plt.scatter(df_1['el_pct'], df_1['95%CI_UB'])\n",
    "plt.axhline(y=norm.ppf(0.05/2), label='-1.96')\n",
    "plt.xlabel('el_pct')\n",
    "plt.ylabel('t-stat')\n",
    "plt.legend()\n",
    "plt.savefig('hw5_4.png')"
   ]
  },
  {
   "cell_type": "code",
   "execution_count": 10,
   "metadata": {},
   "outputs": [
    {
     "name": "stdout",
     "output_type": "stream",
     "text": [
      "For el_pct < 12.7497, the change in testscr is significant at 5% level.\n"
     ]
    }
   ],
   "source": [
    "def t_dy_simple_linear(x):\n",
    "    return (b + k*x)/se_dy_simple_linear(x, b, k, var_b, var_k, cov_bk)\n",
    "\n",
    "def solver(x):\n",
    "    return t_dy_simple_linear(x) - norm.ppf(0.05/2)\n",
    "\n",
    "print(\"For el_pct < {:.4f}, the change in testscr is significant at 5% level.\".format(brentq(solver, 10, 20)))"
   ]
  }
 ],
 "metadata": {
  "kernel_info": {
   "name": "python3"
  },
  "kernelspec": {
   "display_name": "Python 3",
   "language": "python",
   "name": "python3"
  },
  "language_info": {
   "codemirror_mode": {
    "name": "ipython",
    "version": 3
   },
   "file_extension": ".py",
   "mimetype": "text/x-python",
   "name": "python",
   "nbconvert_exporter": "python",
   "pygments_lexer": "ipython3",
   "version": "3.6.5"
  },
  "nteract": {
   "version": "0.8.4"
  }
 },
 "nbformat": 4,
 "nbformat_minor": 2
}
