{
 "cells": [
  {
   "cell_type": "code",
   "execution_count": 1,
   "metadata": {},
   "outputs": [],
   "source": [
    "import numpy as np\n",
    "import pandas as pd\n",
    "import statsmodels.formula.api as smf\n",
    "import matplotlib.pyplot as plt\n",
    "# %matplotlib inline"
   ]
  },
  {
   "cell_type": "code",
   "execution_count": 2,
   "metadata": {},
   "outputs": [],
   "source": [
    "def str_to_bin(str_ctd, small_flag):\n",
    "    if small_flag == 1:\n",
    "        if str_ctd < 20: return 1\n",
    "        else: return 0\n",
    "    elif small_flag == 0:\n",
    "        if str_ctd > 25: return 1\n",
    "        else: return 0\n",
    "    else:\n",
    "        if str_ctd >= 20 and str_ctd <= 25: return 1\n",
    "        else: return 0\n",
    "\n",
    "def lm_func(str_ctd, const, b1, b2):\n",
    "    str_s = str_to_bin(str_ctd, 1)\n",
    "    str_l = str_to_bin(str_ctd, 0)\n",
    "    return const + b1*str_s + b2*str_l\n",
    "\n",
    "lm_func_v = np.vectorize(lm_func)"
   ]
  },
  {
   "cell_type": "code",
   "execution_count": 3,
   "metadata": {},
   "outputs": [],
   "source": [
    "# data = pd.read_csv('F:\\\\workspace\\\\ipython\\\\caschool.csv', usecols=['testscr', 'str'])\n",
    "data = pd.read_csv(\"https://raw.githubusercontent.com/gerald-liu/ipython/master/ECON3334/caschool.csv\",\n",
    "                   usecols=['testscr', 'str'])\n",
    "data['str_s'] = data['str'].apply(str_to_bin, args=(1, ))\n",
    "data['str_l'] = data['str'].apply(str_to_bin, args=(0, ))"
   ]
  },
  {
   "cell_type": "code",
   "execution_count": 7,
   "metadata": {
    "scrolled": true
   },
   "outputs": [
    {
     "name": "stdout",
     "output_type": "stream",
     "text": [
      "==============================================================================\n",
      "                 coef    std err          t      P>|t|      [0.025      0.975]\n",
      "------------------------------------------------------------------------------\n",
      "Intercept    650.0277      1.401    464.023      0.000     647.274     652.781\n",
      "str_s          7.3236      1.854      3.950      0.000       3.679      10.968\n",
      "str_l         -2.9610     10.911     -0.271      0.786     -24.409      18.487\n",
      "==============================================================================\n"
     ]
    }
   ],
   "source": [
    "lm = smf.ols(formula='testscr ~ str_s + str_l', data=data).fit()\n",
    "# summary = pd.DataFrame({'Coefficient':lm.params, 'SE':lm.bse, 't-stat':lm.tvalues, 'p-value':lm.pvalues})\n",
    "summary = lm.summary().tables[1]\n",
    "print(summary)"
   ]
  },
  {
   "cell_type": "code",
   "execution_count": 8,
   "metadata": {},
   "outputs": [
    {
     "data": {
      "image/png": "[encoded data removed]",
      "text/plain": [
       "<matplotlib.figure.Figure at 0x1b979c04e48>"
      ]
     },
     "metadata": {},
     "output_type": "display_data"
    }
   ],
   "source": [
    "str_ctd = []\n",
    "testscr_ctd = []\n",
    "str_ctd.append(np.linspace(data['str'].min(), 20, num=10000, endpoint=False))\n",
    "str_ctd.append(np.linspace(20, 25, 10000))\n",
    "str_ctd.append(np.linspace(data['str'].max(), 25, num=10000, endpoint=False))\n",
    "\n",
    "for i in range(0, 3):\n",
    "    testscr_ctd.append(lm_func_v(str_ctd[i], lm.params[0], lm.params[1], lm.params[2]))\n",
    "\n",
    "plt.figure(figsize=(10,10))\n",
    "plt.scatter(data['str'], data['testscr'], color='grey')\n",
    "plt.plot(str_ctd[0], testscr_ctd[0], color='green', linewidth=5)\n",
    "plt.plot(str_ctd[1], testscr_ctd[1], color='blue', linewidth=5)\n",
    "plt.plot(str_ctd[2], testscr_ctd[2], color='red', linewidth=5)\n",
    "plt.xlabel('str')\n",
    "plt.ylabel('testscr')\n",
    "plt.savefig(\"hw4_8.3.png\")"
   ]
  },
  {
   "cell_type": "code",
   "execution_count": null,
   "metadata": {},
   "outputs": [],
   "source": [
    "# data = data.sample(frac=1).reset_index(drop=True)\n",
    "# test_size = (int)(round(data.shape[0] * 0.2))\n",
    "# str_bin_train_0 = data[['str_s', 'str_l']][test_size:]\n",
    "# testscr_train_0 = data['testscr'][test_size:]\n",
    "# str_bin_test_0 = data[['str_s', 'str_l']][:test_size]\n",
    "# testscr_test_0 = data['testscr'][:test_size]\n",
    "\n",
    "# data['str_m'] = data['str'].apply(str_to_bin, args=(2, ))\n",
    "# str_bin_train_1 = data['str_s'][test_size:]\n",
    "# testscr_train_1 = data['testscr'][test_size:]\n",
    "\n",
    "# str_bin_train_1 = sm.add_constant(str_bin_train_1)\n",
    "# lm_1 = sm.OLS(testscr_train_1, str_bin_train_1).fit()\n",
    "\n",
    "# summary_1 = pd.DataFrame({'Coefficient':lm_1.params, 'SE':lm_1.bse, 't-stat':lm_1.tvalues, 'p-value':lm_1.pvalues})\n",
    "# print(summary_1)\n",
    "\n",
    "# str_bin_test_1 = data['str_s'][:test_size]\n",
    "# testscr_test_1 = data['testscr'][:test_size]\n",
    "# str_bin_test_1 = sm.add_constant(str_bin_test_1)\n",
    "# testscr_pred_1 = lm_1.predict(str_bin_test_1)\n",
    "\n",
    "# # Plot outputs\n",
    "# f, (ax1, ax2) = plt.subplots(2, 1, figsize=(20,15))\n",
    "\n",
    "# ax1.scatter(data['str'][test_size:], testscr_train_0,  color='black')\n",
    "# ax1.scatter(data['str'][test_size:], train_pred, color='blue')\n",
    "\n",
    "# ax2.scatter(data['str'][:test_size], testscr_test_0,  color='black')\n",
    "# ax2.scatter(data['str'][:test_size], test_pred, color='blue')\n",
    "\n",
    "# plt.xlabel('str')\n",
    "# plt.ylabel('testscr')\n",
    "# plt.xticks() # hide xticks: plt.xticks(())\n",
    "# plt.yticks()\n",
    "# plt.show()"
   ]
  }
 ],
 "metadata": {
  "kernelspec": {
   "display_name": "Python 3",
   "language": "python",
   "name": "python3"
  },
  "language_info": {
   "codemirror_mode": {
    "name": "ipython",
    "version": 3
   },
   "file_extension": ".py",
   "mimetype": "text/x-python",
   "name": "python",
   "nbconvert_exporter": "python",
   "pygments_lexer": "ipython3",
   "version": "3.6.4"
  }
 },
 "nbformat": 4,
 "nbformat_minor": 2
}
