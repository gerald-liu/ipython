{
 "cells": [
  {
   "cell_type": "markdown",
   "metadata": {},
   "source": [
    "# Project 4\n",
    "# Due at 9:00 pm, Friday, May ,18\n",
    "**Important**\n",
    "- Each group (group size$\\le 3$) submits only  one notebook on Canvas. \n",
    "- In the first cell of notebook, please type members' name **who contribute**.  \n",
    "- free rider is now allowed. "
   ]
  },
  {
   "cell_type": "code",
   "execution_count": 1,
   "metadata": {},
   "outputs": [],
   "source": [
    "import numpy as np\n",
    "import pandas as pd\n",
    "import warnings\n",
    "warnings.filterwarnings(\"ignore\")\n",
    "import matplotlib.pyplot as plt\n",
    "%matplotlib inline\n",
    "import statsmodels.formula.api as smf"
   ]
  },
  {
   "cell_type": "markdown",
   "metadata": {},
   "source": [
    "## Data"
   ]
  },
  {
   "cell_type": "code",
   "execution_count": 2,
   "metadata": {},
   "outputs": [],
   "source": [
    "data3=pd.DataFrame.from_csv('Rb_500ms_main/20180427_rb1805.csv')\n",
    "data2=pd.DataFrame.from_csv('Rb_500ms_main/20180426_rb1805.csv')\n",
    "data1=pd.DataFrame.from_csv('Rb_500ms_main/20180425_rb1805.csv')"
   ]
  },
  {
   "cell_type": "code",
   "execution_count": 3,
   "metadata": {},
   "outputs": [
    {
     "data": {
      "text/html": [
       "<div>\n",
       "<style scoped>\n",
       "    .dataframe tbody tr th:only-of-type {\n",
       "        vertical-align: middle;\n",
       "    }\n",
       "\n",
       "    .dataframe tbody tr th {\n",
       "        vertical-align: top;\n",
       "    }\n",
       "\n",
       "    .dataframe thead th {\n",
       "        text-align: right;\n",
       "    }\n",
       "</style>\n",
       "<table border=\"1\" class=\"dataframe\">\n",
       "  <thead>\n",
       "    <tr style=\"text-align: right;\">\n",
       "      <th></th>\n",
       "      <th>Code</th>\n",
       "      <th>Price</th>\n",
       "      <th>volume</th>\n",
       "      <th>Turover</th>\n",
       "      <th>Flag</th>\n",
       "      <th>Askprice0</th>\n",
       "      <th>Askvolume0</th>\n",
       "      <th>Bidprice0</th>\n",
       "      <th>Bidvolume0</th>\n",
       "      <th>HighestPrice</th>\n",
       "      <th>LowestPrice</th>\n",
       "    </tr>\n",
       "  </thead>\n",
       "  <tbody>\n",
       "    <tr>\n",
       "      <th>2018-04-24 21:00:00.500</th>\n",
       "      <td>rb1805</td>\n",
       "      <td>3891.0</td>\n",
       "      <td>68.0</td>\n",
       "      <td>2645880.0</td>\n",
       "      <td>1.0</td>\n",
       "      <td>3891.0</td>\n",
       "      <td>582.0</td>\n",
       "      <td>3890.0</td>\n",
       "      <td>621.0</td>\n",
       "      <td>3891.0</td>\n",
       "      <td>3891.0</td>\n",
       "    </tr>\n",
       "    <tr>\n",
       "      <th>2018-04-24 21:00:01.000</th>\n",
       "      <td>rb1805</td>\n",
       "      <td>3890.0</td>\n",
       "      <td>218.0</td>\n",
       "      <td>8481560.0</td>\n",
       "      <td>1.0</td>\n",
       "      <td>3891.0</td>\n",
       "      <td>514.0</td>\n",
       "      <td>3890.0</td>\n",
       "      <td>580.0</td>\n",
       "      <td>3891.0</td>\n",
       "      <td>3890.0</td>\n",
       "    </tr>\n",
       "    <tr>\n",
       "      <th>2018-04-24 21:00:01.500</th>\n",
       "      <td>rb1805</td>\n",
       "      <td>3890.0</td>\n",
       "      <td>154.0</td>\n",
       "      <td>5990600.0</td>\n",
       "      <td>1.0</td>\n",
       "      <td>3891.0</td>\n",
       "      <td>519.0</td>\n",
       "      <td>3890.0</td>\n",
       "      <td>503.0</td>\n",
       "      <td>3891.0</td>\n",
       "      <td>3890.0</td>\n",
       "    </tr>\n",
       "    <tr>\n",
       "      <th>2018-04-24 21:00:02.000</th>\n",
       "      <td>rb1805</td>\n",
       "      <td>3890.0</td>\n",
       "      <td>64.0</td>\n",
       "      <td>2489600.0</td>\n",
       "      <td>1.0</td>\n",
       "      <td>3891.0</td>\n",
       "      <td>519.0</td>\n",
       "      <td>3890.0</td>\n",
       "      <td>471.0</td>\n",
       "      <td>3891.0</td>\n",
       "      <td>3890.0</td>\n",
       "    </tr>\n",
       "    <tr>\n",
       "      <th>2018-04-24 21:00:02.500</th>\n",
       "      <td>rb1805</td>\n",
       "      <td>3890.0</td>\n",
       "      <td>106.0</td>\n",
       "      <td>4123800.0</td>\n",
       "      <td>1.0</td>\n",
       "      <td>3891.0</td>\n",
       "      <td>499.0</td>\n",
       "      <td>3890.0</td>\n",
       "      <td>438.0</td>\n",
       "      <td>3891.0</td>\n",
       "      <td>3890.0</td>\n",
       "    </tr>\n",
       "  </tbody>\n",
       "</table>\n",
       "</div>"
      ],
      "text/plain": [
       "                           Code   Price  volume    Turover  Flag  Askprice0  \\\n",
       "2018-04-24 21:00:00.500  rb1805  3891.0    68.0  2645880.0   1.0     3891.0   \n",
       "2018-04-24 21:00:01.000  rb1805  3890.0   218.0  8481560.0   1.0     3891.0   \n",
       "2018-04-24 21:00:01.500  rb1805  3890.0   154.0  5990600.0   1.0     3891.0   \n",
       "2018-04-24 21:00:02.000  rb1805  3890.0    64.0  2489600.0   1.0     3891.0   \n",
       "2018-04-24 21:00:02.500  rb1805  3890.0   106.0  4123800.0   1.0     3891.0   \n",
       "\n",
       "                         Askvolume0  Bidprice0  Bidvolume0  HighestPrice  \\\n",
       "2018-04-24 21:00:00.500       582.0     3890.0       621.0        3891.0   \n",
       "2018-04-24 21:00:01.000       514.0     3890.0       580.0        3891.0   \n",
       "2018-04-24 21:00:01.500       519.0     3890.0       503.0        3891.0   \n",
       "2018-04-24 21:00:02.000       519.0     3890.0       471.0        3891.0   \n",
       "2018-04-24 21:00:02.500       499.0     3890.0       438.0        3891.0   \n",
       "\n",
       "                         LowestPrice  \n",
       "2018-04-24 21:00:00.500       3891.0  \n",
       "2018-04-24 21:00:01.000       3890.0  \n",
       "2018-04-24 21:00:01.500       3890.0  \n",
       "2018-04-24 21:00:02.000       3890.0  \n",
       "2018-04-24 21:00:02.500       3890.0  "
      ]
     },
     "execution_count": 3,
     "metadata": {},
     "output_type": "execute_result"
    }
   ],
   "source": [
    "data1.head()"
   ]
  },
  {
   "cell_type": "markdown",
   "metadata": {
    "collapsed": true
   },
   "source": [
    "You are provided with Rb data from three days.  You may find that, every half a second, there is a record of data. "
   ]
  },
  {
   "cell_type": "markdown",
   "metadata": {},
   "source": [
    "In each DataFrame, only focus on the following variables:\n",
    "- Price: last price Rb traded. \n",
    "- volume: how many shares were traded in last half second. \n",
    "- Askprice0/Askvolume0: The lowest price and shares with this price trader wants to sell at this moment\n",
    "- Bidprice0/Bidvolume0: The highest price and shares with this price trader wants to buy at this moment \n"
   ]
  },
  {
   "cell_type": "markdown",
   "metadata": {},
   "source": [
    "## Question"
   ]
  },
  {
   "cell_type": "markdown",
   "metadata": {},
   "source": [
    "We are trying to build a regression model for Y:\n",
    "$$\n",
    "Y_t=Price_{120+t}-Price_t\n",
    "$$"
   ]
  },
  {
   "cell_type": "markdown",
   "metadata": {},
   "source": [
    "Since the data is taken at a frequence of half a second, $Y_t$ is the price change in one minute.  "
   ]
  },
  {
   "cell_type": "markdown",
   "metadata": {},
   "source": [
    "## Problem 1. Build response variable"
   ]
  },
  {
   "cell_type": "markdown",
   "metadata": {},
   "source": [
    "Use the first two days as training data and the most recent day as the test data."
   ]
  },
  {
   "cell_type": "code",
   "execution_count": 39,
   "metadata": {},
   "outputs": [
    {
     "data": {
      "text/html": [
       "<div>\n",
       "<style scoped>\n",
       "    .dataframe tbody tr th:only-of-type {\n",
       "        vertical-align: middle;\n",
       "    }\n",
       "\n",
       "    .dataframe tbody tr th {\n",
       "        vertical-align: top;\n",
       "    }\n",
       "\n",
       "    .dataframe thead th {\n",
       "        text-align: right;\n",
       "    }\n",
       "</style>\n",
       "<table border=\"1\" class=\"dataframe\">\n",
       "  <thead>\n",
       "    <tr style=\"text-align: right;\">\n",
       "      <th></th>\n",
       "      <th>Code</th>\n",
       "      <th>Price</th>\n",
       "      <th>volume</th>\n",
       "      <th>Turover</th>\n",
       "      <th>Flag</th>\n",
       "      <th>Askprice0</th>\n",
       "      <th>Askvolume0</th>\n",
       "      <th>Bidprice0</th>\n",
       "      <th>Bidvolume0</th>\n",
       "      <th>HighestPrice</th>\n",
       "      <th>LowestPrice</th>\n",
       "    </tr>\n",
       "  </thead>\n",
       "  <tbody>\n",
       "    <tr>\n",
       "      <th>2018-04-26 14:59:58.500</th>\n",
       "      <td>rb1805</td>\n",
       "      <td>3922.0</td>\n",
       "      <td>2.0</td>\n",
       "      <td>78440.0</td>\n",
       "      <td>4.0</td>\n",
       "      <td>3922.0</td>\n",
       "      <td>2.0</td>\n",
       "      <td>3921.0</td>\n",
       "      <td>11.0</td>\n",
       "      <td>3925.0</td>\n",
       "      <td>3880.0</td>\n",
       "    </tr>\n",
       "    <tr>\n",
       "      <th>2018-04-26 14:59:59.000</th>\n",
       "      <td>rb1805</td>\n",
       "      <td>3922.0</td>\n",
       "      <td>0.0</td>\n",
       "      <td>0.0</td>\n",
       "      <td>4.0</td>\n",
       "      <td>3922.0</td>\n",
       "      <td>2.0</td>\n",
       "      <td>3921.0</td>\n",
       "      <td>11.0</td>\n",
       "      <td>3925.0</td>\n",
       "      <td>3880.0</td>\n",
       "    </tr>\n",
       "    <tr>\n",
       "      <th>2018-04-26 14:59:59.500</th>\n",
       "      <td>rb1805</td>\n",
       "      <td>3922.0</td>\n",
       "      <td>0.0</td>\n",
       "      <td>0.0</td>\n",
       "      <td>4.0</td>\n",
       "      <td>3922.0</td>\n",
       "      <td>2.0</td>\n",
       "      <td>3921.0</td>\n",
       "      <td>7.0</td>\n",
       "      <td>3925.0</td>\n",
       "      <td>3880.0</td>\n",
       "    </tr>\n",
       "    <tr>\n",
       "      <th>2018-04-26 15:00:00.000</th>\n",
       "      <td>rb1805</td>\n",
       "      <td>3922.0</td>\n",
       "      <td>0.0</td>\n",
       "      <td>0.0</td>\n",
       "      <td>4.0</td>\n",
       "      <td>3922.0</td>\n",
       "      <td>2.0</td>\n",
       "      <td>3921.0</td>\n",
       "      <td>7.0</td>\n",
       "      <td>3925.0</td>\n",
       "      <td>3880.0</td>\n",
       "    </tr>\n",
       "    <tr>\n",
       "      <th>2018-04-26 15:00:00.500</th>\n",
       "      <td>rb1805</td>\n",
       "      <td>3922.0</td>\n",
       "      <td>0.0</td>\n",
       "      <td>0.0</td>\n",
       "      <td>4.0</td>\n",
       "      <td>3922.0</td>\n",
       "      <td>2.0</td>\n",
       "      <td>3921.0</td>\n",
       "      <td>7.0</td>\n",
       "      <td>3925.0</td>\n",
       "      <td>3880.0</td>\n",
       "    </tr>\n",
       "  </tbody>\n",
       "</table>\n",
       "</div>"
      ],
      "text/plain": [
       "                           Code   Price  volume  Turover  Flag  Askprice0  \\\n",
       "2018-04-26 14:59:58.500  rb1805  3922.0     2.0  78440.0   4.0     3922.0   \n",
       "2018-04-26 14:59:59.000  rb1805  3922.0     0.0      0.0   4.0     3922.0   \n",
       "2018-04-26 14:59:59.500  rb1805  3922.0     0.0      0.0   4.0     3922.0   \n",
       "2018-04-26 15:00:00.000  rb1805  3922.0     0.0      0.0   4.0     3922.0   \n",
       "2018-04-26 15:00:00.500  rb1805  3922.0     0.0      0.0   4.0     3922.0   \n",
       "\n",
       "                         Askvolume0  Bidprice0  Bidvolume0  HighestPrice  \\\n",
       "2018-04-26 14:59:58.500         2.0     3921.0        11.0        3925.0   \n",
       "2018-04-26 14:59:59.000         2.0     3921.0        11.0        3925.0   \n",
       "2018-04-26 14:59:59.500         2.0     3921.0         7.0        3925.0   \n",
       "2018-04-26 15:00:00.000         2.0     3921.0         7.0        3925.0   \n",
       "2018-04-26 15:00:00.500         2.0     3921.0         7.0        3925.0   \n",
       "\n",
       "                         LowestPrice  \n",
       "2018-04-26 14:59:58.500       3880.0  \n",
       "2018-04-26 14:59:59.000       3880.0  \n",
       "2018-04-26 14:59:59.500       3880.0  \n",
       "2018-04-26 15:00:00.000       3880.0  \n",
       "2018-04-26 15:00:00.500       3880.0  "
      ]
     },
     "execution_count": 39,
     "metadata": {},
     "output_type": "execute_result"
    }
   ],
   "source": [
    "train=pd.concat([data1,data2],axis=0, ignore_index=False)\n",
    "train.tail()"
   ]
  },
  {
   "cell_type": "code",
   "execution_count": 40,
   "metadata": {},
   "outputs": [
    {
     "data": {
      "text/html": [
       "<div>\n",
       "<style scoped>\n",
       "    .dataframe tbody tr th:only-of-type {\n",
       "        vertical-align: middle;\n",
       "    }\n",
       "\n",
       "    .dataframe tbody tr th {\n",
       "        vertical-align: top;\n",
       "    }\n",
       "\n",
       "    .dataframe thead th {\n",
       "        text-align: right;\n",
       "    }\n",
       "</style>\n",
       "<table border=\"1\" class=\"dataframe\">\n",
       "  <thead>\n",
       "    <tr style=\"text-align: right;\">\n",
       "      <th></th>\n",
       "      <th>Code</th>\n",
       "      <th>Price</th>\n",
       "      <th>volume</th>\n",
       "      <th>Turover</th>\n",
       "      <th>Flag</th>\n",
       "      <th>Askprice0</th>\n",
       "      <th>Askvolume0</th>\n",
       "      <th>Bidprice0</th>\n",
       "      <th>Bidvolume0</th>\n",
       "      <th>HighestPrice</th>\n",
       "      <th>LowestPrice</th>\n",
       "    </tr>\n",
       "  </thead>\n",
       "  <tbody>\n",
       "    <tr>\n",
       "      <th>2018-04-27 14:59:58.500</th>\n",
       "      <td>rb1805</td>\n",
       "      <td>3960.0</td>\n",
       "      <td>0.0</td>\n",
       "      <td>0.0</td>\n",
       "      <td>4.0</td>\n",
       "      <td>3960.0</td>\n",
       "      <td>13.0</td>\n",
       "      <td>3954.0</td>\n",
       "      <td>1.0</td>\n",
       "      <td>3964.0</td>\n",
       "      <td>3913.0</td>\n",
       "    </tr>\n",
       "    <tr>\n",
       "      <th>2018-04-27 14:59:59.000</th>\n",
       "      <td>rb1805</td>\n",
       "      <td>3960.0</td>\n",
       "      <td>0.0</td>\n",
       "      <td>0.0</td>\n",
       "      <td>4.0</td>\n",
       "      <td>3960.0</td>\n",
       "      <td>14.0</td>\n",
       "      <td>3954.0</td>\n",
       "      <td>1.0</td>\n",
       "      <td>3964.0</td>\n",
       "      <td>3913.0</td>\n",
       "    </tr>\n",
       "    <tr>\n",
       "      <th>2018-04-27 14:59:59.500</th>\n",
       "      <td>rb1805</td>\n",
       "      <td>3960.0</td>\n",
       "      <td>0.0</td>\n",
       "      <td>0.0</td>\n",
       "      <td>4.0</td>\n",
       "      <td>3960.0</td>\n",
       "      <td>14.0</td>\n",
       "      <td>3954.0</td>\n",
       "      <td>1.0</td>\n",
       "      <td>3964.0</td>\n",
       "      <td>3913.0</td>\n",
       "    </tr>\n",
       "    <tr>\n",
       "      <th>2018-04-27 15:00:00.000</th>\n",
       "      <td>rb1805</td>\n",
       "      <td>3954.0</td>\n",
       "      <td>2.0</td>\n",
       "      <td>79080.0</td>\n",
       "      <td>4.0</td>\n",
       "      <td>3954.0</td>\n",
       "      <td>19.0</td>\n",
       "      <td>3953.0</td>\n",
       "      <td>92.0</td>\n",
       "      <td>3964.0</td>\n",
       "      <td>3913.0</td>\n",
       "    </tr>\n",
       "    <tr>\n",
       "      <th>2018-04-27 15:00:00.500</th>\n",
       "      <td>rb1805</td>\n",
       "      <td>3954.0</td>\n",
       "      <td>0.0</td>\n",
       "      <td>0.0</td>\n",
       "      <td>4.0</td>\n",
       "      <td>3954.0</td>\n",
       "      <td>19.0</td>\n",
       "      <td>3953.0</td>\n",
       "      <td>92.0</td>\n",
       "      <td>3964.0</td>\n",
       "      <td>3913.0</td>\n",
       "    </tr>\n",
       "  </tbody>\n",
       "</table>\n",
       "</div>"
      ],
      "text/plain": [
       "                           Code   Price  volume  Turover  Flag  Askprice0  \\\n",
       "2018-04-27 14:59:58.500  rb1805  3960.0     0.0      0.0   4.0     3960.0   \n",
       "2018-04-27 14:59:59.000  rb1805  3960.0     0.0      0.0   4.0     3960.0   \n",
       "2018-04-27 14:59:59.500  rb1805  3960.0     0.0      0.0   4.0     3960.0   \n",
       "2018-04-27 15:00:00.000  rb1805  3954.0     2.0  79080.0   4.0     3954.0   \n",
       "2018-04-27 15:00:00.500  rb1805  3954.0     0.0      0.0   4.0     3954.0   \n",
       "\n",
       "                         Askvolume0  Bidprice0  Bidvolume0  HighestPrice  \\\n",
       "2018-04-27 14:59:58.500        13.0     3954.0         1.0        3964.0   \n",
       "2018-04-27 14:59:59.000        14.0     3954.0         1.0        3964.0   \n",
       "2018-04-27 14:59:59.500        14.0     3954.0         1.0        3964.0   \n",
       "2018-04-27 15:00:00.000        19.0     3953.0        92.0        3964.0   \n",
       "2018-04-27 15:00:00.500        19.0     3953.0        92.0        3964.0   \n",
       "\n",
       "                         LowestPrice  \n",
       "2018-04-27 14:59:58.500       3913.0  \n",
       "2018-04-27 14:59:59.000       3913.0  \n",
       "2018-04-27 14:59:59.500       3913.0  \n",
       "2018-04-27 15:00:00.000       3913.0  \n",
       "2018-04-27 15:00:00.500       3913.0  "
      ]
     },
     "execution_count": 40,
     "metadata": {},
     "output_type": "execute_result"
    }
   ],
   "source": [
    "test=data3.copy()\n",
    "test.tail()"
   ]
  },
  {
   "cell_type": "markdown",
   "metadata": {},
   "source": [
    "Now we can build Y for both train and test"
   ]
  },
  {
   "cell_type": "code",
   "execution_count": 41,
   "metadata": {},
   "outputs": [],
   "source": [
    "train['Y']=train['Price'].shift(-120)-train['Price']\n",
    "test['Y']=test['Price'].shift(-120)-test['Price']"
   ]
  },
  {
   "cell_type": "code",
   "execution_count": 45,
   "metadata": {},
   "outputs": [],
   "source": [
    "train = train.dropna(subset=['Y'])\n",
    "test = test.dropna(subset=['Y'])"
   ]
  },
  {
   "cell_type": "markdown",
   "metadata": {},
   "source": [
    "Please plot the histogram of Y for train. "
   ]
  },
  {
   "cell_type": "code",
   "execution_count": 65,
   "metadata": {},
   "outputs": [
    {
     "data": {
      "image/png": "[encoded data removed]",
      "text/plain": [
       "<Figure size 432x288 with 1 Axes>"
      ]
     },
     "metadata": {},
     "output_type": "display_data"
    }
   ],
   "source": [
    "plt.hist(train['Y'], bins=50)\n",
    "plt.show()"
   ]
  },
  {
   "cell_type": "markdown",
   "metadata": {},
   "source": [
    "## Problem 2. Build predictors "
   ]
  },
  {
   "cell_type": "markdown",
   "metadata": {},
   "source": [
    "Please build 10 predictors:\n",
    "- You cannot use any information occurred in the future, for example, train['price'].shift(-10)\n",
    "- You only can build predictors using \"Price, volume, Askprice0/Askvolume0, Bidprice0/Bidvolume0\" these 6 variables whereas you can build predictors from information occurred at multiple time stamp in the past. For example train['X1']=train['Bidvolume0]]-train['Bidvolume0'].shift(10)."
   ]
  },
  {
   "cell_type": "markdown",
   "metadata": {},
   "source": [
    "Notice in order to build predictable model, your predictors should have strong association with response variable. For simplicity, use correlation to select top 10 most related predictors ."
   ]
  },
  {
   "cell_type": "markdown",
   "metadata": {},
   "source": [
    "Calculate 10 predictors for both train and test set. After building predictors, delete rows which have Nan values. These nan values are generated when using shift().  "
   ]
  },
  {
   "cell_type": "markdown",
   "metadata": {},
   "source": [
    "## Problem 3. Build Models. "
   ]
  },
  {
   "cell_type": "markdown",
   "metadata": {},
   "source": [
    "Build multiple regression model using your own 10 predictors in train. Evaluate R2 and Se in train and test set.\n",
    "Please check whether the model is consistent and accurate.  Why?"
   ]
  },
  {
   "cell_type": "markdown",
   "metadata": {},
   "source": [
    "## Trade using your signal\n",
    "\n",
    "**This part is optional and will not be graded **"
   ]
  },
  {
   "cell_type": "markdown",
   "metadata": {},
   "source": [
    "Using $\\hat{Y}$ as trading signal. "
   ]
  },
  {
   "cell_type": "markdown",
   "metadata": {},
   "source": [
    "Find 3% and 97% quantiles of $\\hat{Y}$ using train as triggering threshold for buy and sell. Explain why we do not get quantiles using test. "
   ]
  },
  {
   "cell_type": "markdown",
   "metadata": {},
   "source": [
    "### Strategy I: \n",
    "\n",
    "- We will buy a share of Rb if signal is above 97% quantile and sell it if it is below 3% quantile. Compute  maximum drawdown and sharpe ratio in test. "
   ]
  },
  {
   "cell_type": "markdown",
   "metadata": {},
   "source": [
    "### Strategy II:\n",
    "\n",
    "- In test set, buy a share of Rb if the signal is above 97% quantile and sell it in one minute. Compute maximum drawdown and sharpe ratio in test. "
   ]
  }
 ],
 "metadata": {
  "kernelspec": {
   "display_name": "Python 3",
   "language": "python",
   "name": "python3"
  },
  "language_info": {
   "codemirror_mode": {
    "name": "ipython",
    "version": 3
   },
   "file_extension": ".py",
   "mimetype": "text/x-python",
   "name": "python",
   "nbconvert_exporter": "python",
   "pygments_lexer": "ipython3",
   "version": "3.6.5"
  },
  "latex_envs": {
   "LaTeX_envs_menu_present": true,
   "autocomplete": true,
   "bibliofile": "biblio.bib",
   "cite_by": "apalike",
   "current_citInitial": 1,
   "eqLabelWithNumbers": true,
   "eqNumInitial": 1,
   "hotkeys": {
    "equation": "Ctrl-E",
    "itemize": "Ctrl-I"
   },
   "labels_anchors": false,
   "latex_user_defs": false,
   "report_style_numbering": false,
   "user_envs_cfg": false
  },
  "toc": {
   "nav_menu": {},
   "number_sections": true,
   "sideBar": true,
   "skip_h1_title": false,
   "toc_cell": false,
   "toc_position": {},
   "toc_section_display": "block",
   "toc_window_display": false
  },
  "varInspector": {
   "cols": {
    "lenName": 16,
    "lenType": 16,
    "lenVar": 40
   },
   "kernels_config": {
    "python": {
     "delete_cmd_postfix": "",
     "delete_cmd_prefix": "del ",
     "library": "var_list.py",
     "varRefreshCmd": "print(var_dic_list())"
    },
    "r": {
     "delete_cmd_postfix": ") ",
     "delete_cmd_prefix": "rm(",
     "library": "var_list.r",
     "varRefreshCmd": "cat(var_dic_list()) "
    }
   },
   "types_to_exclude": [
    "module",
    "function",
    "builtin_function_or_method",
    "instance",
    "_Feature"
   ],
   "window_display": false
  }
 },
 "nbformat": 4,
 "nbformat_minor": 2
}
