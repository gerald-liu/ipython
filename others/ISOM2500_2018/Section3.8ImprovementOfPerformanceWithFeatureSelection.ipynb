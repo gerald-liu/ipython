{
 "cells": [
  {
   "cell_type": "code",
   "execution_count": 23,
   "metadata": {
    "collapsed": true,
    "slideshow": {
     "slide_type": "slide"
    }
   },
   "outputs": [],
   "source": [
    "import pandas as pd\n",
    "import numpy as np\n",
    "import matplotlib.pyplot as plt\n",
    "%matplotlib inline\n",
    "import statsmodels.formula.api as smf\n",
    "import warnings\n",
    "warnings.filterwarnings('ignore')\n",
    "def variation_value(data,model,yname):\n",
    "    data['yhat']=model.predict(data)\n",
    "    SST=((data[yname]-data[yname].mean())**2).sum()\n",
    "    SSR=((data['yhat']-data[yname].mean())**2).sum()\n",
    "    SSE=((data[yname]-data['yhat'])**2).sum()\n",
    "    return SST,SSR,SSE\n",
    "def adjustedMetric(data,model,model_k,yname):\n",
    "    SST,SSR,SSE=variation_value(data,model,yname)\n",
    "    r2=SSR/SST\n",
    "    adjustR2=1-(1-r2)*(data.shape[0]-1)/(data.shape[0]-model_k-1)\n",
    "    RMSE=(SSE/(data.shape[0]-model_k-1))**0.5\n",
    "    return adjustR2,RMSE\n",
    "def assessTable(testdata,traindata,model,model_k,yname):\n",
    "    r2test,RMSEtest=adjustedMetric(testdata,model,model_k,yname)\n",
    "    r2train,RMSEtrain=adjustedMetric(traindata,model,model_k,yname)\n",
    "    assessment=pd.DataFrame(index=['R2','RMSE'],\n",
    "                        columns=['Train','Test'])\n",
    "    assessment['Train']=[r2train,RMSEtrain]\n",
    "    assessment['Test']=[r2test,RMSEtest]\n",
    "    return assessment"
   ]
  },
  {
   "cell_type": "markdown",
   "metadata": {
    "slideshow": {
     "slide_type": "slide"
    }
   },
   "source": [
    "## Get Full Model"
   ]
  },
  {
   "cell_type": "markdown",
   "metadata": {
    "slideshow": {
     "slide_type": "slide"
    }
   },
   "source": [
    "We load data for module building .Different from previous sections, we will keep price process of sp500 for evaluation using practical standands"
   ]
  },
  {
   "cell_type": "code",
   "execution_count": 4,
   "metadata": {
    "slideshow": {
     "slide_type": "fragment"
    }
   },
   "outputs": [
    {
     "data": {
      "text/html": [
       "<div>\n",
       "<style>\n",
       "    .dataframe thead tr:only-child th {\n",
       "        text-align: right;\n",
       "    }\n",
       "\n",
       "    .dataframe thead th {\n",
       "        text-align: left;\n",
       "    }\n",
       "\n",
       "    .dataframe tbody tr th {\n",
       "        vertical-align: top;\n",
       "    }\n",
       "</style>\n",
       "<table border=\"1\" class=\"dataframe\">\n",
       "  <thead>\n",
       "    <tr style=\"text-align: right;\">\n",
       "      <th></th>\n",
       "      <th>nikkei</th>\n",
       "      <th>aord</th>\n",
       "      <th>nyse</th>\n",
       "      <th>dax</th>\n",
       "      <th>ftse</th>\n",
       "      <th>hangseng</th>\n",
       "      <th>sp500</th>\n",
       "      <th>djia</th>\n",
       "    </tr>\n",
       "  </thead>\n",
       "  <tbody>\n",
       "    <tr>\n",
       "      <th>2013-09-06</th>\n",
       "      <td>13860.81</td>\n",
       "      <td>5144.0</td>\n",
       "      <td>9420.3480</td>\n",
       "      <td>8234.98</td>\n",
       "      <td>6547.33</td>\n",
       "      <td>22621.22</td>\n",
       "      <td>1655.08</td>\n",
       "      <td>14937.48</td>\n",
       "    </tr>\n",
       "    <tr>\n",
       "      <th>2013-09-09</th>\n",
       "      <td>14205.23</td>\n",
       "      <td>5179.4</td>\n",
       "      <td>9420.3480</td>\n",
       "      <td>8234.98</td>\n",
       "      <td>6530.74</td>\n",
       "      <td>22750.65</td>\n",
       "      <td>1655.08</td>\n",
       "      <td>14937.48</td>\n",
       "    </tr>\n",
       "    <tr>\n",
       "      <th>2013-09-10</th>\n",
       "      <td>14423.36</td>\n",
       "      <td>5198.9</td>\n",
       "      <td>9539.9320</td>\n",
       "      <td>8276.32</td>\n",
       "      <td>6583.99</td>\n",
       "      <td>22976.65</td>\n",
       "      <td>1671.71</td>\n",
       "      <td>15063.12</td>\n",
       "    </tr>\n",
       "    <tr>\n",
       "      <th>2013-09-11</th>\n",
       "      <td>14425.07</td>\n",
       "      <td>5230.6</td>\n",
       "      <td>9620.7100</td>\n",
       "      <td>8446.54</td>\n",
       "      <td>6588.43</td>\n",
       "      <td>22937.14</td>\n",
       "      <td>1683.99</td>\n",
       "      <td>15191.06</td>\n",
       "    </tr>\n",
       "    <tr>\n",
       "      <th>2013-09-12</th>\n",
       "      <td>14387.27</td>\n",
       "      <td>5238.2</td>\n",
       "      <td>9655.3774</td>\n",
       "      <td>8495.73</td>\n",
       "      <td>6588.98</td>\n",
       "      <td>22953.72</td>\n",
       "      <td>1689.13</td>\n",
       "      <td>15326.60</td>\n",
       "    </tr>\n",
       "  </tbody>\n",
       "</table>\n",
       "</div>"
      ],
      "text/plain": [
       "              nikkei    aord       nyse      dax     ftse  hangseng    sp500  \\\n",
       "2013-09-06  13860.81  5144.0  9420.3480  8234.98  6547.33  22621.22  1655.08   \n",
       "2013-09-09  14205.23  5179.4  9420.3480  8234.98  6530.74  22750.65  1655.08   \n",
       "2013-09-10  14423.36  5198.9  9539.9320  8276.32  6583.99  22976.65  1671.71   \n",
       "2013-09-11  14425.07  5230.6  9620.7100  8446.54  6588.43  22937.14  1683.99   \n",
       "2013-09-12  14387.27  5238.2  9655.3774  8495.73  6588.98  22953.72  1689.13   \n",
       "\n",
       "                djia  \n",
       "2013-09-06  14937.48  \n",
       "2013-09-09  14937.48  \n",
       "2013-09-10  15063.12  \n",
       "2013-09-11  15191.06  \n",
       "2013-09-12  15326.60  "
      ]
     },
     "execution_count": 4,
     "metadata": {},
     "output_type": "execute_result"
    }
   ],
   "source": [
    "# read data into a DataFrame\n",
    "data = pd.read_csv('data/indicepanel.csv',index_col=0)\n",
    "data.head()\n",
    "#raw data OF CLOSE PRICE"
   ]
  },
  {
   "cell_type": "markdown",
   "metadata": {
    "slideshow": {
     "slide_type": "slide"
    }
   },
   "source": [
    "First we transform all price into log Return "
   ]
  },
  {
   "cell_type": "code",
   "execution_count": 5,
   "metadata": {
    "slideshow": {
     "slide_type": "fragment"
    }
   },
   "outputs": [
    {
     "data": {
      "text/html": [
       "<div>\n",
       "<style>\n",
       "    .dataframe thead tr:only-child th {\n",
       "        text-align: right;\n",
       "    }\n",
       "\n",
       "    .dataframe thead th {\n",
       "        text-align: left;\n",
       "    }\n",
       "\n",
       "    .dataframe tbody tr th {\n",
       "        vertical-align: top;\n",
       "    }\n",
       "</style>\n",
       "<table border=\"1\" class=\"dataframe\">\n",
       "  <thead>\n",
       "    <tr style=\"text-align: right;\">\n",
       "      <th></th>\n",
       "      <th>Price</th>\n",
       "      <th>sp500</th>\n",
       "      <th>nikkei</th>\n",
       "      <th>aord</th>\n",
       "      <th>nyse</th>\n",
       "      <th>dax</th>\n",
       "      <th>ftse</th>\n",
       "      <th>hangseng</th>\n",
       "      <th>djia</th>\n",
       "    </tr>\n",
       "  </thead>\n",
       "  <tbody>\n",
       "    <tr>\n",
       "      <th>2013-09-09</th>\n",
       "      <td>1655.08</td>\n",
       "      <td>0.000000</td>\n",
       "      <td>0.024545</td>\n",
       "      <td>0.006858</td>\n",
       "      <td>0.000000</td>\n",
       "      <td>0.000000</td>\n",
       "      <td>-0.002537</td>\n",
       "      <td>0.005705</td>\n",
       "      <td>0.000000</td>\n",
       "    </tr>\n",
       "    <tr>\n",
       "      <th>2013-09-10</th>\n",
       "      <td>1671.71</td>\n",
       "      <td>0.009998</td>\n",
       "      <td>0.015239</td>\n",
       "      <td>0.003758</td>\n",
       "      <td>0.012614</td>\n",
       "      <td>0.005007</td>\n",
       "      <td>0.008121</td>\n",
       "      <td>0.009885</td>\n",
       "      <td>0.008376</td>\n",
       "    </tr>\n",
       "    <tr>\n",
       "      <th>2013-09-11</th>\n",
       "      <td>1683.99</td>\n",
       "      <td>0.007319</td>\n",
       "      <td>0.000119</td>\n",
       "      <td>0.006079</td>\n",
       "      <td>0.008432</td>\n",
       "      <td>0.020358</td>\n",
       "      <td>0.000674</td>\n",
       "      <td>-0.001721</td>\n",
       "      <td>0.008458</td>\n",
       "    </tr>\n",
       "    <tr>\n",
       "      <th>2013-09-12</th>\n",
       "      <td>1689.13</td>\n",
       "      <td>0.003048</td>\n",
       "      <td>-0.002624</td>\n",
       "      <td>0.001452</td>\n",
       "      <td>0.003597</td>\n",
       "      <td>0.005807</td>\n",
       "      <td>0.000083</td>\n",
       "      <td>0.000723</td>\n",
       "      <td>0.008883</td>\n",
       "    </tr>\n",
       "    <tr>\n",
       "      <th>2013-09-13</th>\n",
       "      <td>1683.42</td>\n",
       "      <td>-0.003386</td>\n",
       "      <td>0.001209</td>\n",
       "      <td>-0.004496</td>\n",
       "      <td>-0.004990</td>\n",
       "      <td>-0.000204</td>\n",
       "      <td>-0.000786</td>\n",
       "      <td>-0.001676</td>\n",
       "      <td>-0.001695</td>\n",
       "    </tr>\n",
       "  </tbody>\n",
       "</table>\n",
       "</div>"
      ],
      "text/plain": [
       "              Price     sp500    nikkei      aord      nyse       dax  \\\n",
       "2013-09-09  1655.08  0.000000  0.024545  0.006858  0.000000  0.000000   \n",
       "2013-09-10  1671.71  0.009998  0.015239  0.003758  0.012614  0.005007   \n",
       "2013-09-11  1683.99  0.007319  0.000119  0.006079  0.008432  0.020358   \n",
       "2013-09-12  1689.13  0.003048 -0.002624  0.001452  0.003597  0.005807   \n",
       "2013-09-13  1683.42 -0.003386  0.001209 -0.004496 -0.004990 -0.000204   \n",
       "\n",
       "                ftse  hangseng      djia  \n",
       "2013-09-09 -0.002537  0.005705  0.000000  \n",
       "2013-09-10  0.008121  0.009885  0.008376  \n",
       "2013-09-11  0.000674 -0.001721  0.008458  \n",
       "2013-09-12  0.000083  0.000723  0.008883  \n",
       "2013-09-13 -0.000786 -0.001676 -0.001695  "
      ]
     },
     "execution_count": 5,
     "metadata": {},
     "output_type": "execute_result"
    }
   ],
   "source": [
    "ReturnPanel=pd.DataFrame() # calculate log return\n",
    "ReturnPanel['Price']=data['sp500']\n",
    "ReturnPanel['sp500']=np.log(data['sp500'])-np.log(data['sp500'].shift(1)) # Response \n",
    "ReturnPanel['nikkei']=np.log(data['nikkei'])-np.log(data['nikkei'].shift(1))\n",
    "ReturnPanel['aord']=np.log(data['aord'])-np.log(data['aord'].shift(1))\n",
    "ReturnPanel['nyse']=np.log(data['nyse'])-np.log(data['nyse'].shift(1))\n",
    "ReturnPanel['dax']=np.log(data['dax'])-np.log(data['dax'].shift(1))\n",
    "ReturnPanel['ftse']=np.log(data['ftse'])-np.log(data['ftse'].shift(1))\n",
    "ReturnPanel['hangseng']=np.log(data['hangseng'])-np.log(data['hangseng'].shift(1))\n",
    "ReturnPanel['djia']=np.log(data['djia'])-np.log(data['djia'].shift(1))\n",
    "ReturnPanel=ReturnPanel.dropna(axis=0)\n",
    "ReturnPanel.head()"
   ]
  },
  {
   "cell_type": "code",
   "execution_count": 6,
   "metadata": {
    "slideshow": {
     "slide_type": "slide"
    }
   },
   "outputs": [
    {
     "name": "stdout",
     "output_type": "stream",
     "text": [
      "<class 'pandas._libs.tslib.Timestamp'>\n"
     ]
    },
    {
     "data": {
      "text/html": [
       "<div>\n",
       "<style>\n",
       "    .dataframe thead tr:only-child th {\n",
       "        text-align: right;\n",
       "    }\n",
       "\n",
       "    .dataframe thead th {\n",
       "        text-align: left;\n",
       "    }\n",
       "\n",
       "    .dataframe tbody tr th {\n",
       "        vertical-align: top;\n",
       "    }\n",
       "</style>\n",
       "<table border=\"1\" class=\"dataframe\">\n",
       "  <thead>\n",
       "    <tr style=\"text-align: right;\">\n",
       "      <th></th>\n",
       "      <th>Price</th>\n",
       "      <th>sp500</th>\n",
       "      <th>sp500_lag</th>\n",
       "      <th>nikkei</th>\n",
       "      <th>nikkei_lag</th>\n",
       "      <th>aord</th>\n",
       "      <th>aord_lag</th>\n",
       "      <th>hangseng</th>\n",
       "      <th>hangseng_lag</th>\n",
       "      <th>nyse_lag</th>\n",
       "      <th>dax_lag</th>\n",
       "      <th>ftse_lag</th>\n",
       "      <th>djia_lag</th>\n",
       "    </tr>\n",
       "  </thead>\n",
       "  <tbody>\n",
       "    <tr>\n",
       "      <th>2013-09-10</th>\n",
       "      <td>1671.71</td>\n",
       "      <td>0.009998</td>\n",
       "      <td>0.000000</td>\n",
       "      <td>0.015239</td>\n",
       "      <td>0.024545</td>\n",
       "      <td>0.003758</td>\n",
       "      <td>0.006858</td>\n",
       "      <td>0.009885</td>\n",
       "      <td>0.005705</td>\n",
       "      <td>0.000000</td>\n",
       "      <td>0.000000</td>\n",
       "      <td>-0.002537</td>\n",
       "      <td>0.000000</td>\n",
       "    </tr>\n",
       "    <tr>\n",
       "      <th>2013-09-11</th>\n",
       "      <td>1683.99</td>\n",
       "      <td>0.007319</td>\n",
       "      <td>0.009998</td>\n",
       "      <td>0.000119</td>\n",
       "      <td>0.015239</td>\n",
       "      <td>0.006079</td>\n",
       "      <td>0.003758</td>\n",
       "      <td>-0.001721</td>\n",
       "      <td>0.009885</td>\n",
       "      <td>0.012614</td>\n",
       "      <td>0.005007</td>\n",
       "      <td>0.008121</td>\n",
       "      <td>0.008376</td>\n",
       "    </tr>\n",
       "    <tr>\n",
       "      <th>2013-09-12</th>\n",
       "      <td>1689.13</td>\n",
       "      <td>0.003048</td>\n",
       "      <td>0.007319</td>\n",
       "      <td>-0.002624</td>\n",
       "      <td>0.000119</td>\n",
       "      <td>0.001452</td>\n",
       "      <td>0.006079</td>\n",
       "      <td>0.000723</td>\n",
       "      <td>-0.001721</td>\n",
       "      <td>0.008432</td>\n",
       "      <td>0.020358</td>\n",
       "      <td>0.000674</td>\n",
       "      <td>0.008458</td>\n",
       "    </tr>\n",
       "    <tr>\n",
       "      <th>2013-09-13</th>\n",
       "      <td>1683.42</td>\n",
       "      <td>-0.003386</td>\n",
       "      <td>0.003048</td>\n",
       "      <td>0.001209</td>\n",
       "      <td>-0.002624</td>\n",
       "      <td>-0.004496</td>\n",
       "      <td>0.001452</td>\n",
       "      <td>-0.001676</td>\n",
       "      <td>0.000723</td>\n",
       "      <td>0.003597</td>\n",
       "      <td>0.005807</td>\n",
       "      <td>0.000083</td>\n",
       "      <td>0.008883</td>\n",
       "    </tr>\n",
       "    <tr>\n",
       "      <th>2013-09-17</th>\n",
       "      <td>1697.60</td>\n",
       "      <td>0.008388</td>\n",
       "      <td>-0.003386</td>\n",
       "      <td>-0.006477</td>\n",
       "      <td>0.001209</td>\n",
       "      <td>0.005832</td>\n",
       "      <td>-0.004496</td>\n",
       "      <td>0.011508</td>\n",
       "      <td>-0.001676</td>\n",
       "      <td>-0.004990</td>\n",
       "      <td>-0.000204</td>\n",
       "      <td>-0.000786</td>\n",
       "      <td>-0.001695</td>\n",
       "    </tr>\n",
       "  </tbody>\n",
       "</table>\n",
       "</div>"
      ],
      "text/plain": [
       "              Price     sp500  sp500_lag    nikkei  nikkei_lag      aord  \\\n",
       "2013-09-10  1671.71  0.009998   0.000000  0.015239    0.024545  0.003758   \n",
       "2013-09-11  1683.99  0.007319   0.009998  0.000119    0.015239  0.006079   \n",
       "2013-09-12  1689.13  0.003048   0.007319 -0.002624    0.000119  0.001452   \n",
       "2013-09-13  1683.42 -0.003386   0.003048  0.001209   -0.002624 -0.004496   \n",
       "2013-09-17  1697.60  0.008388  -0.003386 -0.006477    0.001209  0.005832   \n",
       "\n",
       "            aord_lag  hangseng  hangseng_lag  nyse_lag   dax_lag  ftse_lag  \\\n",
       "2013-09-10  0.006858  0.009885      0.005705  0.000000  0.000000 -0.002537   \n",
       "2013-09-11  0.003758 -0.001721      0.009885  0.012614  0.005007  0.008121   \n",
       "2013-09-12  0.006079  0.000723     -0.001721  0.008432  0.020358  0.000674   \n",
       "2013-09-13  0.001452 -0.001676      0.000723  0.003597  0.005807  0.000083   \n",
       "2013-09-17 -0.004496  0.011508     -0.001676 -0.004990 -0.000204 -0.000786   \n",
       "\n",
       "            djia_lag  \n",
       "2013-09-10  0.000000  \n",
       "2013-09-11  0.008376  \n",
       "2013-09-12  0.008458  \n",
       "2013-09-13  0.008883  \n",
       "2013-09-17 -0.001695  "
      ]
     },
     "execution_count": 6,
     "metadata": {},
     "output_type": "execute_result"
    }
   ],
   "source": [
    "dataMatrix=pd.DataFrame()\n",
    "dataMatrix['Price']=ReturnPanel['Price']\n",
    "dataMatrix['sp500']=ReturnPanel['sp500']# Y\n",
    "dataMatrix['sp500_lag']=ReturnPanel['sp500'].shift(1)\n",
    "dataMatrix['nikkei']=ReturnPanel['nikkei']\n",
    "dataMatrix['nikkei_lag']=ReturnPanel['nikkei'].shift(1)\n",
    "dataMatrix['aord']=ReturnPanel['aord']\n",
    "dataMatrix['aord_lag']=ReturnPanel['aord'].shift(1)\n",
    "dataMatrix['hangseng']=ReturnPanel['hangseng']\n",
    "dataMatrix['hangseng_lag']=ReturnPanel['hangseng'].shift(1)\n",
    "dataMatrix['nyse_lag']=ReturnPanel['nyse'].shift(1)\n",
    "dataMatrix['dax_lag']=ReturnPanel['dax'].shift(1)\n",
    "dataMatrix['ftse_lag']=ReturnPanel['ftse'].shift(1)\n",
    "dataMatrix['djia_lag']=ReturnPanel['djia'].shift(1)\n",
    "dataMatrix=dataMatrix.dropna(axis=0)# must-do step in order to build model \n",
    "dataMatrix.index=pd.to_datetime(dataMatrix.index)\n",
    "print(type(dataMatrix.index[0]))\n",
    "dataMatrix.head()"
   ]
  },
  {
   "cell_type": "markdown",
   "metadata": {
    "slideshow": {
     "slide_type": "slide"
    }
   },
   "source": [
    "The first column is close price of 'sp500'. The second column is  reponse and the rest columns are predictors. We split the data into train and test. "
   ]
  },
  {
   "cell_type": "code",
   "execution_count": 7,
   "metadata": {
    "slideshow": {
     "slide_type": "slide"
    }
   },
   "outputs": [
    {
     "name": "stdout",
     "output_type": "stream",
     "text": [
      "(974, 13)\n"
     ]
    }
   ],
   "source": [
    "print(dataMatrix.shape)\n",
    "# avoid overfitting \n",
    "Train=dataMatrix.iloc[:780,:]\n",
    "Test=dataMatrix.iloc[780:,:]"
   ]
  },
  {
   "cell_type": "markdown",
   "metadata": {
    "slideshow": {
     "slide_type": "slide"
    }
   },
   "source": [
    "## Feature Selection\n"
   ]
  },
  {
   "cell_type": "markdown",
   "metadata": {
    "slideshow": {
     "slide_type": "slide"
    }
   },
   "source": [
    "Variable selection is intended to select the “best” subset of predictors.\n",
    "\n",
    "- We want to explain the data in the simplest way — redundant predictors should be removed. The principle of Occam’s Razor states that among several plausible explanations for a phenomenon, the simplest is best. Applied to regression analysis, this implies that the smallest model that fits the data is best.\n",
    "\n",
    "- Unnecessary predictors will add noise to the estimation of other quantities that we are interested in. \n",
    "\n",
    "- Collinearity is caused by having too many variables trying to do the same job."
   ]
  },
  {
   "cell_type": "markdown",
   "metadata": {
    "slideshow": {
     "slide_type": "slide"
    }
   },
   "source": [
    "**R-squared will always increase as you add more features to the model**, even if they are unrelated to the response. Thus, selecting the model with the highest R-squared is not a reliable approach for choosing the best linear model.\n",
    "\n",
    "There is alternative to R-squared called **adjusted R-squared** that penalizes model complexity ."
   ]
  },
  {
   "cell_type": "markdown",
   "metadata": {
    "slideshow": {
     "slide_type": "slide"
    }
   },
   "source": [
    "Last quesiton is how to try different models? we have 7 features, how many models should we try? totally $2^7$  models.\n",
    "\n",
    "There are two main kinds of procedures\n",
    "- Stepwise procedure\n",
    "- Criterion-based procedures \n",
    "\n",
    "\n"
   ]
  },
  {
   "cell_type": "markdown",
   "metadata": {
    "slideshow": {
     "slide_type": "slide"
    }
   },
   "source": [
    "## Stepwise procedure\n",
    "There are major stepwise procedures: backward elimination and forward selection algorithms."
   ]
  },
  {
   "cell_type": "markdown",
   "metadata": {
    "slideshow": {
     "slide_type": "slide"
    }
   },
   "source": [
    "\n",
    "#### Backward elimination\n",
    "\n",
    "\n",
    "For backward elimination, we can use p-value approach or adjusted rsquare standard. "
   ]
  },
  {
   "cell_type": "markdown",
   "metadata": {
    "slideshow": {
     "slide_type": "slide"
    }
   },
   "source": [
    "Using p-value: \n",
    "- Start with all the predictors in the model\n",
    "- Remove the predictor with highest p-value greater than significance level. \n",
    "- Refit the model and goto 2\n",
    "- Stop when all p-values are less than significance level.\n",
    "\n",
    "The significance level here  is alsocalled the “p-to-remove” and does not have to be 5%. If prediction performance is the goal, then a 15-20% cut-off may work best. "
   ]
  },
  {
   "cell_type": "markdown",
   "metadata": {
    "collapsed": true,
    "slideshow": {
     "slide_type": "slide"
    }
   },
   "source": [
    "Using adjusted rsquare: \n",
    "- Start with all the predictors in the model\n",
    "- Remove the predictor whose reduced model has  highest adjusted  rquare. \n",
    "- Refit the model and goto 2\n",
    "- Stop when all reduced models' adjusted rsquare is less than the best model in last step.   are less than significance level.\n",
    "\n"
   ]
  },
  {
   "cell_type": "markdown",
   "metadata": {},
   "source": [
    "### Select Best Model Using Backward Elimination"
   ]
  },
  {
   "cell_type": "markdown",
   "metadata": {},
   "source": [
    "We start with full model of 7 predictors. "
   ]
  },
  {
   "cell_type": "code",
   "execution_count": 10,
   "metadata": {
    "collapsed": true
   },
   "outputs": [],
   "source": [
    "full= smf.ols(formula='sp500~nikkei+nikkei_lag+aord+aord_lag+ftse_lag+hangseng+hangseng_lag ', data=Train).fit()"
   ]
  },
  {
   "cell_type": "markdown",
   "metadata": {},
   "source": [
    "We have 7 reduced model in the first step"
   ]
  },
  {
   "cell_type": "code",
   "execution_count": 11,
   "metadata": {
    "collapsed": true
   },
   "outputs": [],
   "source": [
    "del1= smf.ols(formula='sp500~nikkei_lag+aord+aord_lag+ftse_lag+hangseng+hangseng_lag ', data=Train).fit()\n",
    "del2= smf.ols(formula='sp500~nikkei+aord+aord_lag+ftse_lag+hangseng+hangseng_lag ', data=Train).fit()\n",
    "del3= smf.ols(formula='sp500~nikkei+nikkei_lag+aord_lag+ftse_lag+hangseng+hangseng_lag ', data=Train).fit()\n",
    "del4= smf.ols(formula='sp500~nikkei+nikkei_lag+aord+ftse_lag+hangseng+hangseng_lag ', data=Train).fit()\n",
    "del5= smf.ols(formula='sp500~nikkei+nikkei_lag+aord+aord_lag+hangseng+hangseng_lag ', data=Train).fit()\n",
    "del6= smf.ols(formula='sp500~nikkei+nikkei_lag+aord+aord_lag+ftse_lag+hangseng_lag ', data=Train).fit()\n",
    "del7= smf.ols(formula='sp500~nikkei+nikkei_lag+aord+aord_lag+ftse_lag+hangseng ', data=Train).fit()"
   ]
  },
  {
   "cell_type": "markdown",
   "metadata": {},
   "source": [
    "where 'del'+'i' means , this model is achieved by deleting ith predictor in the full model.  We will prints adjusted rsquare for all reduced models in this step and full model. "
   ]
  },
  {
   "cell_type": "code",
   "execution_count": 14,
   "metadata": {},
   "outputs": [
    {
     "name": "stdout",
     "output_type": "stream",
     "text": [
      "0.227818419213 0.252806975054 0.236619291307 0.263503279036\n"
     ]
    }
   ],
   "source": [
    "print(del1.rsquared_adj,del2.rsquared_adj,del3.rsquared_adj,del4.rsquared_adj)"
   ]
  },
  {
   "cell_type": "code",
   "execution_count": 13,
   "metadata": {},
   "outputs": [
    {
     "name": "stdout",
     "output_type": "stream",
     "text": [
      "0.24316755416 0.263040906667 0.260959095858 0.262819656417\n"
     ]
    }
   ],
   "source": [
    "print(del5.rsquared_adj,del6.rsquared_adj,del7.rsquared_adj,full.rsquared_adj)"
   ]
  },
  {
   "cell_type": "markdown",
   "metadata": {},
   "source": [
    "We know that del4 is better than full model. Now we start from del4 to get 6 reduced models by cutting predictors fro del4. "
   ]
  },
  {
   "cell_type": "code",
   "execution_count": 17,
   "metadata": {
    "collapsed": true
   },
   "outputs": [],
   "source": [
    "del41= smf.ols(formula='sp500~nikkei_lag+aord+ftse_lag+hangseng+hangseng_lag ', data=Train).fit()\n",
    "del42= smf.ols(formula='sp500~nikkei+aord+ftse_lag+hangseng+hangseng_lag ', data=Train).fit()\n",
    "del43= smf.ols(formula='sp500~nikkei+nikkei_lag+ftse_lag+hangseng+hangseng_lag ', data=Train).fit()\n",
    "del44= smf.ols(formula='sp500~nikkei+nikkei_lag+aord+hangseng+hangseng_lag ', data=Train).fit()\n",
    "del45= smf.ols(formula='sp500~nikkei+nikkei_lag+aord+ftse_lag+hangseng_lag ', data=Train).fit()\n",
    "del46= smf.ols(formula='sp500~nikkei+nikkei_lag+aord+ftse_lag+hangseng ', data=Train).fit()"
   ]
  },
  {
   "cell_type": "code",
   "execution_count": 20,
   "metadata": {},
   "outputs": [
    {
     "name": "stdout",
     "output_type": "stream",
     "text": [
      "0.227969775216 0.251198272685 0.23754460483 0.242497814785\n",
      "0.263713395463 0.260623643976 0.263503279036\n"
     ]
    }
   ],
   "source": [
    "print(del41.rsquared_adj,del42.rsquared_adj,del43.rsquared_adj,del44.rsquared_adj)\n",
    "print(del45.rsquared_adj,del46.rsquared_adj,del4.rsquared_adj)"
   ]
  },
  {
   "cell_type": "markdown",
   "metadata": {},
   "source": [
    "del45 is the best. We will start from del45 to get 5 reduced models. "
   ]
  },
  {
   "cell_type": "code",
   "execution_count": 21,
   "metadata": {
    "collapsed": true
   },
   "outputs": [],
   "source": [
    "del451= smf.ols(formula='sp500~nikkei_lag+aord+ftse_lag+hangseng_lag ', data=Train).fit()\n",
    "del452= smf.ols(formula='sp500~nikkei+aord+ftse_lag+hangseng_lag ', data=Train).fit()\n",
    "del453= smf.ols(formula='sp500~nikkei+nikkei_lag+ftse_lag+hangseng_lag ', data=Train).fit()\n",
    "del454= smf.ols(formula='sp500~nikkei+nikkei_lag+aord+hangseng_lag ', data=Train).fit()\n",
    "del455= smf.ols(formula='sp500~nikkei+nikkei_lag+aord+ftse_lag', data=Train).fit()"
   ]
  },
  {
   "cell_type": "code",
   "execution_count": 22,
   "metadata": {},
   "outputs": [
    {
     "name": "stdout",
     "output_type": "stream",
     "text": [
      "0.220368891022 0.250920023226 0.229698023549 0.242265696015\n",
      "0.261089560191 0.263713395463\n"
     ]
    }
   ],
   "source": [
    "print(del451.rsquared_adj,del452.rsquared_adj,del453.rsquared_adj,del454.rsquared_adj)\n",
    "print(del455.rsquared_adj,del45.rsquared_adj)"
   ]
  },
  {
   "cell_type": "markdown",
   "metadata": {},
   "source": [
    "The reduced modes in this step is not better than the model del45 in previous step. Hence the best model is del45"
   ]
  },
  {
   "cell_type": "markdown",
   "metadata": {},
   "source": [
    "#### Evaluation using statistical standard"
   ]
  },
  {
   "cell_type": "code",
   "execution_count": 25,
   "metadata": {},
   "outputs": [
    {
     "data": {
      "text/html": [
       "<div>\n",
       "<style>\n",
       "    .dataframe thead tr:only-child th {\n",
       "        text-align: right;\n",
       "    }\n",
       "\n",
       "    .dataframe thead th {\n",
       "        text-align: left;\n",
       "    }\n",
       "\n",
       "    .dataframe tbody tr th {\n",
       "        vertical-align: top;\n",
       "    }\n",
       "</style>\n",
       "<table border=\"1\" class=\"dataframe\">\n",
       "  <thead>\n",
       "    <tr style=\"text-align: right;\">\n",
       "      <th></th>\n",
       "      <th>Train</th>\n",
       "      <th>Test</th>\n",
       "    </tr>\n",
       "  </thead>\n",
       "  <tbody>\n",
       "    <tr>\n",
       "      <th>R2</th>\n",
       "      <td>0.262820</td>\n",
       "      <td>0.337431</td>\n",
       "    </tr>\n",
       "    <tr>\n",
       "      <th>RMSE</th>\n",
       "      <td>0.007672</td>\n",
       "      <td>0.003834</td>\n",
       "    </tr>\n",
       "  </tbody>\n",
       "</table>\n",
       "</div>"
      ],
      "text/plain": [
       "         Train      Test\n",
       "R2    0.262820  0.337431\n",
       "RMSE  0.007672  0.003834"
      ]
     },
     "execution_count": 25,
     "metadata": {},
     "output_type": "execute_result"
    }
   ],
   "source": [
    "assessTable(Test,Train,full,7,'sp500')"
   ]
  },
  {
   "cell_type": "code",
   "execution_count": 24,
   "metadata": {},
   "outputs": [
    {
     "data": {
      "text/html": [
       "<div>\n",
       "<style>\n",
       "    .dataframe thead tr:only-child th {\n",
       "        text-align: right;\n",
       "    }\n",
       "\n",
       "    .dataframe thead th {\n",
       "        text-align: left;\n",
       "    }\n",
       "\n",
       "    .dataframe tbody tr th {\n",
       "        vertical-align: top;\n",
       "    }\n",
       "</style>\n",
       "<table border=\"1\" class=\"dataframe\">\n",
       "  <thead>\n",
       "    <tr style=\"text-align: right;\">\n",
       "      <th></th>\n",
       "      <th>Train</th>\n",
       "      <th>Test</th>\n",
       "    </tr>\n",
       "  </thead>\n",
       "  <tbody>\n",
       "    <tr>\n",
       "      <th>R2</th>\n",
       "      <td>0.263713</td>\n",
       "      <td>0.355066</td>\n",
       "    </tr>\n",
       "    <tr>\n",
       "      <th>RMSE</th>\n",
       "      <td>0.007668</td>\n",
       "      <td>0.003855</td>\n",
       "    </tr>\n",
       "  </tbody>\n",
       "</table>\n",
       "</div>"
      ],
      "text/plain": [
       "         Train      Test\n",
       "R2    0.263713  0.355066\n",
       "RMSE  0.007668  0.003855"
      ]
     },
     "execution_count": 24,
     "metadata": {},
     "output_type": "execute_result"
    }
   ],
   "source": [
    "assessTable(Test,Train,del45,5,'sp500')"
   ]
  },
  {
   "cell_type": "markdown",
   "metadata": {},
   "source": [
    "We can find that the best model performances are better than those of full model.  "
   ]
  },
  {
   "cell_type": "markdown",
   "metadata": {},
   "source": [
    "#### Evaluation using practical standards "
   ]
  },
  {
   "cell_type": "markdown",
   "metadata": {},
   "source": [
    "We need to get wealth process using different signals \"FullSignal\" and \"BestSignal\" given by different models \"full\" and \"del45\"."
   ]
  },
  {
   "cell_type": "code",
   "execution_count": 26,
   "metadata": {},
   "outputs": [
    {
     "data": {
      "text/html": [
       "<div>\n",
       "<style>\n",
       "    .dataframe thead tr:only-child th {\n",
       "        text-align: right;\n",
       "    }\n",
       "\n",
       "    .dataframe thead th {\n",
       "        text-align: left;\n",
       "    }\n",
       "\n",
       "    .dataframe tbody tr th {\n",
       "        vertical-align: top;\n",
       "    }\n",
       "</style>\n",
       "<table border=\"1\" class=\"dataframe\">\n",
       "  <thead>\n",
       "    <tr style=\"text-align: right;\">\n",
       "      <th></th>\n",
       "      <th>Price</th>\n",
       "      <th>FullSignal</th>\n",
       "      <th>BestSignal</th>\n",
       "    </tr>\n",
       "  </thead>\n",
       "  <tbody>\n",
       "    <tr>\n",
       "      <th>2013-09-10</th>\n",
       "      <td>1671.71</td>\n",
       "      <td>0.005535</td>\n",
       "      <td>0.005421</td>\n",
       "    </tr>\n",
       "    <tr>\n",
       "      <th>2013-09-11</th>\n",
       "      <td>1683.99</td>\n",
       "      <td>0.004513</td>\n",
       "      <td>0.004689</td>\n",
       "    </tr>\n",
       "    <tr>\n",
       "      <th>2013-09-12</th>\n",
       "      <td>1689.13</td>\n",
       "      <td>0.000366</td>\n",
       "      <td>0.000209</td>\n",
       "    </tr>\n",
       "    <tr>\n",
       "      <th>2013-09-13</th>\n",
       "      <td>1683.42</td>\n",
       "      <td>-0.000686</td>\n",
       "      <td>-0.000733</td>\n",
       "    </tr>\n",
       "    <tr>\n",
       "      <th>2013-09-17</th>\n",
       "      <td>1697.60</td>\n",
       "      <td>0.000670</td>\n",
       "      <td>0.000485</td>\n",
       "    </tr>\n",
       "  </tbody>\n",
       "</table>\n",
       "</div>"
      ],
      "text/plain": [
       "              Price  FullSignal  BestSignal\n",
       "2013-09-10  1671.71    0.005535    0.005421\n",
       "2013-09-11  1683.99    0.004513    0.004689\n",
       "2013-09-12  1689.13    0.000366    0.000209\n",
       "2013-09-13  1683.42   -0.000686   -0.000733\n",
       "2013-09-17  1697.60    0.000670    0.000485"
      ]
     },
     "execution_count": 26,
     "metadata": {},
     "output_type": "execute_result"
    }
   ],
   "source": [
    "Trade_Train=pd.DataFrame()\n",
    "Trade_Train['Price']=Train['Price']\n",
    "Trade_Train['FullSignal']=full.predict(Train)\n",
    "Trade_Train['BestSignal']=del45.predict(Train)\n",
    "Trade_Train.head()"
   ]
  },
  {
   "cell_type": "code",
   "execution_count": 27,
   "metadata": {},
   "outputs": [
    {
     "data": {
      "text/html": [
       "<div>\n",
       "<style>\n",
       "    .dataframe thead tr:only-child th {\n",
       "        text-align: right;\n",
       "    }\n",
       "\n",
       "    .dataframe thead th {\n",
       "        text-align: left;\n",
       "    }\n",
       "\n",
       "    .dataframe tbody tr th {\n",
       "        vertical-align: top;\n",
       "    }\n",
       "</style>\n",
       "<table border=\"1\" class=\"dataframe\">\n",
       "  <thead>\n",
       "    <tr style=\"text-align: right;\">\n",
       "      <th></th>\n",
       "      <th>Price</th>\n",
       "      <th>FullSignal</th>\n",
       "      <th>BestSignal</th>\n",
       "    </tr>\n",
       "  </thead>\n",
       "  <tbody>\n",
       "    <tr>\n",
       "      <th>2016-11-22</th>\n",
       "      <td>2198.18</td>\n",
       "      <td>0.004084</td>\n",
       "      <td>0.003943</td>\n",
       "    </tr>\n",
       "    <tr>\n",
       "      <th>2016-11-24</th>\n",
       "      <td>2204.72</td>\n",
       "      <td>0.005026</td>\n",
       "      <td>0.005126</td>\n",
       "    </tr>\n",
       "    <tr>\n",
       "      <th>2016-11-25</th>\n",
       "      <td>2204.72</td>\n",
       "      <td>0.003296</td>\n",
       "      <td>0.003023</td>\n",
       "    </tr>\n",
       "    <tr>\n",
       "      <th>2016-11-28</th>\n",
       "      <td>2204.72</td>\n",
       "      <td>-0.000457</td>\n",
       "      <td>-0.000719</td>\n",
       "    </tr>\n",
       "    <tr>\n",
       "      <th>2016-11-29</th>\n",
       "      <td>2201.72</td>\n",
       "      <td>-0.000705</td>\n",
       "      <td>-0.000495</td>\n",
       "    </tr>\n",
       "  </tbody>\n",
       "</table>\n",
       "</div>"
      ],
      "text/plain": [
       "              Price  FullSignal  BestSignal\n",
       "2016-11-22  2198.18    0.004084    0.003943\n",
       "2016-11-24  2204.72    0.005026    0.005126\n",
       "2016-11-25  2204.72    0.003296    0.003023\n",
       "2016-11-28  2204.72   -0.000457   -0.000719\n",
       "2016-11-29  2201.72   -0.000705   -0.000495"
      ]
     },
     "execution_count": 27,
     "metadata": {},
     "output_type": "execute_result"
    }
   ],
   "source": [
    "Trade_Test=pd.DataFrame()\n",
    "Trade_Test['Price']=Test['Price']\n",
    "Trade_Test['FullSignal']=full.predict(Test)\n",
    "Trade_Test['BestSignal']=del45.predict(Test)\n",
    "Trade_Test.head()"
   ]
  },
  {
   "cell_type": "markdown",
   "metadata": {},
   "source": [
    "We will generate FullWealth and BestWealth using two different signals. "
   ]
  },
  {
   "cell_type": "code",
   "execution_count": 29,
   "metadata": {},
   "outputs": [
    {
     "name": "stdout",
     "output_type": "stream",
     "text": [
      "5111.91 5146.969999999999\n"
     ]
    }
   ],
   "source": [
    "Trade_Train['FullOrder']=[1 if sig>0 else -1 for sig in Trade_Train['FullSignal']  ]\n",
    "Trade_Train['BestOrder']=[1 if sig>0 else -1 for sig in Trade_Train['BestSignal']  ]\n",
    "Trade_Train['Price_change']=Trade_Train['Price']-Trade_Train['Price'].shift(1)\n",
    "Trade_Train['FullProfit']=Trade_Train['Price_change']*Trade_Train['FullOrder']\n",
    "Trade_Train['BestProfit']=Trade_Train['Price_change']*Trade_Train['BestOrder']\n",
    "print(Trade_Train['FullProfit'].sum(),Trade_Train['BestProfit'].sum())\n",
    "Trade_Train['FullWealth']=Trade_Train['FullProfit'].cumsum()+Trade_Train['Price'][0]\n",
    "Trade_Train['BestWealth']=Trade_Train['BestProfit'].cumsum()+Trade_Train['Price'][0]\n"
   ]
  },
  {
   "cell_type": "code",
   "execution_count": 31,
   "metadata": {},
   "outputs": [
    {
     "name": "stdout",
     "output_type": "stream",
     "text": [
      "665.5699999999979 677.0299999999988\n"
     ]
    }
   ],
   "source": [
    "Trade_Test['FullOrder']=[1 if sig>0 else -1 for sig in Trade_Test['FullSignal']  ]\n",
    "Trade_Test['BestOrder']=[1 if sig>0 else -1 for sig in Trade_Test['BestSignal']  ]\n",
    "Trade_Test['Price_change']=Trade_Test['Price']-Trade_Test['Price'].shift(1)\n",
    "Trade_Test['FullProfit']=Trade_Test['Price_change']*Trade_Test['FullOrder']\n",
    "Trade_Test['BestProfit']=Trade_Test['Price_change']*Trade_Test['BestOrder']\n",
    "print(Trade_Test['FullProfit'].sum(),Trade_Test['BestProfit'].sum())\n",
    "Trade_Test['FullWealth']=Trade_Test['FullProfit'].cumsum()+Trade_Test['Price'][0]\n",
    "Trade_Test['BestWealth']=Trade_Test['BestProfit'].cumsum()+Trade_Test['Price'][0]"
   ]
  },
  {
   "cell_type": "markdown",
   "metadata": {},
   "source": [
    "Next we compare drawdown in both train and test"
   ]
  },
  {
   "cell_type": "code",
   "execution_count": 34,
   "metadata": {},
   "outputs": [
    {
     "name": "stdout",
     "output_type": "stream",
     "text": [
      "Maximum drawdown rate in test is Full:  0.0118873781314  Best:  0.0118873781314\n"
     ]
    }
   ],
   "source": [
    "# COMPUTE  maximum process: highest wealth ever achieved so far \n",
    "Trade_Test['FullPeak']=[Trade_Test.loc[:any_index,'FullWealth'].max() \n",
    "                    for any_index in Trade_Test.index ]\n",
    "Trade_Test['BestPeak']=[Trade_Test.loc[:any_index,'BestWealth'].max() \n",
    "                    for any_index in Trade_Test.index ]\n",
    "Trade_Test['FullDrawdown']=(Trade_Test['FullPeak']-Trade_Test['FullWealth'])/Trade_Test['FullPeak']\n",
    "Trade_Test['BestDrawdown']=(Trade_Test['BestPeak']-Trade_Test['BestWealth'])/Trade_Test['BestPeak']\n",
    "\n",
    "print(\"Maximum drawdown rate in test is\", \"Full: \", Trade_Test['FullDrawdown'].max(),\" Best: \",Trade_Test['BestDrawdown'].max())\n"
   ]
  },
  {
   "cell_type": "code",
   "execution_count": 35,
   "metadata": {},
   "outputs": [
    {
     "name": "stdout",
     "output_type": "stream",
     "text": [
      "Maximum drawdown rate in Train is Full:  0.0138127921266  Best:  0.0138127921266\n"
     ]
    }
   ],
   "source": [
    "# COMPUTE  maximum process: highest wealth ever achieved so far \n",
    "Trade_Train['FullPeak']=[Trade_Train.loc[:any_index,'FullWealth'].max() \n",
    "                    for any_index in Trade_Train.index ]\n",
    "Trade_Train['BestPeak']=[Trade_Train.loc[:any_index,'BestWealth'].max() \n",
    "                    for any_index in Trade_Train.index ]\n",
    "Trade_Train['FullDrawdown']=(Trade_Train['FullPeak']-Trade_Train['FullWealth'])/Trade_Train['FullPeak']\n",
    "Trade_Train['BestDrawdown']=(Trade_Train['BestPeak']-Trade_Train['BestWealth'])/Trade_Train['BestPeak']\n",
    "\n",
    "print(\"Maximum drawdown rate in Train is\", \"Full: \", Trade_Train['FullDrawdown'].max(),\" Best: \",Trade_Train['BestDrawdown'].max())\n"
   ]
  },
  {
   "cell_type": "markdown",
   "metadata": {},
   "source": [
    "Maximum drawdown are the same for two signals in both train and test. Next we will compare sharpe ratios of two models in both train and test"
   ]
  },
  {
   "cell_type": "code",
   "execution_count": 39,
   "metadata": {},
   "outputs": [
    {
     "name": "stdout",
     "output_type": "stream",
     "text": [
      "yearly sharpe ratio for the full mdoel is   6.119066805280244\n",
      "yearly sharpe ratio for the best mdoel is   6.149920704217581\n"
     ]
    }
   ],
   "source": [
    "#daily return process of wealth\n",
    "Trade_Train['FullReturn']=(Trade_Train['FullWealth']\n",
    "                      -Trade_Train['FullWealth'].shift(1))/Trade_Train['FullWealth'].shift(1)\n",
    "Trade_Train['BestReturn']=(Trade_Train['BestWealth']\n",
    "                      -Trade_Train['BestWealth'].shift(1))/Trade_Train['BestWealth'].shift(1)\n",
    "dailybest=Trade_Train['BestReturn'].dropna()\n",
    "dailyfull=Trade_Train['FullReturn'].dropna()\n",
    "print(\"yearly sharpe ratio for the full mdoel is  \", (220**0.5)*dailyfull.mean()/dailyfull.std(ddof=1))\n",
    "print(\"yearly sharpe ratio for the best mdoel is  \", (220**0.5)*dailybest.mean()/dailybest.std(ddof=1))\n"
   ]
  },
  {
   "cell_type": "code",
   "execution_count": 40,
   "metadata": {},
   "outputs": [
    {
     "name": "stdout",
     "output_type": "stream",
     "text": [
      "yearly sharpe ratio for the full mdoel is   5.2322513219192865\n",
      "yearly sharpe ratio for the best mdoel is   5.3581849376915365\n"
     ]
    }
   ],
   "source": [
    "\n",
    "Trade_Test['FullReturn']=(Trade_Test['FullWealth']\n",
    "                      -Trade_Test['FullWealth'].shift(1))/Trade_Test['FullWealth'].shift(1)\n",
    "Trade_Test['BestReturn']=(Trade_Test['BestWealth']\n",
    "                      -Trade_Test['BestWealth'].shift(1))/Trade_Test['BestWealth'].shift(1)\n",
    "dailybest=Trade_Test['BestReturn'].dropna()\n",
    "dailyfull=Trade_Test['FullReturn'].dropna()\n",
    "print(\"yearly sharpe ratio for the full mdoel is  \", (220**0.5)*dailyfull.mean()/dailyfull.std(ddof=1))\n",
    "print(\"yearly sharpe ratio for the best mdoel is  \", (220**0.5)*dailybest.mean()/dailybest.std(ddof=1))"
   ]
  },
  {
   "cell_type": "markdown",
   "metadata": {},
   "source": [
    "In both train and test set, sharpe ratio increases in the best model. "
   ]
  },
  {
   "cell_type": "markdown",
   "metadata": {
    "slideshow": {
     "slide_type": "slide"
    }
   },
   "source": [
    "### Forward Selection\n",
    "We also can use p-value approach and adjusted Rsquare"
   ]
  },
  {
   "cell_type": "markdown",
   "metadata": {
    "slideshow": {
     "slide_type": "slide"
    }
   },
   "source": [
    "Using p-value:\n",
    "- Start with no variables in the model.\n",
    "- For all predictors not in the model, check their p-value if they are added to the model. Choose the one with lowest p-value less than significance level .\n",
    "- Continue until no new predictors can be added.\n",
    "\n",
    "The significance level here  is alsocalled the “p-to-add” "
   ]
  },
  {
   "cell_type": "markdown",
   "metadata": {
    "collapsed": true,
    "slideshow": {
     "slide_type": "slide"
    }
   },
   "source": [
    "Using adjusted Rsquare:\n",
    "- Start with no variables in the model (base model).\n",
    "- Add the predictor to base model (or best model in last step) whose adjusted rsquare is highest\n",
    "- Continue until no new predictors can be added (Adding new predictor does not increase adjusted rsquare)\n",
    " "
   ]
  },
  {
   "cell_type": "markdown",
   "metadata": {
    "slideshow": {
     "slide_type": "slide"
    }
   },
   "source": [
    "## Criterion-based Procedures\n",
    "\n",
    "If there are k potential predictors, then there are $2^k$ possible models. We fit all these models and choose the best one according to some criterion. Here are some oftern used criterion.\n",
    "\n",
    "- The Akaike Information Criterion (AIC) and the Bayes Information Criterion (BIC) are some other commonly used criteria. In general,\n",
    "$$\n",
    "AIC=2k + n Log(\\frac{SSE}{n})\n",
    "$$\n",
    "where\n",
    "$$\n",
    "BIC=kLog(n)+n Log(\\frac{SSE}{n})\n",
    "$$"
   ]
  },
  {
   "cell_type": "markdown",
   "metadata": {
    "slideshow": {
     "slide_type": "slide"
    }
   },
   "source": [
    "We want to minimize AIC or BIC. Larger models will fit better and so have smaller RSS but use more parameters. Thus the best choice of model will balance fit with model size. BIC penalizes larger models more heavily and so will tend to prefer smaller models in comparison to AIC"
   ]
  },
  {
   "cell_type": "markdown",
   "metadata": {
    "slideshow": {
     "slide_type": "slide"
    }
   },
   "source": [
    "- Adjusted $R^2$\n",
    "\n",
    "    - The model out of $2^k$ different models who has highest adjusted rsquare is the best model. "
   ]
  },
  {
   "cell_type": "markdown",
   "metadata": {
    "slideshow": {
     "slide_type": "slide"
    }
   },
   "source": [
    "## Conclusion\n",
    "Stepwise methods use a restricted search through the space of potential models. Criterion-based methods typically involve a wider search and compare models in a preferable manner. \n",
    "\n",
    "In practice, we may use correlation or other association measure to select a small pool of predictors (say 100-500) from a larger pool of candidates (>2000). Then we use backward elimination or criterion based models to select the best model from this small pool. \n",
    "\n",
    "feature selection or model selection can significantly improve the performance of the model in both consistency and effectiveness. "
   ]
  }
 ],
 "metadata": {
  "celltoolbar": "Slideshow",
  "kernelspec": {
   "display_name": "Python 3",
   "language": "python",
   "name": "python3"
  },
  "language_info": {
   "codemirror_mode": {
    "name": "ipython",
    "version": 3
   },
   "file_extension": ".py",
   "mimetype": "text/x-python",
   "name": "python",
   "nbconvert_exporter": "python",
   "pygments_lexer": "ipython3",
   "version": "3.6.1"
  },
  "latex_envs": {
   "LaTeX_envs_menu_present": true,
   "autocomplete": true,
   "bibliofile": "biblio.bib",
   "cite_by": "apalike",
   "current_citInitial": 1,
   "eqLabelWithNumbers": true,
   "eqNumInitial": 0,
   "hotkeys": {
    "equation": "Ctrl-E",
    "itemize": "Ctrl-I"
   },
   "labels_anchors": false,
   "latex_user_defs": false,
   "report_style_numbering": false,
   "user_envs_cfg": false
  },
  "toc": {
   "nav_menu": {
    "height": "116px",
    "width": "252px"
   },
   "number_sections": true,
   "sideBar": true,
   "skip_h1_title": false,
   "toc_cell": false,
   "toc_position": {},
   "toc_section_display": "block",
   "toc_window_display": false
  },
  "varInspector": {
   "cols": {
    "lenName": 16,
    "lenType": 16,
    "lenVar": 40
   },
   "kernels_config": {
    "python": {
     "delete_cmd_postfix": "",
     "delete_cmd_prefix": "del ",
     "library": "var_list.py",
     "varRefreshCmd": "print(var_dic_list())"
    },
    "r": {
     "delete_cmd_postfix": ") ",
     "delete_cmd_prefix": "rm(",
     "library": "var_list.r",
     "varRefreshCmd": "cat(var_dic_list()) "
    }
   },
   "types_to_exclude": [
    "module",
    "function",
    "builtin_function_or_method",
    "instance",
    "_Feature"
   ],
   "window_display": false
  }
 },
 "nbformat": 4,
 "nbformat_minor": 1
}
