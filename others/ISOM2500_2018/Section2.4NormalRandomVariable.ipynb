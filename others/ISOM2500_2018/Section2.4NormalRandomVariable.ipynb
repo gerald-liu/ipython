{
 "cells": [
  {
   "cell_type": "code",
   "execution_count": 1,
   "metadata": {
    "collapsed": true
   },
   "outputs": [],
   "source": [
    "import pandas as pd\n",
    "import matplotlib.pyplot as plt\n",
    "%matplotlib inline \n",
    "from numpy.random import normal \n",
    "import numpy as np   # arrays of ones, zeros,series, random numbers \n",
    "from scipy.stats import norm # pdf,cdf of normal random variables"
   ]
  },
  {
   "cell_type": "markdown",
   "metadata": {},
   "source": [
    "We need a new module \"pandas_datareader\" for this section to download historical data. First let us install (not import) this module. The installation of new module for python is easy with one line of code as follows. "
   ]
  },
  {
   "cell_type": "code",
   "execution_count": null,
   "metadata": {
    "collapsed": true
   },
   "outputs": [],
   "source": [
    "!pip install pandas_datareader "
   ]
  },
  {
   "cell_type": "markdown",
   "metadata": {},
   "source": [
    "After successful installation, you need to  import his module for this notebook. "
   ]
  },
  {
   "cell_type": "code",
   "execution_count": 3,
   "metadata": {
    "collapsed": true
   },
   "outputs": [],
   "source": [
    "import pandas_datareader as pdr"
   ]
  },
  {
   "cell_type": "markdown",
   "metadata": {},
   "source": [
    "Finally, we need to import datetime(which is already installed through ananconda) to define the format of date. "
   ]
  },
  {
   "cell_type": "code",
   "execution_count": 4,
   "metadata": {
    "collapsed": true
   },
   "outputs": [],
   "source": [
    "import datetime \n",
    "aapl = pdr.get_data_yahoo('AAPL', \n",
    "                          start=datetime.datetime(2006, 10, 1), \n",
    "                          end=datetime.datetime(2018, 1, 1))"
   ]
  },
  {
   "cell_type": "markdown",
   "metadata": {},
   "source": [
    "Then we have historical stock data of Apple Inc. "
   ]
  },
  {
   "cell_type": "code",
   "execution_count": 5,
   "metadata": {},
   "outputs": [
    {
     "data": {
      "text/html": [
       "<div>\n",
       "<style>\n",
       "    .dataframe thead tr:only-child th {\n",
       "        text-align: right;\n",
       "    }\n",
       "\n",
       "    .dataframe thead th {\n",
       "        text-align: left;\n",
       "    }\n",
       "\n",
       "    .dataframe tbody tr th {\n",
       "        vertical-align: top;\n",
       "    }\n",
       "</style>\n",
       "<table border=\"1\" class=\"dataframe\">\n",
       "  <thead>\n",
       "    <tr style=\"text-align: right;\">\n",
       "      <th></th>\n",
       "      <th>Open</th>\n",
       "      <th>High</th>\n",
       "      <th>Low</th>\n",
       "      <th>Close</th>\n",
       "      <th>Adj Close</th>\n",
       "      <th>Volume</th>\n",
       "    </tr>\n",
       "    <tr>\n",
       "      <th>Date</th>\n",
       "      <th></th>\n",
       "      <th></th>\n",
       "      <th></th>\n",
       "      <th></th>\n",
       "      <th></th>\n",
       "      <th></th>\n",
       "    </tr>\n",
       "  </thead>\n",
       "  <tbody>\n",
       "    <tr>\n",
       "      <th>2006-10-02</th>\n",
       "      <td>10.728572</td>\n",
       "      <td>10.838572</td>\n",
       "      <td>10.614285</td>\n",
       "      <td>10.694285</td>\n",
       "      <td>7.239566</td>\n",
       "      <td>178159800</td>\n",
       "    </tr>\n",
       "    <tr>\n",
       "      <th>2006-10-03</th>\n",
       "      <td>10.635715</td>\n",
       "      <td>10.707143</td>\n",
       "      <td>10.455714</td>\n",
       "      <td>10.582857</td>\n",
       "      <td>7.164135</td>\n",
       "      <td>197677200</td>\n",
       "    </tr>\n",
       "    <tr>\n",
       "      <th>2006-10-04</th>\n",
       "      <td>10.585714</td>\n",
       "      <td>10.780000</td>\n",
       "      <td>10.451428</td>\n",
       "      <td>10.768572</td>\n",
       "      <td>7.289855</td>\n",
       "      <td>207270700</td>\n",
       "    </tr>\n",
       "    <tr>\n",
       "      <th>2006-10-05</th>\n",
       "      <td>10.647142</td>\n",
       "      <td>10.880000</td>\n",
       "      <td>10.590000</td>\n",
       "      <td>10.690000</td>\n",
       "      <td>7.236666</td>\n",
       "      <td>170970800</td>\n",
       "    </tr>\n",
       "    <tr>\n",
       "      <th>2006-10-06</th>\n",
       "      <td>10.631429</td>\n",
       "      <td>10.720000</td>\n",
       "      <td>10.544286</td>\n",
       "      <td>10.602858</td>\n",
       "      <td>7.177672</td>\n",
       "      <td>116739700</td>\n",
       "    </tr>\n",
       "  </tbody>\n",
       "</table>\n",
       "</div>"
      ],
      "text/plain": [
       "                 Open       High        Low      Close  Adj Close     Volume\n",
       "Date                                                                        \n",
       "2006-10-02  10.728572  10.838572  10.614285  10.694285   7.239566  178159800\n",
       "2006-10-03  10.635715  10.707143  10.455714  10.582857   7.164135  197677200\n",
       "2006-10-04  10.585714  10.780000  10.451428  10.768572   7.289855  207270700\n",
       "2006-10-05  10.647142  10.880000  10.590000  10.690000   7.236666  170970800\n",
       "2006-10-06  10.631429  10.720000  10.544286  10.602858   7.177672  116739700"
      ]
     },
     "execution_count": 5,
     "metadata": {},
     "output_type": "execute_result"
    }
   ],
   "source": [
    "aapl.head()"
   ]
  },
  {
   "cell_type": "markdown",
   "metadata": {},
   "source": [
    "You can save this data for later use even without internet. "
   ]
  },
  {
   "cell_type": "code",
   "execution_count": 6,
   "metadata": {
    "collapsed": true
   },
   "outputs": [],
   "source": [
    "aapl.to_csv(\"data/apple.csv\")"
   ]
  },
  {
   "cell_type": "markdown",
   "metadata": {},
   "source": [
    "If you cannot download data using yahoo finance, you can read it from local fire directly"
   ]
  },
  {
   "cell_type": "code",
   "execution_count": 7,
   "metadata": {
    "collapsed": true
   },
   "outputs": [],
   "source": [
    "aapl=pd.DataFrame.from_csv(\"data/apple.csv\")"
   ]
  },
  {
   "cell_type": "markdown",
   "metadata": {
    "collapsed": true
   },
   "source": [
    "##  Background"
   ]
  },
  {
   "cell_type": "code",
   "execution_count": 8,
   "metadata": {},
   "outputs": [
    {
     "data": {
      "image/png": "[encoded data removed]",
      "text/plain": [
       "<matplotlib.figure.Figure at 0x7f6a9f82f390>"
      ]
     },
     "metadata": {},
     "output_type": "display_data"
    }
   ],
   "source": [
    "aapl['Close'].plot()\n",
    "plt.show()"
   ]
  },
  {
   "cell_type": "markdown",
   "metadata": {},
   "source": [
    "The figure above tracks the value of stock day by day in last 10 years.  If we take a look at this path from Aug, 2008 to the middle of 2013. "
   ]
  },
  {
   "cell_type": "code",
   "execution_count": 9,
   "metadata": {},
   "outputs": [
    {
     "data": {
      "text/plain": [
       "<matplotlib.axes._subplots.AxesSubplot at 0x7f6a9d06b630>"
      ]
     },
     "execution_count": 9,
     "metadata": {},
     "output_type": "execute_result"
    },
    {
     "data": {
      "image/png": "[encoded data removed]",
      "text/plain": [
       "<matplotlib.figure.Figure at 0x7f6a9f82f160>"
      ]
     },
     "metadata": {},
     "output_type": "display_data"
    }
   ],
   "source": [
    "aapl.loc['2012-8-01':'2013-8-01','Close'].plot()"
   ]
  },
  {
   "cell_type": "markdown",
   "metadata": {},
   "source": [
    "Apple's stock price has fallen by 40% over ten months, vaporizing almost $300 billion of market value. There are many reasons for this collapse. Apple's profit margin has dropped dramatically in this period. This margin compression, combined with a sharp slowdown in Apple's revenue growth has caused Apple's earnings to start actually shrinking. Wall Street does not pay much for companies whose earnings are shrinking."
   ]
  },
  {
   "cell_type": "markdown",
   "metadata": {},
   "source": [
    "If you invest, you have insurance in case the market has an \"accident\". Insurance for the stock market resembles car insurance. You can buy coverage that pays you if the market stumbles. "
   ]
  },
  {
   "cell_type": "markdown",
   "metadata": {},
   "source": [
    "How much should an investor expect to pay for this insurance? Your driving record affects your car insurance premium. The same logic applies to insurance for stocks. If there is a significant chance that the market will take a dive, then insurance costs. "
   ]
  },
  {
   "cell_type": "markdown",
   "metadata": {},
   "source": [
    "In this example, we need to compute what is the chance the 100 days' return is less than -40%? "
   ]
  },
  {
   "cell_type": "markdown",
   "metadata": {},
   "source": [
    "Let us start with daily return. Many business situations call for random variable that are able to represent a continuum of values. A typical and often used variable is normal random variable.  Normal random variable is often apply to represent the values, not just because the values' relative frequency is similar to normal distribution, also there is a rigorous basis for applying the normal distribution when the Central Limit Theorem (CLT) can be applied, and that covers a very broad set of practical applications."
   ]
  },
  {
   "cell_type": "markdown",
   "metadata": {},
   "source": [
    "## Norm distribution. "
   ]
  },
  {
   "cell_type": "markdown",
   "metadata": {},
   "source": [
    "You can imagine that there are infinite values in a population (black box) which follows normal distribution.  If you randomly select one from this box, which we call  \"X\", X is normal random variable. Let us take values 10000 times from a normal population with mean=0, stantard deviation =1. "
   ]
  },
  {
   "cell_type": "code",
   "execution_count": 10,
   "metadata": {
    "collapsed": true
   },
   "outputs": [],
   "source": [
    "observed_value=pd.Series(normal(0,1,10000))\n"
   ]
  },
  {
   "cell_type": "markdown",
   "metadata": {},
   "source": [
    "We have 10000 cases for variable X, which follows normal distribution.  We can get histogram. "
   ]
  },
  {
   "cell_type": "code",
   "execution_count": 11,
   "metadata": {},
   "outputs": [
    {
     "data": {
      "image/png": "[encoded data removed]",
      "text/plain": [
       "<matplotlib.figure.Figure at 0x7f6a94f36940>"
      ]
     },
     "metadata": {},
     "output_type": "display_data"
    }
   ],
   "source": [
    "observed_value.hist(bins=100,normed=1)\n",
    "plt.show()"
   ]
  },
  {
   "cell_type": "markdown",
   "metadata": {},
   "source": [
    "You may found that this histogram is roughly symmetric  and bell-shaped. If we take infinite number of values from this population, the histogram will look more and more like normal distribution with mean=0 and standard distribution "
   ]
  },
  {
   "cell_type": "code",
   "execution_count": 12,
   "metadata": {},
   "outputs": [
    {
     "data": {
      "image/png": "[encoded data removed]",
      "text/plain": [
       "<matplotlib.figure.Figure at 0x7f6a94ea7b38>"
      ]
     },
     "metadata": {},
     "output_type": "display_data"
    }
   ],
   "source": [
    "large_data=pd.Series(normal(0,1,100000))\n",
    "large_data.hist(bins=200,normed=1)\n",
    "plt.show()"
   ]
  },
  {
   "cell_type": "markdown",
   "metadata": {},
   "source": [
    "The pdf (probability density function) for normal random variable is is given by \n",
    "$$\n",
    "f(x)=\\frac{1}{\\sqrt{2\\pi}\\sigma}e^{-\\frac{(x-\\mu)^2}{2\\sigma^2}}\n",
    "$$"
   ]
  },
  {
   "cell_type": "markdown",
   "metadata": {},
   "source": [
    "We can plot this pdf as follows. "
   ]
  },
  {
   "cell_type": "code",
   "execution_count": 13,
   "metadata": {},
   "outputs": [
    {
     "data": {
      "text/plain": [
       "<function matplotlib.pyplot.show>"
      ]
     },
     "execution_count": 13,
     "metadata": {},
     "output_type": "execute_result"
    },
    {
     "data": {
      "image/png": "[encoded data removed]",
      "text/plain": [
       "<matplotlib.figure.Figure at 0x7f6a94c27c88>"
      ]
     },
     "metadata": {},
     "output_type": "display_data"
    }
   ],
   "source": [
    "density=pd.DataFrame()\n",
    "density['x']=np.arange(-4,4,0.001)\n",
    "density['pdf']=norm.pdf(density['x'],0,1)\n",
    "plt.plot(density['x'],density['pdf'])\n",
    "plt.show"
   ]
  },
  {
   "cell_type": "markdown",
   "metadata": {},
   "source": [
    "If we plot observed values together with pdf we have "
   ]
  },
  {
   "cell_type": "code",
   "execution_count": 14,
   "metadata": {},
   "outputs": [
    {
     "data": {
      "image/png": "[encoded data removed]",
      "text/plain": [
       "<matplotlib.figure.Figure at 0x7f6a94c16f28>"
      ]
     },
     "metadata": {},
     "output_type": "display_data"
    }
   ],
   "source": [
    "plt.plot(density['x'],density['pdf'])\n",
    "observed_value.hist(bins=100,normed=1)\n",
    "plt.show()"
   ]
  },
  {
   "cell_type": "markdown",
   "metadata": {},
   "source": [
    "Relative frequency computed using 10000 observed values is very close to the  shape defined by normal pdf.  "
   ]
  },
  {
   "cell_type": "markdown",
   "metadata": {},
   "source": [
    "Finally, from normal pdf, we can find the normal distribution is determined by two parameters: mean $\\mu$ and standard deviation $\\sigma$. If $(\\mu,\\sigma)$ are different, then the distributions, even they are normal, are still different.   "
   ]
  },
  {
   "cell_type": "markdown",
   "metadata": {},
   "source": [
    "## Normality of Log Return "
   ]
  },
  {
   "cell_type": "markdown",
   "metadata": {},
   "source": [
    "We will introduce log return. Different from percentage return\n",
    "$$\n",
    "r_t=\\frac{P_{t+1}-P_{t}}{P_{t}}\n",
    "$$\n",
    "Log return is computed  with the formula\n",
    "$$\n",
    "R_t=Log(P_{t+1})-log(P_t)\n",
    "$$\n",
    "There are more reasons why the log return is preferable to the percent return\n",
    "\n",
    "\n",
    "- Log return is normally distributed. $R_t$ is normal random variable\n",
    "\n",
    "- $R_t\\approx r_t$ if $r_t$ is small.\n",
    "\n",
    "- Additive "
   ]
  },
  {
   "cell_type": "markdown",
   "metadata": {},
   "source": [
    "Additive property is useful. For example, when we compute the log return for 100 days, "
   ]
  },
  {
   "cell_type": "markdown",
   "metadata": {},
   "source": [
    "$$Log(P_{t+100})-Log(P_t)=Log(P_{t+100})-Log(P_{t+99})+Log(P_{t+99})-Log(P_{t+98})+\\ldots+Log(P_{t+1})-Log(P_{t})$$"
   ]
  },
  {
   "cell_type": "markdown",
   "metadata": {},
   "source": [
    "The log return of 100 days is equal to the sum of daily log return of these 100 days."
   ]
  },
  {
   "cell_type": "code",
   "execution_count": 20,
   "metadata": {},
   "outputs": [
    {
     "data": {
      "image/png": "[encoded data removed]",
      "text/plain": [
       "<matplotlib.figure.Figure at 0x7f6a94da7828>"
      ]
     },
     "metadata": {},
     "output_type": "display_data"
    }
   ],
   "source": [
    "aapl['LogReturn']=np.log(aapl['Close'].shift(-1))-np.log(aapl['Close'])\n",
    "aapl['LogReturn'].hist(bins=50)\n",
    "plt.show()"
   ]
  },
  {
   "cell_type": "markdown",
   "metadata": {},
   "source": [
    "We can use sample mean and sample standard deviation to estimate mean and variance of population LogReturn."
   ]
  },
  {
   "cell_type": "code",
   "execution_count": 21,
   "metadata": {},
   "outputs": [
    {
     "name": "stdout",
     "output_type": "stream",
     "text": [
      "0.000975467759150088 0.020045447615854962\n"
     ]
    }
   ],
   "source": [
    "mu=aapl['LogReturn'].mean()\n",
    "sigma=aapl['LogReturn'].std(ddof=1)\n",
    "print(mu,sigma)"
   ]
  },
  {
   "cell_type": "markdown",
   "metadata": {},
   "source": [
    "Suppose that our estimation is correct. Could we compute the probability that the apple price drops 40% in 100 days?"
   ]
  },
  {
   "cell_type": "markdown",
   "metadata": {},
   "source": [
    "## Probability of Normal Random Variable. "
   ]
  },
  {
   "cell_type": "markdown",
   "metadata": {},
   "source": [
    "**Example** : What is the probability that the daily return is less than -5%? "
   ]
  },
  {
   "cell_type": "markdown",
   "metadata": {},
   "source": [
    "In previous discussion, we know that the daily return follows normal distribution $(\\mu,\\sigma)$. In python, we use norm.cdf() to compute probability. Suppose $X$ is a normal random variable with mean=100, and std=5, then norm.cdf(10,100,5) represents \n",
    "$$\n",
    "P(X<10)\n",
    "$$\n",
    "which is called the probability for the left tail. If you want to compute $P(X>10)$, we have to use \n",
    "$$\n",
    "P(X>10)=1-P(X<10)=1-norm.cdf(10,100,5)\n",
    "$$\n",
    "that is, norm.cdf() is to compute the probability area on the left side of cutoff value by default. "
   ]
  },
  {
   "cell_type": "code",
   "execution_count": 77,
   "metadata": {},
   "outputs": [
    {
     "data": {
      "image/png": "[encoded data removed]",
      "text/plain": [
       "<matplotlib.figure.Figure at 0x7f6a641d1080>"
      ]
     },
     "metadata": {},
     "output_type": "display_data"
    }
   ],
   "source": [
    "denApp=pd.DataFrame()\n",
    "denApp['x']=np.arange(-0.1,0.1,0.001)\n",
    "denApp['pdf']=norm.pdf(denApp['x'],mu,sigma)\n",
    "plt.figure(figsize=(6,6))\n",
    "plt.ylim(0,20)\n",
    "#plt.axvline(-0.05,color='red')\n",
    "plt.plot(denApp['x'],denApp['pdf'])\n",
    "plt.fill_between(x=np.arange(-0.1,-0.01,0.0001), \n",
    "                 y2=0,\n",
    "                 y1= norm.pdf(np.arange(-0.1,-0.01,0.0001),mu,sigma),\n",
    "                 facecolor='pink',\n",
    "                 alpha=0.5)\n",
    "plt.show()"
   ]
  },
  {
   "cell_type": "code",
   "execution_count": 74,
   "metadata": {},
   "outputs": [
    {
     "name": "stdout",
     "output_type": "stream",
     "text": [
      "The probability  is  0.292007609966\n"
     ]
    }
   ],
   "source": [
    "prob_return1=norm.cdf(-0.01,mu,sigma)\n",
    "print(\"The probability  is \", prob_return1)"
   ]
  },
  {
   "cell_type": "code",
   "execution_count": 83,
   "metadata": {},
   "outputs": [
    {
     "data": {
      "image/png": "[encoded data removed]",
      "text/plain": [
       "<matplotlib.figure.Figure at 0x7f6a6409d898>"
      ]
     },
     "metadata": {},
     "output_type": "display_data"
    }
   ],
   "source": [
    "plt.figure(figsize=(6,6))\n",
    "plt.ylim(0,20)\n",
    "#plt.axvline(-0.05,color='red')\n",
    "plt.plot(denApp['x'],denApp['pdf'])\n",
    "plt.fill_between(x=np.arange(-0.1,-0.01,0.0001), \n",
    "                 y2=0,\n",
    "                 y1= norm.pdf(np.arange(-0.1,-0.01,0.0001),mu,sigma),\n",
    "                 facecolor='pink',\n",
    "                 alpha=0.5)\n",
    "\n",
    "plt.text(x=-0.035, y=1.25, s= round(prob_return1,3),color='green')\n",
    "plt.show()"
   ]
  },
  {
   "cell_type": "markdown",
   "metadata": {},
   "source": [
    "**Practice** Compute $P(LogReturn>0.05)$"
   ]
  },
  {
   "cell_type": "markdown",
   "metadata": {},
   "source": [
    "##  Quantiles and Value at Risk "
   ]
  },
  {
   "cell_type": "markdown",
   "metadata": {},
   "source": [
    "Finding quantiles of the normal distribution is a common task when performing statistical tests. You can check normal distribution quantiles with norm.ppf()(Percent point function). For example, $X$ is normal with mean=100 and std=20. We want to find 5% quantile, that is to find $a$, such that \n",
    " $$\n",
    " P(X<a)=5\\%\n",
    " $$"
   ]
  },
  {
   "cell_type": "markdown",
   "metadata": {},
   "source": [
    "Then we can use"
   ]
  },
  {
   "cell_type": "code",
   "execution_count": 88,
   "metadata": {},
   "outputs": [
    {
     "data": {
      "text/plain": [
       "(67.102927460970534, 132.89707253902944)"
      ]
     },
     "execution_count": 88,
     "metadata": {},
     "output_type": "execute_result"
    }
   ],
   "source": [
    "left=norm.ppf(0.05,100,20)\n",
    "right=norm.ppf(0.95,100,20)\n",
    "left,right\n"
   ]
  },
  {
   "cell_type": "markdown",
   "metadata": {},
   "source": [
    "We can plot pdf curve of this normal random variable with two quantiles left,right, labeled."
   ]
  },
  {
   "cell_type": "code",
   "execution_count": 112,
   "metadata": {},
   "outputs": [
    {
     "data": {
      "image/png": "[encoded data removed]",
      "text/plain": [
       "<matplotlib.figure.Figure at 0x7f6a63dce940>"
      ]
     },
     "metadata": {},
     "output_type": "display_data"
    }
   ],
   "source": [
    "denNew=pd.DataFrame()\n",
    "denNew['x']=np.arange(10,190,0.01)\n",
    "denNew['pdf']=norm.pdf(denNew['x'],100,20)\n",
    "\n",
    "igma100\n",
    "\n",
    "plt.plot(denNew['x'],denNew['pdf'])\n",
    "plt.ylim(0,0.02)\n",
    "plt.fill_between(x=np.arange(10,left,0.1),\n",
    "                 y2=0,\n",
    "                 y1= norm.pdf(np.arange(10,left,0.1),100,20),\n",
    "                 facecolor='green',\n",
    "                 alpha=0.5)\n",
    "plt.fill_between(x=np.arange(right,190,0.1),\n",
    "                 y2=0,\n",
    "                 y1= norm.pdf(np.arange(right,190,0.1),100,20),\n",
    "                 facecolor='red',\n",
    "                 alpha=0.5)\n",
    "\n",
    "plt.text(x=left, y=0, s= round(left,3),color='blue')\n",
    "plt.text(x=right-25, y=0, s= round(right,3),color='blue')\n",
    "plt.show()"
   ]
  },
  {
   "cell_type": "markdown",
   "metadata": {},
   "source": [
    "Value at risk (VaR) is a measure of the risk of loss for investments. It estimates how much a set of investments might lose (with a given probability). VaR is typically used by firms and regulators in the financial industry to gauge the amount of assets needed to cover possible losses.\n",
    "\n",
    "For a given portfolio, time horizon, and probability p, the p VaR can be defined informally as the maximum possible loss during the time if we exclude worse outcomes whose probability is less than p. \n",
    "\n",
    "For example, if a portfolio of stocks has a one-day $5\\%$ VaR of $\\$1$ million, that means that there is a 0.05 probability that the portfolio will fall in value by more than \\$1 million over a one-day period if there is no trading. Informally, a loss of $\\$1$ million or more on this portfolio is expected on 1 day out of 20 days (because of 5\\% probability). A loss which exceeds the VaR threshold is termed a \"VaR breach\""
   ]
  },
  {
   "cell_type": "markdown",
   "metadata": {},
   "source": [
    "If you buy and hold one share of Apple stock, compute $5\\%$ VaR of your investment."
   ]
  },
  {
   "cell_type": "code",
   "execution_count": 124,
   "metadata": {},
   "outputs": [
    {
     "data": {
      "text/plain": [
       "-0.031996359455654697"
      ]
     },
     "execution_count": 124,
     "metadata": {},
     "output_type": "execute_result"
    }
   ],
   "source": [
    "norm.ppf(0.05,mu,sigma)"
   ]
  },
  {
   "cell_type": "markdown",
   "metadata": {},
   "source": [
    "The chance that you will lose more than $31\\%$ of investment in one day is $5\\%$.  "
   ]
  },
  {
   "cell_type": "markdown",
   "metadata": {},
   "source": [
    "## Sum of Independent Normal Variable. "
   ]
  },
  {
   "cell_type": "markdown",
   "metadata": {},
   "source": [
    "We want to find the distribution of 100 days' daily return in order to find probability of extreme event that the stock price drop 40% in 100 days. \n"
   ]
  },
  {
   "cell_type": "markdown",
   "metadata": {},
   "source": [
    "But we only have the distribution of daily return. Efficient market theory believes that daily return are independent across different days. Hence we have 100 Log Return are independent and have identical distribution. These 100 random variables(daily return ) are called i.i.d. If they are i.i.d, the sum of 100 normal random variables are again normal. But what are the mean and variance ?"
   ]
  },
  {
   "cell_type": "markdown",
   "metadata": {},
   "source": [
    "In general, for n random variables, not necessarily independent, \n",
    "$$\n",
    "\\mu_{X_1+X_2+\\ldots+X_n}=\\mu_{X_1}+\\mu_{X_2}+\\ldots+\\mu_{X_n}\n",
    "$$\n",
    "To compute variance of sum, we need one more condition, these variables have to be independent. If they are independent \n",
    "$$\n",
    "\\sigma^2_{X_1+X_2+\\ldots+X_n}=\\sigma^2_{X_1}+\\sigma^2_{X_2}+\\ldots+\\sigma^2_{X_n}\n",
    "$$\n"
   ]
  },
  {
   "cell_type": "markdown",
   "metadata": {},
   "source": [
    "In our example, we will have \n",
    "$$\n",
    "\\mu_{100}=\\mu+\\mu+\\ldots+\\mu=100\\mu\n",
    "$$\n",
    "$$\n",
    "\\sigma^2_{100}=sigma^2+\\sigma^2+\\ldots+\\sigma^2=100\\sigma^2\n",
    "$$\n",
    "$$\n",
    "\\sigma_{10}=\\sqrt{100}\\sigma\n",
    "$$"
   ]
  },
  {
   "cell_type": "markdown",
   "metadata": {},
   "source": [
    "If they are not independent , the formula to compute variance becomes more complicated in which we need to compute the association among variables. "
   ]
  },
  {
   "cell_type": "markdown",
   "metadata": {},
   "source": [
    "where $\\mu,\\sigma$ is the mean and standard deviation of daily return. Can you plot the pdf curve for the return of 100 days?"
   ]
  },
  {
   "cell_type": "code",
   "execution_count": 125,
   "metadata": {},
   "outputs": [
    {
     "data": {
      "text/plain": [
       "(0.0975467759150088, 0.2004544761585496)"
      ]
     },
     "execution_count": 125,
     "metadata": {},
     "output_type": "execute_result"
    }
   ],
   "source": [
    "mu100=100*mu\n",
    "sigma100=10*sigma\n",
    "mu100,sigma100"
   ]
  },
  {
   "cell_type": "code",
   "execution_count": 132,
   "metadata": {},
   "outputs": [
    {
     "data": {
      "image/png": "[encoded data removed]",
      "text/plain": [
       "<matplotlib.figure.Figure at 0x7f6a63c27be0>"
      ]
     },
     "metadata": {},
     "output_type": "display_data"
    }
   ],
   "source": [
    "den100=pd.DataFrame()\n",
    "den100['x']=np.arange(-1.2,1.2,0.01)\n",
    "den100['pdf']=norm.pdf(den100['x'],mu100,sigma100)\n",
    "plt.figure(figsize=(6,6))\n",
    "plt.ylim(0,2.5)\n",
    "#plt.axvline(-0.05,color='red')\n",
    "plt.plot(den100['x'],den100['pdf'])\n",
    "plt.show()"
   ]
  },
  {
   "cell_type": "markdown",
   "metadata": {},
   "source": [
    "Next we compute the probability"
   ]
  },
  {
   "cell_type": "code",
   "execution_count": 133,
   "metadata": {},
   "outputs": [
    {
     "data": {
      "text/plain": [
       "0.0065306477556350048"
      ]
     },
     "execution_count": 133,
     "metadata": {},
     "output_type": "execute_result"
    }
   ],
   "source": [
    "norm.cdf(-0.4,mu100,sigma100)"
   ]
  },
  {
   "cell_type": "markdown",
   "metadata": {},
   "source": [
    "That means that, there will be less than  0.7% chance that apple price will drop 40% in 100 days."
   ]
  },
  {
   "cell_type": "markdown",
   "metadata": {},
   "source": [
    "Another important  formulas for random variables $X$ are \n",
    "$$\n",
    "\\mu_{10X}=10\\mu_{X}\n",
    "$$\n",
    "$$\n",
    "\\sigma_{10X}=10\\sigma_X\n",
    "$$"
   ]
  },
  {
   "cell_type": "markdown",
   "metadata": {},
   "source": [
    "That is, if $\\mu,\\sigma$ are the mean and standard deviation of one stock, $10\\mu,10\\sigma$ are the mean and standard devation of 10 shares of stocks. "
   ]
  },
  {
   "cell_type": "markdown",
   "metadata": {},
   "source": [
    "## Central Limite Theorem "
   ]
  },
  {
   "cell_type": "markdown",
   "metadata": {},
   "source": [
    "In the example above, if daily return is not normal distributed, is yearly return normal? if not normal, how can we compute the probability?"
   ]
  },
  {
   "cell_type": "markdown",
   "metadata": {},
   "source": [
    "\n",
    "Fortunately, we have central limit theorem for this case. \n",
    "\n",
    "**Central Limite Theorem:** When independent random variables, i.e. daily return,  are added, their properly normalized sum tends toward a normal distribution (informally a \"bell curve\") even if the original variables themselves are not normally distributed. "
   ]
  },
  {
   "cell_type": "markdown",
   "metadata": {},
   "source": [
    "It is equivalent to say, even if $R_t$ is not normal, \n",
    "$$\n",
    "\\frac{R_t+R_{t+1}+\\ldots+R_{t+n}}{n}\n",
    "$$\n",
    "is normal approximately if $n$ is large enough. "
   ]
  },
  {
   "cell_type": "markdown",
   "metadata": {},
   "source": [
    "Let us say, $n$ is large enough if $n>40$. It means that \n",
    "$$\n",
    "\\frac{R_t+R_{t+1}+\\ldots+R_{t+100}}{100}\n",
    "$$\n",
    "is a normal random variable approximately. Hence \n",
    "$$\n",
    "R_t+R_{t+1}+\\ldots+R_{t+100}\n",
    "$$\n",
    "is normally distributed approximately. Hence we can apply normal rule compute the probability and quantiles for the return of 100 days. "
   ]
  },
  {
   "cell_type": "code",
   "execution_count": null,
   "metadata": {
    "collapsed": true
   },
   "outputs": [],
   "source": []
  }
 ],
 "metadata": {
  "kernelspec": {
   "display_name": "Python 3",
   "language": "python",
   "name": "python3"
  },
  "language_info": {
   "codemirror_mode": {
    "name": "ipython",
    "version": 3
   },
   "file_extension": ".py",
   "mimetype": "text/x-python",
   "name": "python",
   "nbconvert_exporter": "python",
   "pygments_lexer": "ipython3",
   "version": "3.6.5"
  },
  "latex_envs": {
   "LaTeX_envs_menu_present": true,
   "autocomplete": true,
   "bibliofile": "biblio.bib",
   "cite_by": "apalike",
   "current_citInitial": 1,
   "eqLabelWithNumbers": true,
   "eqNumInitial": 1,
   "hotkeys": {
    "equation": "Ctrl-E",
    "itemize": "Ctrl-I"
   },
   "labels_anchors": false,
   "latex_user_defs": false,
   "report_style_numbering": false,
   "user_envs_cfg": false
  },
  "toc": {
   "nav_menu": {},
   "number_sections": true,
   "sideBar": true,
   "skip_h1_title": false,
   "toc_cell": false,
   "toc_position": {},
   "toc_section_display": "block",
   "toc_window_display": false
  },
  "varInspector": {
   "cols": {
    "lenName": 16,
    "lenType": 16,
    "lenVar": 40
   },
   "kernels_config": {
    "python": {
     "delete_cmd_postfix": "",
     "delete_cmd_prefix": "del ",
     "library": "var_list.py",
     "varRefreshCmd": "print(var_dic_list())"
    },
    "r": {
     "delete_cmd_postfix": ") ",
     "delete_cmd_prefix": "rm(",
     "library": "var_list.r",
     "varRefreshCmd": "cat(var_dic_list()) "
    }
   },
   "types_to_exclude": [
    "module",
    "function",
    "builtin_function_or_method",
    "instance",
    "_Feature"
   ],
   "window_display": false
  }
 },
 "nbformat": 4,
 "nbformat_minor": 2
}
