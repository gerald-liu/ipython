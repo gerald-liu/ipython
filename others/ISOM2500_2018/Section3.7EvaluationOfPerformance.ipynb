{
 "cells": [
  {
   "cell_type": "code",
   "execution_count": null,
   "metadata": {
    "collapsed": true
   },
   "outputs": [],
   "source": []
  },
  {
   "cell_type": "code",
   "execution_count": 1,
   "metadata": {
    "collapsed": true,
    "slideshow": {
     "slide_type": "slide"
    }
   },
   "outputs": [],
   "source": [
    "import pandas as pd\n",
    "import numpy as np\n",
    "import matplotlib.pyplot as plt\n",
    "%matplotlib inline\n",
    "import statsmodels.formula.api as smf"
   ]
  },
  {
   "cell_type": "markdown",
   "metadata": {
    "slideshow": {
     "slide_type": "slide"
    }
   },
   "source": [
    "## Statistical Standards\n"
   ]
  },
  {
   "cell_type": "markdown",
   "metadata": {
    "slideshow": {
     "slide_type": "fragment"
    }
   },
   "source": [
    "- Robustness(Consistency)\n",
    "- Effectiveness (Accuracy)"
   ]
  },
  {
   "cell_type": "markdown",
   "metadata": {},
   "source": [
    "- If neither adjusted R2 or RMSE is close between train and test, we say that the model is not consistent, otherwise the model is consistent;\n",
    "- Given that the model is consistent, if adjusted rsquare is high, the model is accurate or effective. "
   ]
  },
  {
   "cell_type": "code",
   "execution_count": 59,
   "metadata": {
    "slideshow": {
     "slide_type": "slide"
    }
   },
   "outputs": [
    {
     "data": {
      "text/html": [
       "<div>\n",
       "<style scoped>\n",
       "    .dataframe tbody tr th:only-of-type {\n",
       "        vertical-align: middle;\n",
       "    }\n",
       "\n",
       "    .dataframe tbody tr th {\n",
       "        vertical-align: top;\n",
       "    }\n",
       "\n",
       "    .dataframe thead th {\n",
       "        text-align: right;\n",
       "    }\n",
       "</style>\n",
       "<table border=\"1\" class=\"dataframe\">\n",
       "  <thead>\n",
       "    <tr style=\"text-align: right;\">\n",
       "      <th></th>\n",
       "      <th>Price</th>\n",
       "      <th>sp500</th>\n",
       "      <th>nikkei</th>\n",
       "      <th>aord</th>\n",
       "      <th>nyse</th>\n",
       "      <th>dax</th>\n",
       "      <th>ftse</th>\n",
       "      <th>hangseng</th>\n",
       "      <th>djia</th>\n",
       "    </tr>\n",
       "  </thead>\n",
       "  <tbody>\n",
       "    <tr>\n",
       "      <th>2013-09-09</th>\n",
       "      <td>1655.08</td>\n",
       "      <td>0.000000</td>\n",
       "      <td>0.024545</td>\n",
       "      <td>0.006858</td>\n",
       "      <td>0.000000</td>\n",
       "      <td>0.000000</td>\n",
       "      <td>-0.002537</td>\n",
       "      <td>0.005705</td>\n",
       "      <td>0.000000</td>\n",
       "    </tr>\n",
       "    <tr>\n",
       "      <th>2013-09-10</th>\n",
       "      <td>1671.71</td>\n",
       "      <td>0.009998</td>\n",
       "      <td>0.015239</td>\n",
       "      <td>0.003758</td>\n",
       "      <td>0.012614</td>\n",
       "      <td>0.005007</td>\n",
       "      <td>0.008121</td>\n",
       "      <td>0.009885</td>\n",
       "      <td>0.008376</td>\n",
       "    </tr>\n",
       "    <tr>\n",
       "      <th>2013-09-11</th>\n",
       "      <td>1683.99</td>\n",
       "      <td>0.007319</td>\n",
       "      <td>0.000119</td>\n",
       "      <td>0.006079</td>\n",
       "      <td>0.008432</td>\n",
       "      <td>0.020358</td>\n",
       "      <td>0.000674</td>\n",
       "      <td>-0.001721</td>\n",
       "      <td>0.008458</td>\n",
       "    </tr>\n",
       "    <tr>\n",
       "      <th>2013-09-12</th>\n",
       "      <td>1689.13</td>\n",
       "      <td>0.003048</td>\n",
       "      <td>-0.002624</td>\n",
       "      <td>0.001452</td>\n",
       "      <td>0.003597</td>\n",
       "      <td>0.005807</td>\n",
       "      <td>0.000083</td>\n",
       "      <td>0.000723</td>\n",
       "      <td>0.008883</td>\n",
       "    </tr>\n",
       "    <tr>\n",
       "      <th>2013-09-13</th>\n",
       "      <td>1683.42</td>\n",
       "      <td>-0.003386</td>\n",
       "      <td>0.001209</td>\n",
       "      <td>-0.004496</td>\n",
       "      <td>-0.004990</td>\n",
       "      <td>-0.000204</td>\n",
       "      <td>-0.000786</td>\n",
       "      <td>-0.001676</td>\n",
       "      <td>-0.001695</td>\n",
       "    </tr>\n",
       "  </tbody>\n",
       "</table>\n",
       "</div>"
      ],
      "text/plain": [
       "              Price     sp500    nikkei      aord      nyse       dax  \\\n",
       "2013-09-09  1655.08  0.000000  0.024545  0.006858  0.000000  0.000000   \n",
       "2013-09-10  1671.71  0.009998  0.015239  0.003758  0.012614  0.005007   \n",
       "2013-09-11  1683.99  0.007319  0.000119  0.006079  0.008432  0.020358   \n",
       "2013-09-12  1689.13  0.003048 -0.002624  0.001452  0.003597  0.005807   \n",
       "2013-09-13  1683.42 -0.003386  0.001209 -0.004496 -0.004990 -0.000204   \n",
       "\n",
       "                ftse  hangseng      djia  \n",
       "2013-09-09 -0.002537  0.005705  0.000000  \n",
       "2013-09-10  0.008121  0.009885  0.008376  \n",
       "2013-09-11  0.000674 -0.001721  0.008458  \n",
       "2013-09-12  0.000083  0.000723  0.008883  \n",
       "2013-09-13 -0.000786 -0.001676 -0.001695  "
      ]
     },
     "execution_count": 59,
     "metadata": {},
     "output_type": "execute_result"
    }
   ],
   "source": [
    "data = pd.read_csv('data/indicepanel.csv',index_col=0)\n",
    "ReturnPanel=pd.DataFrame()\n",
    "ReturnPanel['Price']=data['sp500']\n",
    "ReturnPanel['sp500']=np.log(data['sp500'])-np.log(data['sp500'].shift(1))\n",
    "ReturnPanel['nikkei']=np.log(data['nikkei'])-np.log(data['nikkei'].shift(1))\n",
    "ReturnPanel['aord']=np.log(data['aord'])-np.log(data['aord'].shift(1))\n",
    "ReturnPanel['nyse']=np.log(data['nyse'])-np.log(data['nyse'].shift(1))\n",
    "ReturnPanel['dax']=np.log(data['dax'])-np.log(data['dax'].shift(1))\n",
    "ReturnPanel['ftse']=np.log(data['ftse'])-np.log(data['ftse'].shift(1))\n",
    "ReturnPanel['hangseng']=np.log(data['hangseng'])-np.log(data['hangseng'].shift(1))\n",
    "ReturnPanel['djia']=np.log(data['djia'])-np.log(data['djia'].shift(1))\n",
    "ReturnPanel=ReturnPanel.dropna(axis=0)\n",
    "ReturnPanel.head()\n"
   ]
  },
  {
   "cell_type": "code",
   "execution_count": 60,
   "metadata": {
    "slideshow": {
     "slide_type": "slide"
    }
   },
   "outputs": [
    {
     "data": {
      "text/html": [
       "<div>\n",
       "<style scoped>\n",
       "    .dataframe tbody tr th:only-of-type {\n",
       "        vertical-align: middle;\n",
       "    }\n",
       "\n",
       "    .dataframe tbody tr th {\n",
       "        vertical-align: top;\n",
       "    }\n",
       "\n",
       "    .dataframe thead th {\n",
       "        text-align: right;\n",
       "    }\n",
       "</style>\n",
       "<table border=\"1\" class=\"dataframe\">\n",
       "  <thead>\n",
       "    <tr style=\"text-align: right;\">\n",
       "      <th></th>\n",
       "      <th>Price</th>\n",
       "      <th>sp500</th>\n",
       "      <th>sp500_lag</th>\n",
       "      <th>nikkei</th>\n",
       "      <th>nikkei_lag</th>\n",
       "      <th>aord</th>\n",
       "      <th>aord_lag</th>\n",
       "      <th>hangseng</th>\n",
       "      <th>hangseng_lag</th>\n",
       "      <th>nyse_lag</th>\n",
       "      <th>dax_lag</th>\n",
       "      <th>ftse_lag</th>\n",
       "      <th>djia_lag</th>\n",
       "    </tr>\n",
       "  </thead>\n",
       "  <tbody>\n",
       "    <tr>\n",
       "      <th>2013-09-10</th>\n",
       "      <td>1671.71</td>\n",
       "      <td>0.009998</td>\n",
       "      <td>0.000000</td>\n",
       "      <td>0.015239</td>\n",
       "      <td>0.024545</td>\n",
       "      <td>0.003758</td>\n",
       "      <td>0.006858</td>\n",
       "      <td>0.009885</td>\n",
       "      <td>0.005705</td>\n",
       "      <td>0.000000</td>\n",
       "      <td>0.000000</td>\n",
       "      <td>-0.002537</td>\n",
       "      <td>0.000000</td>\n",
       "    </tr>\n",
       "    <tr>\n",
       "      <th>2013-09-11</th>\n",
       "      <td>1683.99</td>\n",
       "      <td>0.007319</td>\n",
       "      <td>0.009998</td>\n",
       "      <td>0.000119</td>\n",
       "      <td>0.015239</td>\n",
       "      <td>0.006079</td>\n",
       "      <td>0.003758</td>\n",
       "      <td>-0.001721</td>\n",
       "      <td>0.009885</td>\n",
       "      <td>0.012614</td>\n",
       "      <td>0.005007</td>\n",
       "      <td>0.008121</td>\n",
       "      <td>0.008376</td>\n",
       "    </tr>\n",
       "    <tr>\n",
       "      <th>2013-09-12</th>\n",
       "      <td>1689.13</td>\n",
       "      <td>0.003048</td>\n",
       "      <td>0.007319</td>\n",
       "      <td>-0.002624</td>\n",
       "      <td>0.000119</td>\n",
       "      <td>0.001452</td>\n",
       "      <td>0.006079</td>\n",
       "      <td>0.000723</td>\n",
       "      <td>-0.001721</td>\n",
       "      <td>0.008432</td>\n",
       "      <td>0.020358</td>\n",
       "      <td>0.000674</td>\n",
       "      <td>0.008458</td>\n",
       "    </tr>\n",
       "    <tr>\n",
       "      <th>2013-09-13</th>\n",
       "      <td>1683.42</td>\n",
       "      <td>-0.003386</td>\n",
       "      <td>0.003048</td>\n",
       "      <td>0.001209</td>\n",
       "      <td>-0.002624</td>\n",
       "      <td>-0.004496</td>\n",
       "      <td>0.001452</td>\n",
       "      <td>-0.001676</td>\n",
       "      <td>0.000723</td>\n",
       "      <td>0.003597</td>\n",
       "      <td>0.005807</td>\n",
       "      <td>0.000083</td>\n",
       "      <td>0.008883</td>\n",
       "    </tr>\n",
       "    <tr>\n",
       "      <th>2013-09-17</th>\n",
       "      <td>1697.60</td>\n",
       "      <td>0.008388</td>\n",
       "      <td>-0.003386</td>\n",
       "      <td>-0.006477</td>\n",
       "      <td>0.001209</td>\n",
       "      <td>0.005832</td>\n",
       "      <td>-0.004496</td>\n",
       "      <td>0.011508</td>\n",
       "      <td>-0.001676</td>\n",
       "      <td>-0.004990</td>\n",
       "      <td>-0.000204</td>\n",
       "      <td>-0.000786</td>\n",
       "      <td>-0.001695</td>\n",
       "    </tr>\n",
       "  </tbody>\n",
       "</table>\n",
       "</div>"
      ],
      "text/plain": [
       "              Price     sp500  sp500_lag    nikkei  nikkei_lag      aord  \\\n",
       "2013-09-10  1671.71  0.009998   0.000000  0.015239    0.024545  0.003758   \n",
       "2013-09-11  1683.99  0.007319   0.009998  0.000119    0.015239  0.006079   \n",
       "2013-09-12  1689.13  0.003048   0.007319 -0.002624    0.000119  0.001452   \n",
       "2013-09-13  1683.42 -0.003386   0.003048  0.001209   -0.002624 -0.004496   \n",
       "2013-09-17  1697.60  0.008388  -0.003386 -0.006477    0.001209  0.005832   \n",
       "\n",
       "            aord_lag  hangseng  hangseng_lag  nyse_lag   dax_lag  ftse_lag  \\\n",
       "2013-09-10  0.006858  0.009885      0.005705  0.000000  0.000000 -0.002537   \n",
       "2013-09-11  0.003758 -0.001721      0.009885  0.012614  0.005007  0.008121   \n",
       "2013-09-12  0.006079  0.000723     -0.001721  0.008432  0.020358  0.000674   \n",
       "2013-09-13  0.001452 -0.001676      0.000723  0.003597  0.005807  0.000083   \n",
       "2013-09-17 -0.004496  0.011508     -0.001676 -0.004990 -0.000204 -0.000786   \n",
       "\n",
       "            djia_lag  \n",
       "2013-09-10  0.000000  \n",
       "2013-09-11  0.008376  \n",
       "2013-09-12  0.008458  \n",
       "2013-09-13  0.008883  \n",
       "2013-09-17 -0.001695  "
      ]
     },
     "execution_count": 60,
     "metadata": {},
     "output_type": "execute_result"
    }
   ],
   "source": [
    "dataMatrix=pd.DataFrame()\n",
    "dataMatrix['Price']=ReturnPanel['Price']\n",
    "dataMatrix['sp500']=ReturnPanel['sp500']\n",
    "dataMatrix['sp500_lag']=ReturnPanel['sp500'].shift(1)\n",
    "dataMatrix['nikkei']=ReturnPanel['nikkei']\n",
    "dataMatrix['nikkei_lag']=ReturnPanel['nikkei'].shift(1)\n",
    "dataMatrix['aord']=ReturnPanel['aord']\n",
    "dataMatrix['aord_lag']=ReturnPanel['aord'].shift(1)\n",
    "dataMatrix['hangseng']=ReturnPanel['hangseng']\n",
    "dataMatrix['hangseng_lag']=ReturnPanel['hangseng'].shift(1)\n",
    "dataMatrix['nyse_lag']=ReturnPanel['nyse'].shift(1)\n",
    "dataMatrix['dax_lag']=ReturnPanel['dax'].shift(1)\n",
    "dataMatrix['ftse_lag']=ReturnPanel['ftse'].shift(1)\n",
    "dataMatrix['djia_lag']=ReturnPanel['djia'].shift(1)\n",
    "dataMatrix=dataMatrix.dropna(axis=0)\n",
    "dataMatrix.index=pd.to_datetime(dataMatrix.index)\n",
    "dataMatrix.head()"
   ]
  },
  {
   "cell_type": "code",
   "execution_count": 4,
   "metadata": {
    "slideshow": {
     "slide_type": "slide"
    }
   },
   "outputs": [
    {
     "name": "stdout",
     "output_type": "stream",
     "text": [
      "(974, 13)\n",
      "(580, 13) (194, 13)\n"
     ]
    }
   ],
   "source": [
    "print(dataMatrix.shape)\n",
    "Train=dataMatrix.iloc[200:780,:]\n",
    "Test=dataMatrix.iloc[780:,:]\n",
    "print(Train.shape,Test.shape)"
   ]
  },
  {
   "cell_type": "markdown",
   "metadata": {
    "slideshow": {
     "slide_type": "slide"
    }
   },
   "source": [
    "We build our multiple linear regression models with train. "
   ]
  },
  {
   "cell_type": "code",
   "execution_count": 61,
   "metadata": {
    "collapsed": true,
    "slideshow": {
     "slide_type": "fragment"
    }
   },
   "outputs": [],
   "source": [
    "lm= smf.ols(formula='sp500~nikkei+nikkei_lag+aord+aord_lag+ftse_lag+hangseng+hangseng_lag ', data=Train).fit()"
   ]
  },
  {
   "cell_type": "markdown",
   "metadata": {
    "slideshow": {
     "slide_type": "slide"
    }
   },
   "source": [
    "Then we can get our prediction for the train and test"
   ]
  },
  {
   "cell_type": "code",
   "execution_count": 62,
   "metadata": {
    "slideshow": {
     "slide_type": "fragment"
    }
   },
   "outputs": [],
   "source": [
    "# compute R2 adjusted R2, RMSE\n",
    "Train_predict=lm.predict(Train)\n",
    "Test_predict=lm.predict(Test)\n"
   ]
  },
  {
   "cell_type": "markdown",
   "metadata": {
    "slideshow": {
     "slide_type": "slide"
    }
   },
   "source": [
    "Then we compute SST,SSE, SSR"
   ]
  },
  {
   "cell_type": "markdown",
   "metadata": {
    "slideshow": {
     "slide_type": "subslide"
    }
   },
   "source": [
    "Compute $R^2$,adjusted $R^2$, RMSE\n"
   ]
  },
  {
   "cell_type": "markdown",
   "metadata": {
    "slideshow": {
     "slide_type": "slide"
    }
   },
   "source": [
    "We have the following conclusion\n",
    "1. The model is robust, $R^2$ remains the same, $RMSE$ even smaller\n",
    "2. The test data has smaller Adjusted $R^2$ because adjusted $R^2$ punish the fitness measure for small sample size. \n",
    "\n",
    "But still, a natural question raises: how large the difference between train and test is , we call they are different ?|"
   ]
  },
  {
   "cell_type": "markdown",
   "metadata": {
    "slideshow": {
     "slide_type": "slide"
    }
   },
   "source": [
    "## Compute assess table using methods "
   ]
  },
  {
   "cell_type": "code",
   "execution_count": 19,
   "metadata": {
    "collapsed": true
   },
   "outputs": [],
   "source": [
    "def variation_value(data,model,yname):\n",
    "    data['yhat']=model.predict(data)\n",
    "    SST=((data[yname]-data[yname].mean())**2).sum()\n",
    "    SSR=((data['yhat']-data[yname].mean())**2).sum()\n",
    "    SSE=((data[yname]-data['yhat'])**2).sum()\n",
    "    return SST,SSR,SSE"
   ]
  },
  {
   "cell_type": "code",
   "execution_count": 20,
   "metadata": {
    "collapsed": true
   },
   "outputs": [],
   "source": [
    "def adjustedMetric(data,model,model_k,yname):\n",
    "    SST,SSR,SSE=variation_value(data,model,yname)\n",
    "    r2=SSR/SST\n",
    "    adjustR2=1-(1-r2)*(data.shape[0]-1)/(data.shape[0]-model_k-1)\n",
    "    RMSE=(SSE/(data.shape[0]-model_k-1))**0.5\n",
    "    return adjustR2,RMSE"
   ]
  },
  {
   "cell_type": "code",
   "execution_count": 21,
   "metadata": {
    "collapsed": true
   },
   "outputs": [],
   "source": [
    "def assessTable(testdata,traindata,model,model_k,yname):\n",
    "    r2test,RMSEtest=adjustedMetric(testdata,model,model_k,yname)\n",
    "    r2train,RMSEtrain=adjustedMetric(traindata,model,model_k,yname)\n",
    "    assessment=pd.DataFrame(index=['R2','RMSE'],\n",
    "                        columns=['Train','Test'])\n",
    "    assessment['Train']=[r2train,RMSEtrain]\n",
    "    assessment['Test']=[r2test,RMSEtest]\n",
    "    return assessment\n",
    "    "
   ]
  },
  {
   "cell_type": "code",
   "execution_count": 22,
   "metadata": {},
   "outputs": [
    {
     "name": "stderr",
     "output_type": "stream",
     "text": [
      "/home/imwan/anaconda3/lib/python3.6/site-packages/ipykernel_launcher.py:2: SettingWithCopyWarning: \n",
      "A value is trying to be set on a copy of a slice from a DataFrame.\n",
      "Try using .loc[row_indexer,col_indexer] = value instead\n",
      "\n",
      "See the caveats in the documentation: http://pandas.pydata.org/pandas-docs/stable/indexing.html#indexing-view-versus-copy\n",
      "  \n"
     ]
    },
    {
     "data": {
      "text/html": [
       "<div>\n",
       "<style scoped>\n",
       "    .dataframe tbody tr th:only-of-type {\n",
       "        vertical-align: middle;\n",
       "    }\n",
       "\n",
       "    .dataframe tbody tr th {\n",
       "        vertical-align: top;\n",
       "    }\n",
       "\n",
       "    .dataframe thead th {\n",
       "        text-align: right;\n",
       "    }\n",
       "</style>\n",
       "<table border=\"1\" class=\"dataframe\">\n",
       "  <thead>\n",
       "    <tr style=\"text-align: right;\">\n",
       "      <th></th>\n",
       "      <th>Train</th>\n",
       "      <th>Test</th>\n",
       "    </tr>\n",
       "  </thead>\n",
       "  <tbody>\n",
       "    <tr>\n",
       "      <th>R2</th>\n",
       "      <td>0.250310</td>\n",
       "      <td>0.306202</td>\n",
       "    </tr>\n",
       "    <tr>\n",
       "      <th>RMSE</th>\n",
       "      <td>0.008219</td>\n",
       "      <td>0.003842</td>\n",
       "    </tr>\n",
       "  </tbody>\n",
       "</table>\n",
       "</div>"
      ],
      "text/plain": [
       "         Train      Test\n",
       "R2    0.250310  0.306202\n",
       "RMSE  0.008219  0.003842"
      ]
     },
     "execution_count": 22,
     "metadata": {},
     "output_type": "execute_result"
    }
   ],
   "source": [
    "assessTable(Test,Train,lm,7,'sp500')"
   ]
  },
  {
   "cell_type": "markdown",
   "metadata": {
    "slideshow": {
     "slide_type": "slide"
    }
   },
   "source": [
    "All these questions are not questions in practice "
   ]
  },
  {
   "cell_type": "code",
   "execution_count": null,
   "metadata": {
    "collapsed": true
   },
   "outputs": [],
   "source": []
  },
  {
   "cell_type": "markdown",
   "metadata": {
    "slideshow": {
     "slide_type": "slide"
    }
   },
   "source": [
    "## Practical Standards"
   ]
  },
  {
   "cell_type": "markdown",
   "metadata": {},
   "source": [
    "trade 10 days, overall wealth increase from 1M to 2M\n",
    "$$1+R=200\\%$$\n",
    "$$(1+r)^{10}=200\\%$$"
   ]
  },
  {
   "cell_type": "markdown",
   "metadata": {
    "slideshow": {
     "slide_type": "slide"
    }
   },
   "source": [
    "We use model to build trading signal. Performance of  trading based on your signal is the practical standard of your models. \n"
   ]
  },
  {
   "cell_type": "markdown",
   "metadata": {
    "slideshow": {
     "slide_type": "fragment"
    }
   },
   "source": [
    "- Drawdown:the percentage decline in the strategy from the historical peak profit at each point in time. \n",
    "- Trades use drawdown to stop loss"
   ]
  },
  {
   "cell_type": "markdown",
   "metadata": {
    "slideshow": {
     "slide_type": "fragment"
    }
   },
   "source": [
    "- Average Daily return \n",
    "  $$\n",
    "  (1+r)^{days}=1+R\n",
    "  $$\n",
    "  where $r$ is average Daily return and $R$ is total return.  \n"
   ]
  },
  {
   "cell_type": "code",
   "execution_count": null,
   "metadata": {
    "collapsed": true
   },
   "outputs": [],
   "source": []
  },
  {
   "cell_type": "markdown",
   "metadata": {
    "slideshow": {
     "slide_type": "slide"
    }
   },
   "source": [
    "- Sharpe ratio: The ratio measures the excess return (or risk premium) per unit of deviation in an investment asset or a trading strategy, typically referred to as risk, named after William F. Sharpe\n",
    "$$\n",
    "SR=\\frac{E(R_a-R_b)}{\\sqrt{Var(R_a-R_b)}}\n",
    "$$\n",
    "Suppose the daily Shape ratio is $SR_{Day}$. Then yearly Shape ratio is \n",
    "$$\n",
    "SR_{Year}=\\sqrt{220}SR_{Day}\n",
    "$$"
   ]
  },
  {
   "cell_type": "markdown",
   "metadata": {
    "slideshow": {
     "slide_type": "slide"
    }
   },
   "source": [
    "### Trading strategy\n"
   ]
  },
  {
   "cell_type": "markdown",
   "metadata": {
    "slideshow": {
     "slide_type": "fragment"
    }
   },
   "source": [
    "- Benchmark Strategy I: Buy and Hold"
   ]
  },
  {
   "cell_type": "markdown",
   "metadata": {
    "slideshow": {
     "slide_type": "fragment"
    }
   },
   "source": [
    "- Benchmark Strategy II: Persistent strategy, if last day's return is postive , we buy today, otherwise we short sell "
   ]
  },
  {
   "cell_type": "markdown",
   "metadata": {
    "slideshow": {
     "slide_type": "fragment"
    }
   },
   "source": [
    "- Signal-based Strategy: If Signal is postive , we buy, otherwise we short sell. "
   ]
  },
  {
   "cell_type": "markdown",
   "metadata": {
    "slideshow": {
     "slide_type": "slide"
    }
   },
   "source": [
    "### What we trade\n"
   ]
  },
  {
   "cell_type": "markdown",
   "metadata": {
    "slideshow": {
     "slide_type": "fragment"
    }
   },
   "source": [
    " S&P 500 ETF (Exchanged traded fund)- SPY "
   ]
  },
  {
   "cell_type": "markdown",
   "metadata": {
    "slideshow": {
     "slide_type": "slide"
    }
   },
   "source": [
    "# Signal-based Stratgy"
   ]
  },
  {
   "cell_type": "code",
   "execution_count": 10,
   "metadata": {
    "slideshow": {
     "slide_type": "subslide"
    }
   },
   "outputs": [
    {
     "data": {
      "text/html": [
       "<div>\n",
       "<style scoped>\n",
       "    .dataframe tbody tr th:only-of-type {\n",
       "        vertical-align: middle;\n",
       "    }\n",
       "\n",
       "    .dataframe tbody tr th {\n",
       "        vertical-align: top;\n",
       "    }\n",
       "\n",
       "    .dataframe thead th {\n",
       "        text-align: right;\n",
       "    }\n",
       "</style>\n",
       "<table border=\"1\" class=\"dataframe\">\n",
       "  <thead>\n",
       "    <tr style=\"text-align: right;\">\n",
       "      <th></th>\n",
       "      <th>Price</th>\n",
       "      <th>Signal</th>\n",
       "    </tr>\n",
       "  </thead>\n",
       "  <tbody>\n",
       "    <tr>\n",
       "      <th>2014-07-09</th>\n",
       "      <td>1963.71</td>\n",
       "      <td>-0.004444</td>\n",
       "    </tr>\n",
       "    <tr>\n",
       "      <th>2014-07-10</th>\n",
       "      <td>1972.83</td>\n",
       "      <td>-0.002017</td>\n",
       "    </tr>\n",
       "    <tr>\n",
       "      <th>2014-07-11</th>\n",
       "      <td>1964.68</td>\n",
       "      <td>-0.001045</td>\n",
       "    </tr>\n",
       "    <tr>\n",
       "      <th>2014-07-14</th>\n",
       "      <td>1964.68</td>\n",
       "      <td>0.002429</td>\n",
       "    </tr>\n",
       "    <tr>\n",
       "      <th>2014-07-15</th>\n",
       "      <td>1977.10</td>\n",
       "      <td>0.003539</td>\n",
       "    </tr>\n",
       "  </tbody>\n",
       "</table>\n",
       "</div>"
      ],
      "text/plain": [
       "              Price    Signal\n",
       "2014-07-09  1963.71 -0.004444\n",
       "2014-07-10  1972.83 -0.002017\n",
       "2014-07-11  1964.68 -0.001045\n",
       "2014-07-14  1964.68  0.002429\n",
       "2014-07-15  1977.10  0.003539"
      ]
     },
     "execution_count": 10,
     "metadata": {},
     "output_type": "execute_result"
    }
   ],
   "source": [
    "Trade_Train=pd.DataFrame()\n",
    "Trade_Train['Price']=Train['Price']\n",
    "Trade_Train['Signal']=Train_predict\n",
    "Trade_Train.head()\n"
   ]
  },
  {
   "cell_type": "code",
   "execution_count": 11,
   "metadata": {
    "slideshow": {
     "slide_type": "subslide"
    }
   },
   "outputs": [
    {
     "data": {
      "text/html": [
       "<div>\n",
       "<style scoped>\n",
       "    .dataframe tbody tr th:only-of-type {\n",
       "        vertical-align: middle;\n",
       "    }\n",
       "\n",
       "    .dataframe tbody tr th {\n",
       "        vertical-align: top;\n",
       "    }\n",
       "\n",
       "    .dataframe thead th {\n",
       "        text-align: right;\n",
       "    }\n",
       "</style>\n",
       "<table border=\"1\" class=\"dataframe\">\n",
       "  <thead>\n",
       "    <tr style=\"text-align: right;\">\n",
       "      <th></th>\n",
       "      <th>Price</th>\n",
       "      <th>Signal</th>\n",
       "    </tr>\n",
       "  </thead>\n",
       "  <tbody>\n",
       "    <tr>\n",
       "      <th>2016-11-22</th>\n",
       "      <td>2198.18</td>\n",
       "      <td>0.003352</td>\n",
       "    </tr>\n",
       "    <tr>\n",
       "      <th>2016-11-24</th>\n",
       "      <td>2204.72</td>\n",
       "      <td>0.004544</td>\n",
       "    </tr>\n",
       "    <tr>\n",
       "      <th>2016-11-25</th>\n",
       "      <td>2204.72</td>\n",
       "      <td>0.003104</td>\n",
       "    </tr>\n",
       "    <tr>\n",
       "      <th>2016-11-28</th>\n",
       "      <td>2204.72</td>\n",
       "      <td>-0.000277</td>\n",
       "    </tr>\n",
       "    <tr>\n",
       "      <th>2016-11-29</th>\n",
       "      <td>2201.72</td>\n",
       "      <td>-0.000763</td>\n",
       "    </tr>\n",
       "  </tbody>\n",
       "</table>\n",
       "</div>"
      ],
      "text/plain": [
       "              Price    Signal\n",
       "2016-11-22  2198.18  0.003352\n",
       "2016-11-24  2204.72  0.004544\n",
       "2016-11-25  2204.72  0.003104\n",
       "2016-11-28  2204.72 -0.000277\n",
       "2016-11-29  2201.72 -0.000763"
      ]
     },
     "execution_count": 11,
     "metadata": {},
     "output_type": "execute_result"
    }
   ],
   "source": [
    "Trade_Test=pd.DataFrame()\n",
    "Trade_Test['Price']=Test['Price']\n",
    "Trade_Test['Signal']=Test_predict\n",
    "Trade_Test.head()"
   ]
  },
  {
   "cell_type": "code",
   "execution_count": 24,
   "metadata": {
    "slideshow": {
     "slide_type": "subslide"
    }
   },
   "outputs": [
    {
     "name": "stdout",
     "output_type": "stream",
     "text": [
      "3989.610000000002\n"
     ]
    },
    {
     "data": {
      "text/html": [
       "<div>\n",
       "<style scoped>\n",
       "    .dataframe tbody tr th:only-of-type {\n",
       "        vertical-align: middle;\n",
       "    }\n",
       "\n",
       "    .dataframe tbody tr th {\n",
       "        vertical-align: top;\n",
       "    }\n",
       "\n",
       "    .dataframe thead th {\n",
       "        text-align: right;\n",
       "    }\n",
       "</style>\n",
       "<table border=\"1\" class=\"dataframe\">\n",
       "  <thead>\n",
       "    <tr style=\"text-align: right;\">\n",
       "      <th></th>\n",
       "      <th>Price</th>\n",
       "      <th>Signal</th>\n",
       "      <th>Order</th>\n",
       "      <th>Price_change</th>\n",
       "      <th>Profit</th>\n",
       "      <th>Wealth</th>\n",
       "    </tr>\n",
       "  </thead>\n",
       "  <tbody>\n",
       "    <tr>\n",
       "      <th>2014-07-09</th>\n",
       "      <td>1963.71</td>\n",
       "      <td>-0.004444</td>\n",
       "      <td>-1</td>\n",
       "      <td>NaN</td>\n",
       "      <td>NaN</td>\n",
       "      <td>NaN</td>\n",
       "    </tr>\n",
       "    <tr>\n",
       "      <th>2014-07-10</th>\n",
       "      <td>1972.83</td>\n",
       "      <td>-0.002017</td>\n",
       "      <td>-1</td>\n",
       "      <td>9.12</td>\n",
       "      <td>-9.12</td>\n",
       "      <td>1954.59</td>\n",
       "    </tr>\n",
       "    <tr>\n",
       "      <th>2014-07-11</th>\n",
       "      <td>1964.68</td>\n",
       "      <td>-0.001045</td>\n",
       "      <td>-1</td>\n",
       "      <td>-8.15</td>\n",
       "      <td>8.15</td>\n",
       "      <td>1962.74</td>\n",
       "    </tr>\n",
       "    <tr>\n",
       "      <th>2014-07-14</th>\n",
       "      <td>1964.68</td>\n",
       "      <td>0.002429</td>\n",
       "      <td>1</td>\n",
       "      <td>0.00</td>\n",
       "      <td>0.00</td>\n",
       "      <td>1962.74</td>\n",
       "    </tr>\n",
       "    <tr>\n",
       "      <th>2014-07-15</th>\n",
       "      <td>1977.10</td>\n",
       "      <td>0.003539</td>\n",
       "      <td>1</td>\n",
       "      <td>12.42</td>\n",
       "      <td>12.42</td>\n",
       "      <td>1975.16</td>\n",
       "    </tr>\n",
       "  </tbody>\n",
       "</table>\n",
       "</div>"
      ],
      "text/plain": [
       "              Price    Signal  Order  Price_change  Profit   Wealth\n",
       "2014-07-09  1963.71 -0.004444     -1           NaN     NaN      NaN\n",
       "2014-07-10  1972.83 -0.002017     -1          9.12   -9.12  1954.59\n",
       "2014-07-11  1964.68 -0.001045     -1         -8.15    8.15  1962.74\n",
       "2014-07-14  1964.68  0.002429      1          0.00    0.00  1962.74\n",
       "2014-07-15  1977.10  0.003539      1         12.42   12.42  1975.16"
      ]
     },
     "execution_count": 24,
     "metadata": {},
     "output_type": "execute_result"
    }
   ],
   "source": [
    "Trade_Train['Order']=[1 if sig>0 else -1 for sig in Trade_Train['Signal']  ]\n",
    "Trade_Train['Price_change']=Trade_Train['Price']-Trade_Train['Price'].shift(1)\n",
    "Trade_Train['Profit']=Trade_Train['Price_change']*Trade_Train['Order']\n",
    "print(Trade_Train['Profit'].sum())\n",
    "Trade_Train['Wealth']=Trade_Train['Profit'].cumsum()+Trade_Train['Price'][0]\n",
    "Trade_Train.head()"
   ]
  },
  {
   "cell_type": "code",
   "execution_count": 25,
   "metadata": {
    "slideshow": {
     "slide_type": "subslide"
    }
   },
   "outputs": [
    {
     "data": {
      "text/plain": [
       "[<matplotlib.lines.Line2D at 0x7fb124bb9dd8>]"
      ]
     },
     "execution_count": 25,
     "metadata": {},
     "output_type": "execute_result"
    },
    {
     "data": {
      "image/png": "[encoded data removed]",
      "text/plain": [
       "<matplotlib.figure.Figure at 0x7fb124bb96a0>"
      ]
     },
     "metadata": {},
     "output_type": "display_data"
    }
   ],
   "source": [
    "plt.plot(Trade_Train['Wealth'])\n",
    "plt.plot(Trade_Train['Price'])"
   ]
  },
  {
   "cell_type": "code",
   "execution_count": 26,
   "metadata": {
    "slideshow": {
     "slide_type": "subslide"
    }
   },
   "outputs": [
    {
     "name": "stdout",
     "output_type": "stream",
     "text": [
      "669.3899999999985\n"
     ]
    },
    {
     "data": {
      "text/html": [
       "<div>\n",
       "<style scoped>\n",
       "    .dataframe tbody tr th:only-of-type {\n",
       "        vertical-align: middle;\n",
       "    }\n",
       "\n",
       "    .dataframe tbody tr th {\n",
       "        vertical-align: top;\n",
       "    }\n",
       "\n",
       "    .dataframe thead th {\n",
       "        text-align: right;\n",
       "    }\n",
       "</style>\n",
       "<table border=\"1\" class=\"dataframe\">\n",
       "  <thead>\n",
       "    <tr style=\"text-align: right;\">\n",
       "      <th></th>\n",
       "      <th>Price</th>\n",
       "      <th>Signal</th>\n",
       "      <th>Order</th>\n",
       "      <th>Price_change</th>\n",
       "      <th>Profit</th>\n",
       "      <th>Wealth</th>\n",
       "      <th>Return</th>\n",
       "      <th>Peak</th>\n",
       "      <th>Drawdown</th>\n",
       "    </tr>\n",
       "  </thead>\n",
       "  <tbody>\n",
       "    <tr>\n",
       "      <th>2016-11-22</th>\n",
       "      <td>2198.18</td>\n",
       "      <td>0.003352</td>\n",
       "      <td>1</td>\n",
       "      <td>NaN</td>\n",
       "      <td>NaN</td>\n",
       "      <td>NaN</td>\n",
       "      <td>NaN</td>\n",
       "      <td>NaN</td>\n",
       "      <td>NaN</td>\n",
       "    </tr>\n",
       "    <tr>\n",
       "      <th>2016-11-24</th>\n",
       "      <td>2204.72</td>\n",
       "      <td>0.004544</td>\n",
       "      <td>1</td>\n",
       "      <td>6.54</td>\n",
       "      <td>6.54</td>\n",
       "      <td>2204.72</td>\n",
       "      <td>NaN</td>\n",
       "      <td>2204.72</td>\n",
       "      <td>0.0</td>\n",
       "    </tr>\n",
       "    <tr>\n",
       "      <th>2016-11-25</th>\n",
       "      <td>2204.72</td>\n",
       "      <td>0.003104</td>\n",
       "      <td>1</td>\n",
       "      <td>0.00</td>\n",
       "      <td>0.00</td>\n",
       "      <td>2204.72</td>\n",
       "      <td>0.000000</td>\n",
       "      <td>2204.72</td>\n",
       "      <td>0.0</td>\n",
       "    </tr>\n",
       "    <tr>\n",
       "      <th>2016-11-28</th>\n",
       "      <td>2204.72</td>\n",
       "      <td>-0.000277</td>\n",
       "      <td>-1</td>\n",
       "      <td>0.00</td>\n",
       "      <td>-0.00</td>\n",
       "      <td>2204.72</td>\n",
       "      <td>0.000000</td>\n",
       "      <td>2204.72</td>\n",
       "      <td>0.0</td>\n",
       "    </tr>\n",
       "    <tr>\n",
       "      <th>2016-11-29</th>\n",
       "      <td>2201.72</td>\n",
       "      <td>-0.000763</td>\n",
       "      <td>-1</td>\n",
       "      <td>-3.00</td>\n",
       "      <td>3.00</td>\n",
       "      <td>2207.72</td>\n",
       "      <td>0.001361</td>\n",
       "      <td>2207.72</td>\n",
       "      <td>0.0</td>\n",
       "    </tr>\n",
       "  </tbody>\n",
       "</table>\n",
       "</div>"
      ],
      "text/plain": [
       "              Price    Signal  Order  Price_change  Profit   Wealth    Return  \\\n",
       "2016-11-22  2198.18  0.003352      1           NaN     NaN      NaN       NaN   \n",
       "2016-11-24  2204.72  0.004544      1          6.54    6.54  2204.72       NaN   \n",
       "2016-11-25  2204.72  0.003104      1          0.00    0.00  2204.72  0.000000   \n",
       "2016-11-28  2204.72 -0.000277     -1          0.00   -0.00  2204.72  0.000000   \n",
       "2016-11-29  2201.72 -0.000763     -1         -3.00    3.00  2207.72  0.001361   \n",
       "\n",
       "               Peak  Drawdown  \n",
       "2016-11-22      NaN       NaN  \n",
       "2016-11-24  2204.72       0.0  \n",
       "2016-11-25  2204.72       0.0  \n",
       "2016-11-28  2204.72       0.0  \n",
       "2016-11-29  2207.72       0.0  "
      ]
     },
     "execution_count": 26,
     "metadata": {},
     "output_type": "execute_result"
    }
   ],
   "source": [
    "Trade_Test['Order']=[1 if sig>0 else -1 for sig in Trade_Test['Signal']  ]\n",
    "Trade_Test['Price_change']=Trade_Test['Price']-Trade_Test['Price'].shift(1)\n",
    "Trade_Test['Profit']=Trade_Test['Price_change']*Trade_Test['Order']\n",
    "print(Trade_Test['Profit'].sum())\n",
    "Trade_Test['Wealth']=Trade_Test['Profit'].cumsum()+Trade_Test['Price'][0]\n",
    "Trade_Test.head()"
   ]
  },
  {
   "cell_type": "code",
   "execution_count": 15,
   "metadata": {
    "slideshow": {
     "slide_type": "subslide"
    }
   },
   "outputs": [
    {
     "name": "stdout",
     "output_type": "stream",
     "text": [
      "669.3899999999985\n"
     ]
    },
    {
     "data": {
      "image/png": "[encoded data removed]",
      "text/plain": [
       "<matplotlib.figure.Figure at 0x7fb125c60eb8>"
      ]
     },
     "metadata": {},
     "output_type": "display_data"
    }
   ],
   "source": [
    "plt.figure(figsize=(20,10))\n",
    "plt.plot(Trade_Test['Wealth'])\n",
    "plt.plot(Trade_Test['Price'])\n",
    "print(Trade_Test['Profit'].sum())"
   ]
  },
  {
   "cell_type": "markdown",
   "metadata": {
    "slideshow": {
     "slide_type": "slide"
    }
   },
   "source": [
    "## sharpe ratio"
   ]
  },
  {
   "cell_type": "code",
   "execution_count": 27,
   "metadata": {},
   "outputs": [
    {
     "name": "stdout",
     "output_type": "stream",
     "text": [
      "daily sharpe ratio is  0.3905239545988772\n",
      "yearly sharpe ratio is 5.792406322541616\n"
     ]
    }
   ],
   "source": [
    "Trade_Train['Return']=(Trade_Train['Wealth']\n",
    "                      -Trade_Train['Wealth'].shift(1))/Trade_Train['Wealth'].shift(1)\n",
    "dailyr=Trade_Train['Return'].dropna()\n",
    "print(\"daily sharpe ratio is \", dailyr.mean()/dailyr.std(ddof=1))\n",
    "print(\"yearly sharpe ratio is\", (220**0.5)*dailyr.mean()/dailyr.std(ddof=1))"
   ]
  },
  {
   "cell_type": "code",
   "execution_count": 16,
   "metadata": {
    "cell_style": "center",
    "slideshow": {
     "slide_type": "subslide"
    }
   },
   "outputs": [
    {
     "name": "stdout",
     "output_type": "stream",
     "text": [
      "daily sharpe ratio is  0.35527189022345096\n",
      "yearly sharpe ratio is 5.269533709565548\n"
     ]
    }
   ],
   "source": [
    "Trade_Test.head()\n",
    "# daily return\n",
    "Trade_Test['Return']=(Trade_Test['Wealth']\n",
    "                      -Trade_Test['Wealth'].shift(1))/Trade_Test['Wealth'].shift(1)\n",
    "dailyr=Trade_Test['Return'].dropna()\n",
    "print(\"daily sharpe ratio is \", dailyr.mean()/dailyr.std(ddof=1))\n",
    "print(\"yearly sharpe ratio is\", (220**0.5)*dailyr.mean()/dailyr.std(ddof=1))"
   ]
  },
  {
   "cell_type": "markdown",
   "metadata": {
    "slideshow": {
     "slide_type": "slide"
    }
   },
   "source": [
    "### Drawdown "
   ]
  },
  {
   "cell_type": "code",
   "execution_count": 29,
   "metadata": {
    "collapsed": true,
    "slideshow": {
     "slide_type": "subslide"
    }
   },
   "outputs": [],
   "source": [
    "# list comprehension \n",
    "Trade_Test['Peak']=[Trade_Test['Wealth'].loc[:any_index].max() \n",
    "                    for any_index in Trade_Test.index ]\n",
    "Trade_Test['Drawdown']=(Trade_Test['Peak']-Trade_Test['Wealth'])/Trade_Test['Peak']"
   ]
  },
  {
   "cell_type": "code",
   "execution_count": 33,
   "metadata": {
    "slideshow": {
     "slide_type": "subslide"
    }
   },
   "outputs": [
    {
     "name": "stdout",
     "output_type": "stream",
     "text": [
      "Maximum drawdown rate in test is 0.011887378131421152\n",
      "Maximum drawdown rate in train is 0.017250046739649576\n"
     ]
    }
   ],
   "source": [
    "print(\"Maximum drawdown rate in test is\", Trade_Test['Drawdown'].max())\n",
    "print(\"Maximum drawdown rate in train is\", Trade_Train['Drawdown'].max())"
   ]
  }
 ],
 "metadata": {
  "celltoolbar": "Slideshow",
  "kernelspec": {
   "display_name": "Python 3",
   "language": "python",
   "name": "python3"
  },
  "language_info": {
   "codemirror_mode": {
    "name": "ipython",
    "version": 3
   },
   "file_extension": ".py",
   "mimetype": "text/x-python",
   "name": "python",
   "nbconvert_exporter": "python",
   "pygments_lexer": "ipython3",
   "version": "3.6.5"
  },
  "latex_envs": {
   "LaTeX_envs_menu_present": true,
   "autocomplete": true,
   "bibliofile": "biblio.bib",
   "cite_by": "apalike",
   "current_citInitial": 1,
   "eqLabelWithNumbers": true,
   "eqNumInitial": 1,
   "hotkeys": {
    "equation": "Ctrl-E",
    "itemize": "Ctrl-I"
   },
   "labels_anchors": false,
   "latex_user_defs": false,
   "report_style_numbering": false,
   "user_envs_cfg": false
  },
  "toc": {
   "nav_menu": {},
   "number_sections": true,
   "sideBar": true,
   "skip_h1_title": false,
   "toc_cell": false,
   "toc_position": {},
   "toc_section_display": "block",
   "toc_window_display": false
  },
  "varInspector": {
   "cols": {
    "lenName": 16,
    "lenType": 16,
    "lenVar": 40
   },
   "kernels_config": {
    "python": {
     "delete_cmd_postfix": "",
     "delete_cmd_prefix": "del ",
     "library": "var_list.py",
     "varRefreshCmd": "print(var_dic_list())"
    },
    "r": {
     "delete_cmd_postfix": ") ",
     "delete_cmd_prefix": "rm(",
     "library": "var_list.r",
     "varRefreshCmd": "cat(var_dic_list()) "
    }
   },
   "types_to_exclude": [
    "module",
    "function",
    "builtin_function_or_method",
    "instance",
    "_Feature"
   ],
   "window_display": false
  }
 },
 "nbformat": 4,
 "nbformat_minor": 2
}
