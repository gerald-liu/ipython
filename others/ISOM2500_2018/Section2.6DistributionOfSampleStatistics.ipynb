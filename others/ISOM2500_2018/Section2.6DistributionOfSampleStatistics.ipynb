{
 "cells": [
  {
   "cell_type": "code",
   "execution_count": 45,
   "metadata": {
    "collapsed": true
   },
   "outputs": [],
   "source": [
    "import numpy as np\n",
    "import pandas as pd\n",
    "import matplotlib.pyplot as plt\n",
    "from numpy.random import normal\n",
    "from scipy.stats import norm\n",
    "%matplotlib inline"
   ]
  },
  {
   "cell_type": "markdown",
   "metadata": {
    "nbpresent": {
     "id": "f3572fce-3270-4b16-83cd-680dbdc01400"
    },
    "slideshow": {
     "slide_type": "slide"
    }
   },
   "source": [
    "##  Emprical Distribution of Sample Mean "
   ]
  },
  {
   "cell_type": "markdown",
   "metadata": {
    "nbpresent": {
     "id": "e9fe3223-01fa-490e-8d67-65f6a3b0cbef"
    },
    "slideshow": {
     "slide_type": "slide"
    }
   },
   "source": [
    "\n",
    "We want to take a sample with sample size $n=30$ from a normal population with $\\mu=10$ and $\\sigma=5$. "
   ]
  },
  {
   "cell_type": "markdown",
   "metadata": {
    "ExecuteTime": {
     "end_time": "2016-11-14T11:23:17.571743",
     "start_time": "2016-11-14T03:23:06.036Z"
    },
    "nbpresent": {
     "id": "49d9d93c-89c6-46e5-8cc7-63162d0a2457"
    },
    "slideshow": {
     "slide_type": "slide"
    }
   },
   "source": [
    "Our target is to check the variation of sampling error \n",
    "$$\\bar{x}-\\mu $$"
   ]
  },
  {
   "cell_type": "markdown",
   "metadata": {
    "nbpresent": {
     "id": "1f3d036e-ff9a-4d0b-a2f2-f31ce6e2fd8c"
    },
    "slideshow": {
     "slide_type": "slide"
    }
   },
   "source": [
    "and finally figure our the distribution of \n",
    "$$\n",
    "\\bar{x}\n",
    "$$"
   ]
  },
  {
   "cell_type": "markdown",
   "metadata": {},
   "source": [
    "With distribution of sample mean, we can figure out how accurate to estimate population mean using sample mean, or what the chance that the population mean locates in a interval centered at sample mean,  which are the topic of next section,  estimation. "
   ]
  },
  {
   "cell_type": "markdown",
   "metadata": {},
   "source": [
    "We take the first sample, "
   ]
  },
  {
   "cell_type": "code",
   "execution_count": 19,
   "metadata": {
    "ExecuteTime": {
     "end_time": "2016-11-14T11:23:17.572023",
     "start_time": "2016-11-14T03:23:06.389Z"
    },
    "nbpresent": {
     "id": "c0736e37-f549-4a78-a68f-30a6f89c3d90"
    },
    "slideshow": {
     "slide_type": "fragment"
    }
   },
   "outputs": [
    {
     "name": "stdout",
     "output_type": "stream",
     "text": [
      "sample mean is  9.565159745164573\n",
      "sample SD is  4.776758039061961\n"
     ]
    }
   ],
   "source": [
    "Fstsample=pd.DataFrame(np.random.normal(10,5,size=30))\n",
    "print (\"sample mean is \",Fstsample[0].mean())\n",
    "print (\"sample SD is \",Fstsample[0].std(ddof=1)) "
   ]
  },
  {
   "cell_type": "markdown",
   "metadata": {
    "nbpresent": {
     "id": "82e5068f-e293-45ff-ad01-0ec1ee1ee77d"
    },
    "slideshow": {
     "slide_type": "slide"
    }
   },
   "source": [
    "If we run the cell above several time, the values we draw are changed, so are the mean and the standard deviation of the sample. This is called **\"variation of the sample\"**. "
   ]
  },
  {
   "cell_type": "markdown",
   "metadata": {},
   "source": [
    "We will focus on the variation of sample mean in this section. Next we use for-loop to generate 10000 samples. For each sample, we compute mean and standard deviation.  We save all sample means and stds in DataFrame \"collection\""
   ]
  },
  {
   "cell_type": "code",
   "execution_count": 33,
   "metadata": {
    "collapsed": true
   },
   "outputs": [],
   "source": [
    "meanlist=[]\n",
    "varlist=[]\n",
    "for t in range(10000):\n",
    "    sample=pd.DataFrame(normal(10,5,size=30))\n",
    "    meanlist.append(sample[0].mean())\n",
    "    varlist.append(sample[0].var(ddof=1))\n",
    "    \n",
    "collection=pd.DataFrame()\n",
    "collection['meanlist']=meanlist\n",
    "collection['varlist']=varlist"
   ]
  },
  {
   "cell_type": "markdown",
   "metadata": {},
   "source": [
    "We will get a empirical distribution using normed histogram,which is normal-like. "
   ]
  },
  {
   "cell_type": "code",
   "execution_count": 34,
   "metadata": {},
   "outputs": [
    {
     "data": {
      "text/plain": [
       "<matplotlib.axes._subplots.AxesSubplot at 0x7fc9be851630>"
      ]
     },
     "execution_count": 34,
     "metadata": {},
     "output_type": "execute_result"
    },
    {
     "data": {
      "image/png": "[encoded data removed]",
      "text/plain": [
       "<matplotlib.figure.Figure at 0x7fc9be8019b0>"
      ]
     },
     "metadata": {},
     "output_type": "display_data"
    }
   ],
   "source": [
    "collection['meanlist'].hist(bins=500, normed=1)"
   ]
  },
  {
   "cell_type": "markdown",
   "metadata": {
    "nbpresent": {
     "id": "e652151e-0ded-48f6-9e52-4f1d2f0d98c9"
    },
    "slideshow": {
     "slide_type": "slide"
    }
   },
   "source": [
    "Similarly we can find the empirical distribution of sample variance, which is not normal-like."
   ]
  },
  {
   "cell_type": "code",
   "execution_count": 30,
   "metadata": {},
   "outputs": [
    {
     "data": {
      "text/plain": [
       "<matplotlib.axes._subplots.AxesSubplot at 0x7fc9c04d2c50>"
      ]
     },
     "execution_count": 30,
     "metadata": {},
     "output_type": "execute_result"
    },
    {
     "data": {
      "image/png": "[encoded data removed]",
      "text/plain": [
       "<matplotlib.figure.Figure at 0x7fc9bf7e9470>"
      ]
     },
     "metadata": {},
     "output_type": "display_data"
    }
   ],
   "source": [
    "collection['varlist'].hist(bins=500, normed=1)"
   ]
  },
  {
   "cell_type": "markdown",
   "metadata": {},
   "source": [
    "In fact, the distribution of sample variance is chi-2"
   ]
  },
  {
   "cell_type": "markdown",
   "metadata": {},
   "source": [
    "## Sample from Normal Population"
   ]
  },
  {
   "cell_type": "markdown",
   "metadata": {},
   "source": [
    "From the discussion above, we know that "
   ]
  },
  {
   "cell_type": "markdown",
   "metadata": {},
   "source": [
    "- $\\bar{x}$ is a random variable \n",
    "- empirical distribution of $\\bar{x}$ (Finite observation) looks like a normal distribution.  "
   ]
  },
  {
   "cell_type": "markdown",
   "metadata": {
    "nbpresent": {
     "id": "340e3cac-c282-46e2-8342-05eafdd4a98a"
    },
    "slideshow": {
     "slide_type": "slide"
    }
   },
   "source": [
    "**Random variable $\\bar{x}$ obtained from a normal population is gain a normal random variable.**"
   ]
  },
  {
   "cell_type": "markdown",
   "metadata": {},
   "source": [
    "Get obtain probability about sample mean, we need to know the mean  and standard deviation of $\\bar{x}$. To gain some insights, we plot histogram of large sample from population (whose distribution is similar to that of population) and emprirical distribution of sample mean in one graph. "
   ]
  },
  {
   "cell_type": "code",
   "execution_count": 35,
   "metadata": {
    "collapsed": true
   },
   "outputs": [],
   "source": [
    "pop=pd.DataFrame(normal(10,5,size=100000))"
   ]
  },
  {
   "cell_type": "code",
   "execution_count": 47,
   "metadata": {
    "ExecuteTime": {
     "end_time": "2016-11-14T11:23:17.573422",
     "start_time": "2016-11-14T03:23:09.162Z"
    },
    "nbpresent": {
     "id": "65ee88e7-b608-4aba-b622-506c6a855756"
    },
    "slideshow": {
     "slide_type": "slide"
    }
   },
   "outputs": [
    {
     "data": {
      "image/png": "[encoded data removed]",
      "text/plain": [
       "<matplotlib.figure.Figure at 0x7fc9b1b2cf60>"
      ]
     },
     "metadata": {},
     "output_type": "display_data"
    }
   ],
   "source": [
    "plt.figure(figsize=(6,6))\n",
    "pop[0].hist(bins=500,color='cyan',normed=1)\n",
    "collection['meanlist'].hist(bins=500, normed=1,color='red')\n",
    "plt.show()"
   ]
  },
  {
   "cell_type": "markdown",
   "metadata": {
    "nbpresent": {
     "id": "77435dec-049f-4eea-90ca-08f8110ea88b"
    },
    "slideshow": {
     "slide_type": "slide"
    }
   },
   "source": [
    "We can find out that means of popualtion and sample mean are the **same** but the distribution of sample mean has a **smaller** standard deviation. We can conclude: "
   ]
  },
  {
   "cell_type": "markdown",
   "metadata": {
    "nbpresent": {
     "id": "67d1dc5e-cf0c-4ad3-9f96-ff57a5a7c6b9"
    },
    "slideshow": {
     "slide_type": "slide"
    }
   },
   "source": [
    "** Randomly select a sample with sample size n from a normal population ($\\mu,\\sigma^2$), the sample mean's distribution is normal with mean equal to population mean $\\mu$ and  variance equal to $\\frac{\\sigma^2}{n}$ **"
   ]
  },
  {
   "cell_type": "markdown",
   "metadata": {},
   "source": [
    "**Proof:** omitted. \n"
   ]
  },
  {
   "cell_type": "markdown",
   "metadata": {
    "nbpresent": {
     "id": "09cc51a8-c0fb-47a3-a084-58bfd3dcd6aa"
    },
    "slideshow": {
     "slide_type": "slide"
    }
   },
   "source": [
    "**Practice:** Find the mean and standard deviation of  monthly average log return of apple.  "
   ]
  },
  {
   "cell_type": "code",
   "execution_count": 44,
   "metadata": {},
   "outputs": [
    {
     "name": "stdout",
     "output_type": "stream",
     "text": [
      "0.000975467759150088 0.0004018199701199854\n"
     ]
    }
   ],
   "source": [
    "aapl=pd.DataFrame.from_csv(\"data/apple.csv\")\n",
    "aapl['logReturn']=np.log(aapl['Close'].shift(-1))-np.log(aapl['Close'])\n",
    "mu=aapl['logReturn'].mean()\n",
    "var=aapl['logReturn'].var(ddof=1)\n",
    "print(mu,var)"
   ]
  },
  {
   "cell_type": "markdown",
   "metadata": {},
   "source": [
    "mean and var are the sample mean and variance of daily log return. We take them as population mean and standard deviation of daily return. Average monthly return is like to sample from this population with sample size=20(20 trading days)."
   ]
  },
  {
   "cell_type": "code",
   "execution_count": 43,
   "metadata": {},
   "outputs": [
    {
     "name": "stdout",
     "output_type": "stream",
     "text": [
      "0.000975467759150088 2.009099850599927e-05 0.004482298350846279\n"
     ]
    }
   ],
   "source": [
    "mean_sample_mean=mu\n",
    "variance_sample_mean=var/20\n",
    "std_sample_mean=variance_sample_mean**0.5 \n",
    "# we   compute variance first and then compute std by taking square root. \n",
    "print(mean_sample_mean,variance_sample_mean,std_sample_mean)"
   ]
  },
  {
   "cell_type": "markdown",
   "metadata": {
    "nbpresent": {
     "id": "358f222f-7144-4721-9f32-2d6e58e692c3"
    },
    "slideshow": {
     "slide_type": "slide"
    }
   },
   "source": [
    "**Practice:** What is chance that monthly average log return of apple is positive?"
   ]
  },
  {
   "cell_type": "code",
   "execution_count": 46,
   "metadata": {},
   "outputs": [
    {
     "data": {
      "text/plain": [
       "0.5861400068449778"
      ]
     },
     "execution_count": 46,
     "metadata": {},
     "output_type": "execute_result"
    }
   ],
   "source": [
    "1-norm.cdf(0,mean_sample_mean,std_sample_mean)"
   ]
  },
  {
   "cell_type": "markdown",
   "metadata": {
    "nbpresent": {
     "id": "4dc89617-5f7f-415b-b630-24618d3c0052"
    },
    "slideshow": {
     "slide_type": "slide"
    }
   },
   "source": [
    "##  Sample from More General Population"
   ]
  },
  {
   "cell_type": "markdown",
   "metadata": {},
   "source": [
    "If we take samples from population which is not normal, what is the distribution of sample mean? Is that still normal?"
   ]
  },
  {
   "cell_type": "markdown",
   "metadata": {},
   "source": [
    "Consider the following population \n"
   ]
  },
  {
   "cell_type": "code",
   "execution_count": 48,
   "metadata": {
    "collapsed": true
   },
   "outputs": [],
   "source": [
    "apop=pd.DataFrame([1,0,1,0,1])"
   ]
  },
  {
   "cell_type": "markdown",
   "metadata": {},
   "source": [
    "Now we take samples with replacement and sample size=10. "
   ]
  },
  {
   "cell_type": "code",
   "execution_count": 56,
   "metadata": {
    "ExecuteTime": {
     "end_time": "2016-11-14T11:23:17.575476",
     "start_time": "2016-11-14T03:23:12.847Z"
    },
    "collapsed": true,
    "slideshow": {
     "slide_type": "slide"
    }
   },
   "outputs": [],
   "source": [
    "samplemeanlist=[]\n",
    "for t in range(100000):\n",
    "    sample=apop[0].sample(10,replace=True)\n",
    "    samplemeanlist.append(sample.mean())\n",
    "\n",
    "    \n",
    "acollec=pd.DataFrame()\n",
    "acollec['meanlist']=samplemeanlist\n"
   ]
  },
  {
   "cell_type": "markdown",
   "metadata": {},
   "source": [
    "Then we can find distribution of sample mean "
   ]
  },
  {
   "cell_type": "code",
   "execution_count": 57,
   "metadata": {},
   "outputs": [
    {
     "data": {
      "image/png": "[encoded data removed]",
      "text/plain": [
       "<matplotlib.figure.Figure at 0x7fc9bac1d898>"
      ]
     },
     "metadata": {},
     "output_type": "display_data"
    }
   ],
   "source": [
    "acollec['meanlist'].hist(bins=500,color='red',normed=1)\n",
    "plt.show()"
   ]
  },
  {
   "cell_type": "markdown",
   "metadata": {},
   "source": [
    "which obviously is not normal. Now let us take samples with sample size=2000"
   ]
  },
  {
   "cell_type": "code",
   "execution_count": 68,
   "metadata": {
    "collapsed": true
   },
   "outputs": [],
   "source": [
    "samplemeanlist=[]\n",
    "for t in range(10000):\n",
    "    sample=apop[0].sample(2000,replace=True)\n",
    "    samplemeanlist.append(sample.mean())\n",
    "\n",
    "    \n",
    "acollec=pd.DataFrame()\n",
    "acollec['meanlist']=samplemeanlist\n"
   ]
  },
  {
   "cell_type": "code",
   "execution_count": 69,
   "metadata": {},
   "outputs": [
    {
     "data": {
      "image/png": "[encoded data removed]",
      "text/plain": [
       "<matplotlib.figure.Figure at 0x7fc9b1b15a20>"
      ]
     },
     "metadata": {},
     "output_type": "display_data"
    }
   ],
   "source": [
    "acollec['meanlist'].hist(bins=500,color='red',normed=1)\n",
    "plt.show()"
   ]
  },
  {
   "cell_type": "markdown",
   "metadata": {},
   "source": [
    "Now we have s distribution which looks like a normal one, which is because of central limit theorem. "
   ]
  },
  {
   "cell_type": "markdown",
   "metadata": {
    "slideshow": {
     "slide_type": "slide"
    }
   },
   "source": [
    "**Central Limit Theroem**\n",
    "No matter what is the population, $\\bar{X}$ will be more and more like normal distribution as $n$ becomes larger, and its mean and variance are $\\mu$ and $\\frac{\\sigma^2}{n}$"
   ]
  },
  {
   "cell_type": "markdown",
   "metadata": {
    "slideshow": {
     "slide_type": "slide"
    }
   },
   "source": [
    "'apop' is a population with only two possible values. For most population with continuous values and almost-symmetric distributed, its sample mean will have normal-like distribution if $n>50$.  "
   ]
  },
  {
   "cell_type": "markdown",
   "metadata": {},
   "source": [
    "Central limit theorem did not provide the result the suitable sample size with which the sample mean can be normal like, which is highly dependent on the the distribution of population. "
   ]
  },
  {
   "cell_type": "code",
   "execution_count": null,
   "metadata": {
    "collapsed": true
   },
   "outputs": [],
   "source": []
  }
 ],
 "metadata": {
  "anaconda-cloud": {},
  "hide_input": false,
  "kernelspec": {
   "display_name": "Python 3",
   "language": "python",
   "name": "python3"
  },
  "language_info": {
   "codemirror_mode": {
    "name": "ipython",
    "version": 3
   },
   "file_extension": ".py",
   "mimetype": "text/x-python",
   "name": "python",
   "nbconvert_exporter": "python",
   "pygments_lexer": "ipython3",
   "version": "3.6.5"
  },
  "latex_envs": {
   "LaTeX_envs_menu_present": true,
   "autocomplete": true,
   "bibliofile": "biblio.bib",
   "cite_by": "apalike",
   "current_citInitial": 1,
   "eqLabelWithNumbers": true,
   "eqNumInitial": 0,
   "hotkeys": {
    "equation": "Ctrl-E",
    "itemize": "Ctrl-I"
   },
   "labels_anchors": false,
   "latex_user_defs": false,
   "report_style_numbering": true,
   "user_envs_cfg": true
  },
  "nbpresent": {
   "slides": {
    "021ce362-f30f-4589-870a-11ceefea4181": {
     "id": "021ce362-f30f-4589-870a-11ceefea4181",
     "prev": "e02e533d-2bc3-46b2-be83-b8a92bc913e4",
     "regions": {
      "c2f79e19-5e64-4ca7-8579-74084f7ff1ee": {
       "attrs": {
        "height": 0.8,
        "width": 0.8,
        "x": 0.1,
        "y": 0.1
       },
       "content": {
        "cell": "8c29731f-c8ad-44b2-b2ac-fc13f630f80c",
        "part": "whole"
       },
       "id": "c2f79e19-5e64-4ca7-8579-74084f7ff1ee"
      }
     }
    },
    "04c233bd-ae9b-4809-b314-f490c39b23e1": {
     "id": "04c233bd-ae9b-4809-b314-f490c39b23e1",
     "prev": "dd9fdd7f-4926-4b93-b7f3-b9c2f2a28f34",
     "regions": {
      "defe26ef-8942-46ec-a930-d670b41bd59a": {
       "attrs": {
        "height": 0.8,
        "width": 0.8,
        "x": 0.1,
        "y": 0.1
       },
       "content": {
        "cell": "3ccda216-2371-49f0-bdcc-4ea1173c1365",
        "part": "whole"
       },
       "id": "defe26ef-8942-46ec-a930-d670b41bd59a"
      }
     }
    },
    "0c8c0359-9cad-46a8-8530-f445e79a172d": {
     "id": "0c8c0359-9cad-46a8-8530-f445e79a172d",
     "prev": "5c531ea5-d4ba-450e-86aa-9e2e0701432e",
     "regions": {
      "68a2a636-9ebd-4dfd-b875-fe6f5fa9912d": {
       "attrs": {
        "height": 0.8,
        "width": 0.8,
        "x": 0.1,
        "y": 0.1
       },
       "content": {
        "cell": "341b3f4b-4d6e-4257-b965-c90c47dbc8e3",
        "part": "whole"
       },
       "id": "68a2a636-9ebd-4dfd-b875-fe6f5fa9912d"
      }
     }
    },
    "10fc44fd-460f-4eff-9a83-d7d0dfb0c453": {
     "id": "10fc44fd-460f-4eff-9a83-d7d0dfb0c453",
     "prev": "9db74b8e-63dd-4ef4-9043-f883189c4465",
     "regions": {
      "2b0a6976-a687-4952-a07a-9018e23da096": {
       "attrs": {
        "height": 0.8,
        "width": 0.8,
        "x": 0.1,
        "y": 0.1
       },
       "content": {
        "cell": "d79c6a74-e657-4afd-b0f0-6b96ce7172ee",
        "part": "whole"
       },
       "id": "2b0a6976-a687-4952-a07a-9018e23da096"
      }
     }
    },
    "18a29df5-c5eb-4318-b284-fab0163663c6": {
     "id": "18a29df5-c5eb-4318-b284-fab0163663c6",
     "prev": "021ce362-f30f-4589-870a-11ceefea4181",
     "regions": {
      "34bfa3e8-b711-4f01-aadb-566ad8893b85": {
       "attrs": {
        "height": 0.8,
        "width": 0.8,
        "x": 0.1,
        "y": 0.1
       },
       "content": {
        "cell": "d0876ee8-acc3-491b-b41d-c41b407d3d89",
        "part": "whole"
       },
       "id": "34bfa3e8-b711-4f01-aadb-566ad8893b85"
      }
     }
    },
    "1b6edd1a-8fbc-45b5-9e40-142142dec55c": {
     "id": "1b6edd1a-8fbc-45b5-9e40-142142dec55c",
     "prev": "9063c509-bb6a-4ab1-b92f-8a0ed174b79c",
     "regions": {
      "bcc9cc82-bf3c-4aee-b5e4-fec4a7ce54b0": {
       "attrs": {
        "height": 0.8,
        "width": 0.8,
        "x": 0.1,
        "y": 0.1
       },
       "content": {
        "cell": "59917876-8e85-4f1d-a9c3-62c564eb6227",
        "part": "whole"
       },
       "id": "bcc9cc82-bf3c-4aee-b5e4-fec4a7ce54b0"
      }
     }
    },
    "23a45fba-ceae-4a46-97fa-c38097a7af24": {
     "id": "23a45fba-ceae-4a46-97fa-c38097a7af24",
     "prev": "99fcb64d-9658-4d3a-b0e0-90d2b41a9775",
     "regions": {
      "67e47d83-19c6-4085-a996-9d9b82964125": {
       "attrs": {
        "height": 0.8,
        "width": 0.8,
        "x": 0.1,
        "y": 0.1
       },
       "content": {
        "cell": "2be0a684-9d85-4fa3-8645-5a7fb4297fac",
        "part": "whole"
       },
       "id": "67e47d83-19c6-4085-a996-9d9b82964125"
      }
     }
    },
    "280a9c60-7f09-4174-87c8-9aa03583edd2": {
     "id": "280a9c60-7f09-4174-87c8-9aa03583edd2",
     "prev": "952c6008-782d-48ee-8394-1496ddeca273",
     "regions": {
      "ae73a016-7705-4275-9730-1adda368f1ee": {
       "attrs": {
        "height": 0.8,
        "width": 0.8,
        "x": 0.1,
        "y": 0.1
       },
       "content": {
        "cell": "ac2abb66-bddb-49d6-b54d-c73c48302077",
        "part": "whole"
       },
       "id": "ae73a016-7705-4275-9730-1adda368f1ee"
      }
     }
    },
    "288d035e-0598-4ffd-9250-5cd703067706": {
     "id": "288d035e-0598-4ffd-9250-5cd703067706",
     "prev": "5691c8bd-264b-4ddf-a9a7-91297201911e",
     "regions": {
      "872c0294-1fe1-41fc-9540-109255e2c425": {
       "attrs": {
        "height": 0.8,
        "width": 0.8,
        "x": 0.1,
        "y": 0.1
       },
       "content": {
        "cell": "50844ee8-9175-4242-a7b4-d0ea2736a65e",
        "part": "whole"
       },
       "id": "872c0294-1fe1-41fc-9540-109255e2c425"
      }
     }
    },
    "2b0d2e12-da91-4fd5-90fd-f29e6ef23482": {
     "id": "2b0d2e12-da91-4fd5-90fd-f29e6ef23482",
     "prev": "89bf84da-358c-4d49-ac96-61064a092ac3",
     "regions": {
      "588c14d5-19b0-480c-b75d-2cc9775898de": {
       "attrs": {
        "height": 0.8,
        "width": 0.8,
        "x": 0.1,
        "y": 0.1
       },
       "content": {
        "cell": "937cf5c8-928c-44bf-a010-b0f762582430",
        "part": "whole"
       },
       "id": "588c14d5-19b0-480c-b75d-2cc9775898de"
      }
     }
    },
    "33ac8d78-e856-4bbc-b732-f34264f88c73": {
     "id": "33ac8d78-e856-4bbc-b732-f34264f88c73",
     "prev": "a79d3abb-22ea-4af5-b7b8-26a84765ea92",
     "regions": {
      "23aa433f-e99c-4d40-88c1-7c58ee8f6a55": {
       "attrs": {
        "height": 0.8,
        "width": 0.8,
        "x": 0.1,
        "y": 0.1
       },
       "content": {
        "cell": "09cc51a8-c0fb-47a3-a084-58bfd3dcd6aa",
        "part": "whole"
       },
       "id": "23aa433f-e99c-4d40-88c1-7c58ee8f6a55"
      }
     }
    },
    "38de8e58-9007-4107-9ec4-80fe81da2536": {
     "id": "38de8e58-9007-4107-9ec4-80fe81da2536",
     "prev": "900635ea-9636-4472-92a6-131cbd9faf86",
     "regions": {
      "0f3fe2c8-0df3-4afa-934b-fdcbda381f3a": {
       "attrs": {
        "height": 0.8,
        "width": 0.8,
        "x": 0.1,
        "y": 0.1
       },
       "content": {
        "cell": "4dc89617-5f7f-415b-b630-24618d3c0052",
        "part": "whole"
       },
       "id": "0f3fe2c8-0df3-4afa-934b-fdcbda381f3a"
      }
     }
    },
    "3c63a4e3-5fd8-4cdb-bd53-4b6fab26df57": {
     "id": "3c63a4e3-5fd8-4cdb-bd53-4b6fab26df57",
     "prev": null,
     "regions": {
      "dcddfbda-480a-425c-b11b-c6bb6363717c": {
       "attrs": {
        "height": 0.8,
        "width": 0.8,
        "x": 0.1,
        "y": 0.1
       },
       "content": {
        "cell": "4003a016-2d68-4655-8ebb-15f0e0a680dd",
        "part": "whole"
       },
       "id": "dcddfbda-480a-425c-b11b-c6bb6363717c"
      }
     }
    },
    "4ab74651-75f6-4bfd-8702-f5505d9257e5": {
     "id": "4ab74651-75f6-4bfd-8702-f5505d9257e5",
     "prev": "ac15a605-f834-44c5-85a9-2b8e9fb210a8",
     "regions": {
      "16b3d650-0ff1-4d2d-af42-5928a2fb9037": {
       "attrs": {
        "height": 0.8,
        "width": 0.8,
        "x": 0.1,
        "y": 0.1
       },
       "content": {
        "cell": "49d9d93c-89c6-46e5-8cc7-63162d0a2457",
        "part": "whole"
       },
       "id": "16b3d650-0ff1-4d2d-af42-5928a2fb9037"
      }
     }
    },
    "5027a2d0-73a4-4143-a431-88caf9915241": {
     "id": "5027a2d0-73a4-4143-a431-88caf9915241",
     "prev": "c0468179-4e8b-4416-91e8-49665398dedf",
     "regions": {
      "e3fa6cd1-d875-400b-9d8d-69802f84f653": {
       "attrs": {
        "height": 0.8,
        "width": 0.8,
        "x": 0.1,
        "y": 0.1
       },
       "content": {
        "cell": "340e3cac-c282-46e2-8342-05eafdd4a98a",
        "part": "whole"
       },
       "id": "e3fa6cd1-d875-400b-9d8d-69802f84f653"
      }
     }
    },
    "5691c8bd-264b-4ddf-a9a7-91297201911e": {
     "id": "5691c8bd-264b-4ddf-a9a7-91297201911e",
     "prev": "941c82e8-490f-42de-9ece-409f5ee9abad",
     "regions": {
      "d69ff0bd-3733-4f9a-9265-3d876ef84979": {
       "attrs": {
        "height": 0.8,
        "width": 0.8,
        "x": 0.1,
        "y": 0.1
       },
       "content": {
        "cell": "dcb693d6-43bb-468f-9cdb-5f5c70a87e4b",
        "part": "whole"
       },
       "id": "d69ff0bd-3733-4f9a-9265-3d876ef84979"
      }
     }
    },
    "56a05dbd-e27f-47b5-b062-bc05a65e6c1f": {
     "id": "56a05dbd-e27f-47b5-b062-bc05a65e6c1f",
     "prev": "76ab72d5-cea1-4934-a8f7-601a3acd97c7",
     "regions": {
      "60087bee-44fd-4c75-94fc-d461258c2598": {
       "attrs": {
        "height": 0.8,
        "width": 0.8,
        "x": 0.1,
        "y": 0.1
       },
       "content": {
        "cell": "f41d8c10-18a7-4e42-9031-a5e705f93c67",
        "part": "whole"
       },
       "id": "60087bee-44fd-4c75-94fc-d461258c2598"
      }
     }
    },
    "5c1e453e-bc6f-411d-a560-329482f25793": {
     "id": "5c1e453e-bc6f-411d-a560-329482f25793",
     "prev": "288d035e-0598-4ffd-9250-5cd703067706",
     "regions": {
      "d68f12c3-37c6-4e82-bb63-b2c2981a6c36": {
       "attrs": {
        "height": 0.8,
        "width": 0.8,
        "x": 0.1,
        "y": 0.1
       },
       "content": {
        "cell": "5735a27c-3140-4c78-8ddf-ec96b9723f02",
        "part": "whole"
       },
       "id": "d68f12c3-37c6-4e82-bb63-b2c2981a6c36"
      }
     }
    },
    "5c531ea5-d4ba-450e-86aa-9e2e0701432e": {
     "id": "5c531ea5-d4ba-450e-86aa-9e2e0701432e",
     "prev": "f25ef9b9-a699-4184-adc6-a8bead5e811f",
     "regions": {
      "7fc12b53-d9d1-409d-8443-d6c6d7b3bdd8": {
       "attrs": {
        "height": 0.8,
        "width": 0.8,
        "x": 0.1,
        "y": 0.1
       },
       "content": {
        "cell": "598652ed-9651-4047-bc83-149714302162",
        "part": "whole"
       },
       "id": "7fc12b53-d9d1-409d-8443-d6c6d7b3bdd8"
      }
     }
    },
    "5c6e18fa-ce83-4e0e-aefa-081cdd900f48": {
     "id": "5c6e18fa-ce83-4e0e-aefa-081cdd900f48",
     "prev": "d90ee65d-2fe7-44c7-99d8-0a9cde789005",
     "regions": {
      "fcd8425c-6b61-44b0-9320-3bb935361bac": {
       "attrs": {
        "height": 0.8,
        "width": 0.8,
        "x": 0.1,
        "y": 0.1
       },
       "content": {
        "cell": "357e57db-e67b-4d9a-b3e5-68d975593f78",
        "part": "whole"
       },
       "id": "fcd8425c-6b61-44b0-9320-3bb935361bac"
      }
     }
    },
    "64345210-059f-4273-aefc-75e5aad3a424": {
     "id": "64345210-059f-4273-aefc-75e5aad3a424",
     "prev": "c7d312a9-544f-4c0e-970d-1a2855f45159",
     "regions": {
      "0dae7b16-b50c-4f4a-825c-ad2f178bba10": {
       "attrs": {
        "height": 0.8,
        "width": 0.8,
        "x": 0.1,
        "y": 0.1
       },
       "content": {
        "cell": "40f2bbd8-210d-4f77-a28b-c244c1f6ee5c",
        "part": "whole"
       },
       "id": "0dae7b16-b50c-4f4a-825c-ad2f178bba10"
      }
     }
    },
    "655f1d76-228e-4ad3-9e78-2ed99fb69e02": {
     "id": "655f1d76-228e-4ad3-9e78-2ed99fb69e02",
     "prev": "b648f3ce-b7b2-4af0-ae16-70c2b5bc9382",
     "regions": {
      "31ff89e7-86b7-492f-abfe-5cc97cf6677b": {
       "attrs": {
        "height": 0.8,
        "width": 0.8,
        "x": 0.1,
        "y": 0.1
       },
       "content": {
        "cell": "5da90dd5-c190-4e51-b7c0-5fa7a56f9c50",
        "part": "whole"
       },
       "id": "31ff89e7-86b7-492f-abfe-5cc97cf6677b"
      }
     }
    },
    "698dbaf4-13b2-4580-81e7-6a5c6434c682": {
     "id": "698dbaf4-13b2-4580-81e7-6a5c6434c682",
     "prev": "10fc44fd-460f-4eff-9a83-d7d0dfb0c453",
     "regions": {
      "33474195-46a8-4436-aac1-f5cd36278ed2": {
       "attrs": {
        "height": 0.8,
        "width": 0.8,
        "x": 0.1,
        "y": 0.1
       },
       "content": {
        "cell": "0b7586eb-b811-4222-9cae-2b6fb220c549",
        "part": "whole"
       },
       "id": "33474195-46a8-4436-aac1-f5cd36278ed2"
      }
     }
    },
    "6d1b30f2-0e84-496a-a78b-6a45f8b78217": {
     "id": "6d1b30f2-0e84-496a-a78b-6a45f8b78217",
     "prev": "af72e95c-31ac-4dfb-8e78-7fcba41fd75d",
     "regions": {
      "0c82bfcd-28a2-4564-8875-f2097337411b": {
       "attrs": {
        "height": 0.8,
        "width": 0.8,
        "x": 0.1,
        "y": 0.1
       },
       "content": {
        "cell": "c0736e37-f549-4a78-a68f-30a6f89c3d90",
        "part": "whole"
       },
       "id": "0c82bfcd-28a2-4564-8875-f2097337411b"
      }
     }
    },
    "76ab72d5-cea1-4934-a8f7-601a3acd97c7": {
     "id": "76ab72d5-cea1-4934-a8f7-601a3acd97c7",
     "prev": "86f21207-f6c6-4f8c-863a-6ff5fdb95d1d",
     "regions": {
      "ae990ae1-bee4-436f-b64e-97711b18b914": {
       "attrs": {
        "height": 0.8,
        "width": 0.8,
        "x": 0.1,
        "y": 0.1
       },
       "content": {
        "cell": "f194b1c2-2748-4767-8508-477623a11267",
        "part": "whole"
       },
       "id": "ae990ae1-bee4-436f-b64e-97711b18b914"
      }
     }
    },
    "78669356-8d48-401e-b8f8-42e14e06f643": {
     "id": "78669356-8d48-401e-b8f8-42e14e06f643",
     "prev": "9b415b27-c3ec-43e6-a27f-d65fb3509e92",
     "regions": {
      "1cfdd2d1-6617-4711-b18f-abcf22fd30be": {
       "attrs": {
        "height": 0.8,
        "width": 0.8,
        "x": 0.1,
        "y": 0.1
       },
       "content": {
        "cell": "36b4cb9d-ff58-45e6-87e5-9038127a2e3e",
        "part": "whole"
       },
       "id": "1cfdd2d1-6617-4711-b18f-abcf22fd30be"
      }
     }
    },
    "86f21207-f6c6-4f8c-863a-6ff5fdb95d1d": {
     "id": "86f21207-f6c6-4f8c-863a-6ff5fdb95d1d",
     "prev": "9bc6788f-d393-4628-ba9d-0f943f6ea8d7",
     "regions": {
      "d0028fd6-78b3-406d-bed3-b07721436395": {
       "attrs": {
        "height": 0.8,
        "width": 0.8,
        "x": 0.1,
        "y": 0.1
       },
       "content": {
        "cell": "b0b0ae07-fe50-4fa4-b636-3b06c9d005f0",
        "part": "whole"
       },
       "id": "d0028fd6-78b3-406d-bed3-b07721436395"
      }
     }
    },
    "89bf84da-358c-4d49-ac96-61064a092ac3": {
     "id": "89bf84da-358c-4d49-ac96-61064a092ac3",
     "prev": "b40783ea-b2b7-45c4-a356-ad4e312c2535",
     "regions": {
      "95c460df-60bf-49d3-9a0e-27ffae80548f": {
       "attrs": {
        "height": 0.8,
        "width": 0.8,
        "x": 0.1,
        "y": 0.1
       },
       "content": {
        "cell": "bedaa64f-6166-400d-bfa0-4751535b3d3d",
        "part": "whole"
       },
       "id": "95c460df-60bf-49d3-9a0e-27ffae80548f"
      }
     }
    },
    "900635ea-9636-4472-92a6-131cbd9faf86": {
     "id": "900635ea-9636-4472-92a6-131cbd9faf86",
     "prev": "dc078794-4560-4ee6-a428-3dfecd784b88",
     "regions": {
      "685f7fa7-2316-4e10-aa11-0c14ea47319d": {
       "attrs": {
        "height": 0.8,
        "width": 0.8,
        "x": 0.1,
        "y": 0.1
       },
       "content": {
        "cell": "6ec84447-65b6-439e-a7e7-e9f0438ae0b8",
        "part": "whole"
       },
       "id": "685f7fa7-2316-4e10-aa11-0c14ea47319d"
      }
     }
    },
    "9063c509-bb6a-4ab1-b92f-8a0ed174b79c": {
     "id": "9063c509-bb6a-4ab1-b92f-8a0ed174b79c",
     "prev": "78669356-8d48-401e-b8f8-42e14e06f643",
     "regions": {
      "e2f602c7-6e12-47af-a09e-30cc490e545b": {
       "attrs": {
        "height": 0.8,
        "width": 0.8,
        "x": 0.1,
        "y": 0.1
       },
       "content": {
        "cell": "72531bfc-b210-442f-a293-fdf4067e40e1",
        "part": "whole"
       },
       "id": "e2f602c7-6e12-47af-a09e-30cc490e545b"
      }
     }
    },
    "941c82e8-490f-42de-9ece-409f5ee9abad": {
     "id": "941c82e8-490f-42de-9ece-409f5ee9abad",
     "prev": "a7215160-e0fb-4af6-a127-aeb4f1a9989f",
     "regions": {
      "a4db4279-879b-4903-ba02-d2a78ee3d23a": {
       "attrs": {
        "height": 0.8,
        "width": 0.8,
        "x": 0.1,
        "y": 0.1
       },
       "content": {
        "cell": "127db2c0-6837-4c67-809a-13f6d281082a",
        "part": "whole"
       },
       "id": "a4db4279-879b-4903-ba02-d2a78ee3d23a"
      }
     }
    },
    "952c6008-782d-48ee-8394-1496ddeca273": {
     "id": "952c6008-782d-48ee-8394-1496ddeca273",
     "prev": "964c25aa-0f82-498c-8751-503bb21f5a10",
     "regions": {
      "7882a186-a9df-4018-91ed-1be209073895": {
       "attrs": {
        "height": 0.8,
        "width": 0.8,
        "x": 0.1,
        "y": 0.1
       },
       "content": {
        "cell": "9b82de76-61a4-480a-90c3-6dda0acac19c",
        "part": "whole"
       },
       "id": "7882a186-a9df-4018-91ed-1be209073895"
      }
     }
    },
    "960bb11d-9ee8-47d4-892c-5d68c148a380": {
     "id": "960bb11d-9ee8-47d4-892c-5d68c148a380",
     "prev": "18a29df5-c5eb-4318-b284-fab0163663c6",
     "regions": {
      "300eadba-c66e-4aa7-a8e9-d764b3b48963": {
       "attrs": {
        "height": 0.8,
        "width": 0.8,
        "x": 0.1,
        "y": 0.1
       },
       "content": {
        "cell": "019ca60a-08a3-4f1d-9a33-fde95f82b3dc",
        "part": "whole"
       },
       "id": "300eadba-c66e-4aa7-a8e9-d764b3b48963"
      }
     }
    },
    "964c25aa-0f82-498c-8751-503bb21f5a10": {
     "id": "964c25aa-0f82-498c-8751-503bb21f5a10",
     "prev": "9822ff8f-8198-4028-b67e-335f20ba0de1",
     "regions": {
      "7d07f6de-b3bb-4e6a-8114-e6a41213c70b": {
       "attrs": {
        "height": 0.8,
        "width": 0.8,
        "x": 0.1,
        "y": 0.1
       },
       "content": {
        "cell": "0b5cf913-af42-4ecd-aa3a-44813fad9f6a",
        "part": "whole"
       },
       "id": "7d07f6de-b3bb-4e6a-8114-e6a41213c70b"
      }
     }
    },
    "9764234d-4c08-42af-8c10-cde89b8295fc": {
     "id": "9764234d-4c08-42af-8c10-cde89b8295fc",
     "prev": "bfa83b6c-802b-4d81-9e0f-5ce457460328",
     "regions": {
      "6bcf800b-9676-4240-a570-134f9fbd82e9": {
       "attrs": {
        "height": 0.8,
        "width": 0.8,
        "x": 0.1,
        "y": 0.1
       },
       "content": {
        "cell": "4ca8f9b9-80e9-4d31-886c-2e9f206f263d",
        "part": "whole"
       },
       "id": "6bcf800b-9676-4240-a570-134f9fbd82e9"
      }
     }
    },
    "9822ff8f-8198-4028-b67e-335f20ba0de1": {
     "id": "9822ff8f-8198-4028-b67e-335f20ba0de1",
     "prev": "d38f66a3-ec45-48e9-8936-5366432842dc",
     "regions": {
      "a74cfea2-7972-4f09-9157-a8ab86f181b0": {
       "attrs": {
        "height": 0.8,
        "width": 0.8,
        "x": 0.1,
        "y": 0.1
       },
       "content": {
        "cell": "d385c458-89f2-4f5e-abf4-0b2e88024828",
        "part": "whole"
       },
       "id": "a74cfea2-7972-4f09-9157-a8ab86f181b0"
      }
     }
    },
    "99acd33c-8c1d-41b5-baf0-733ef75801b6": {
     "id": "99acd33c-8c1d-41b5-baf0-733ef75801b6",
     "prev": "c9935b9c-b9a6-4599-96a1-7e21244d7d2e",
     "regions": {
      "1a02be47-5f32-4628-814d-a20c2f125593": {
       "attrs": {
        "height": 0.8,
        "width": 0.8,
        "x": 0.1,
        "y": 0.1
       },
       "content": {
        "cell": "77435dec-049f-4eea-90ca-08f8110ea88b",
        "part": "whole"
       },
       "id": "1a02be47-5f32-4628-814d-a20c2f125593"
      }
     }
    },
    "99fcb64d-9658-4d3a-b0e0-90d2b41a9775": {
     "id": "99fcb64d-9658-4d3a-b0e0-90d2b41a9775",
     "prev": "ea6ff5a8-75bb-409b-9817-2fe62e701fd1",
     "regions": {
      "29d62076-7898-4ef5-9382-659e803a1fe3": {
       "attrs": {
        "height": 0.8,
        "width": 0.8,
        "x": 0.1,
        "y": 0.1
       },
       "content": {
        "cell": "66178296-a24b-4fb6-89b9-9df22bcecbe8",
        "part": "whole"
       },
       "id": "29d62076-7898-4ef5-9382-659e803a1fe3"
      }
     }
    },
    "9b415b27-c3ec-43e6-a27f-d65fb3509e92": {
     "id": "9b415b27-c3ec-43e6-a27f-d65fb3509e92",
     "prev": "5c1e453e-bc6f-411d-a560-329482f25793",
     "regions": {
      "82c7ecae-9cb8-43d9-a781-b6cc255a65ae": {
       "attrs": {
        "height": 0.8,
        "width": 0.8,
        "x": 0.1,
        "y": 0.1
       },
       "content": {
        "cell": "a79ad178-9eda-4e2e-b026-3b100dc44508",
        "part": "whole"
       },
       "id": "82c7ecae-9cb8-43d9-a781-b6cc255a65ae"
      }
     }
    },
    "9bc6788f-d393-4628-ba9d-0f943f6ea8d7": {
     "id": "9bc6788f-d393-4628-ba9d-0f943f6ea8d7",
     "prev": "960bb11d-9ee8-47d4-892c-5d68c148a380",
     "regions": {
      "5fdf24bd-8e96-4f4d-8bdb-f9929976bc76": {
       "attrs": {
        "height": 0.8,
        "width": 0.8,
        "x": 0.1,
        "y": 0.1
       },
       "content": {
        "cell": "a9afe465-b8e1-412c-9fc8-c8111f4005dd",
        "part": "whole"
       },
       "id": "5fdf24bd-8e96-4f4d-8bdb-f9929976bc76"
      }
     }
    },
    "9db74b8e-63dd-4ef4-9043-f883189c4465": {
     "id": "9db74b8e-63dd-4ef4-9043-f883189c4465",
     "prev": "23a45fba-ceae-4a46-97fa-c38097a7af24",
     "regions": {
      "bc4a53ca-2baa-48d1-9759-55c276642d5d": {
       "attrs": {
        "height": 0.8,
        "width": 0.8,
        "x": 0.1,
        "y": 0.1
       },
       "content": {
        "cell": "e41cf2a3-8443-4fa1-9dd0-3b93a40a657b",
        "part": "whole"
       },
       "id": "bc4a53ca-2baa-48d1-9759-55c276642d5d"
      }
     }
    },
    "a4ca1b54-7664-4eed-a593-428358f15347": {
     "id": "a4ca1b54-7664-4eed-a593-428358f15347",
     "prev": "cef6f3a8-ee4c-43a8-a6ec-a5e6d5b57b5a",
     "regions": {
      "020af40f-35dd-4912-9810-6d07a1d19a6d": {
       "attrs": {
        "height": 0.8,
        "width": 0.8,
        "x": 0.1,
        "y": 0.1
       },
       "content": {
        "cell": "cbfc69a6-965f-44f3-8a05-e9aac46e6d3b",
        "part": "whole"
       },
       "id": "020af40f-35dd-4912-9810-6d07a1d19a6d"
      }
     }
    },
    "a7215160-e0fb-4af6-a127-aeb4f1a9989f": {
     "id": "a7215160-e0fb-4af6-a127-aeb4f1a9989f",
     "prev": "5c6e18fa-ce83-4e0e-aefa-081cdd900f48",
     "regions": {
      "56749ede-0172-41a4-8f02-d9378394c681": {
       "attrs": {
        "height": 0.8,
        "width": 0.8,
        "x": 0.1,
        "y": 0.1
       },
       "content": {
        "cell": "119248a3-4a2a-4058-abaa-89d0140f1b63",
        "part": "whole"
       },
       "id": "56749ede-0172-41a4-8f02-d9378394c681"
      }
     }
    },
    "a79d3abb-22ea-4af5-b7b8-26a84765ea92": {
     "id": "a79d3abb-22ea-4af5-b7b8-26a84765ea92",
     "prev": "99acd33c-8c1d-41b5-baf0-733ef75801b6",
     "regions": {
      "58e5bbd3-bb4b-4f12-b383-528d85d0e29b": {
       "attrs": {
        "height": 0.8,
        "width": 0.8,
        "x": 0.1,
        "y": 0.1
       },
       "content": {
        "cell": "67d1dc5e-cf0c-4ad3-9f96-ff57a5a7c6b9",
        "part": "whole"
       },
       "id": "58e5bbd3-bb4b-4f12-b383-528d85d0e29b"
      }
     }
    },
    "ac15a605-f834-44c5-85a9-2b8e9fb210a8": {
     "id": "ac15a605-f834-44c5-85a9-2b8e9fb210a8",
     "prev": "b94e9480-e822-4b34-83e8-0578840a4a87",
     "regions": {
      "05869410-1513-4edd-b8a0-3f80eaf5102c": {
       "attrs": {
        "height": 0.8,
        "width": 0.8,
        "x": 0.1,
        "y": 0.1
       },
       "content": {
        "cell": "e9fe3223-01fa-490e-8d67-65f6a3b0cbef",
        "part": "whole"
       },
       "id": "05869410-1513-4edd-b8a0-3f80eaf5102c"
      }
     }
    },
    "af72e95c-31ac-4dfb-8e78-7fcba41fd75d": {
     "id": "af72e95c-31ac-4dfb-8e78-7fcba41fd75d",
     "prev": "4ab74651-75f6-4bfd-8702-f5505d9257e5",
     "regions": {
      "119fcaaf-95fb-4553-8901-01cd7dac4d25": {
       "attrs": {
        "height": 0.8,
        "width": 0.8,
        "x": 0.1,
        "y": 0.1
       },
       "content": {
        "cell": "1f3d036e-ff9a-4d0b-a2f2-f31ce6e2fd8c",
        "part": "whole"
       },
       "id": "119fcaaf-95fb-4553-8901-01cd7dac4d25"
      }
     }
    },
    "b40783ea-b2b7-45c4-a356-ad4e312c2535": {
     "id": "b40783ea-b2b7-45c4-a356-ad4e312c2535",
     "prev": "698dbaf4-13b2-4580-81e7-6a5c6434c682",
     "regions": {
      "2c880251-9056-46a4-97e5-db1f1a43f682": {
       "attrs": {
        "height": 0.8,
        "width": 0.8,
        "x": 0.1,
        "y": 0.1
       },
       "content": {
        "cell": "489c6027-d36e-4c35-a84d-63d28844ad15",
        "part": "whole"
       },
       "id": "2c880251-9056-46a4-97e5-db1f1a43f682"
      }
     }
    },
    "b648f3ce-b7b2-4af0-ae16-70c2b5bc9382": {
     "id": "b648f3ce-b7b2-4af0-ae16-70c2b5bc9382",
     "prev": "64345210-059f-4273-aefc-75e5aad3a424",
     "regions": {
      "5b1b6679-3e99-42bc-b541-c1eb9184c7cb": {
       "attrs": {
        "height": 0.8,
        "width": 0.8,
        "x": 0.1,
        "y": 0.1
       },
       "content": {
        "cell": "0af2b3bd-1887-466e-bcfe-31edcc4da4c9",
        "part": "whole"
       },
       "id": "5b1b6679-3e99-42bc-b541-c1eb9184c7cb"
      }
     }
    },
    "b94e9480-e822-4b34-83e8-0578840a4a87": {
     "id": "b94e9480-e822-4b34-83e8-0578840a4a87",
     "prev": "ca56ea7c-258c-44a7-a7e0-740a8b328d14",
     "regions": {
      "cb26e9a0-6ad7-425d-931a-9974f611d1c0": {
       "attrs": {
        "height": 0.8,
        "width": 0.8,
        "x": 0.1,
        "y": 0.1
       },
       "content": {
        "cell": "f3572fce-3270-4b16-83cd-680dbdc01400",
        "part": "whole"
       },
       "id": "cb26e9a0-6ad7-425d-931a-9974f611d1c0"
      }
     }
    },
    "bfa83b6c-802b-4d81-9e0f-5ce457460328": {
     "id": "bfa83b6c-802b-4d81-9e0f-5ce457460328",
     "prev": "3c63a4e3-5fd8-4cdb-bd53-4b6fab26df57",
     "regions": {
      "bf6d4972-6ea3-49b0-996c-3164209c06ae": {
       "attrs": {
        "height": 0.8,
        "width": 0.8,
        "x": 0.1,
        "y": 0.1
       },
       "content": {
        "cell": "6edf761e-73b3-444e-926b-399ae3edc429",
        "part": "whole"
       },
       "id": "bf6d4972-6ea3-49b0-996c-3164209c06ae"
      }
     }
    },
    "c0468179-4e8b-4416-91e8-49665398dedf": {
     "id": "c0468179-4e8b-4416-91e8-49665398dedf",
     "prev": "280a9c60-7f09-4174-87c8-9aa03583edd2",
     "regions": {
      "fcb8b768-0131-463a-9e5e-c2e90095deb9": {
       "attrs": {
        "height": 0.8,
        "width": 0.8,
        "x": 0.1,
        "y": 0.1
       },
       "content": {
        "cell": "06b2367c-8b07-40f8-b27b-973d8b9c94e1",
        "part": "whole"
       },
       "id": "fcb8b768-0131-463a-9e5e-c2e90095deb9"
      }
     }
    },
    "c72292e5-e08a-4fc5-bf24-ffd5e1380690": {
     "id": "c72292e5-e08a-4fc5-bf24-ffd5e1380690",
     "prev": "ee79717b-cc18-434c-989e-9acfd52dd221",
     "regions": {
      "1c8ef377-8a90-4809-aa5c-7f03b6251503": {
       "attrs": {
        "height": 0.8,
        "width": 0.8,
        "x": 0.1,
        "y": 0.1
       },
       "content": {
        "cell": "b12fedba-c161-4ac1-888a-71b899e0ff20",
        "part": "whole"
       },
       "id": "1c8ef377-8a90-4809-aa5c-7f03b6251503"
      }
     }
    },
    "c7d312a9-544f-4c0e-970d-1a2855f45159": {
     "id": "c7d312a9-544f-4c0e-970d-1a2855f45159",
     "prev": "e7ea00d0-a892-4672-ad6b-43ed0c65f209",
     "regions": {
      "fb936b3e-6efe-441e-a004-a01a05d0f066": {
       "attrs": {
        "height": 0.8,
        "width": 0.8,
        "x": 0.1,
        "y": 0.1
       },
       "content": {
        "cell": "213e1ac0-b8fd-4464-b292-194185754852",
        "part": "whole"
       },
       "id": "fb936b3e-6efe-441e-a004-a01a05d0f066"
      }
     }
    },
    "c9935b9c-b9a6-4599-96a1-7e21244d7d2e": {
     "id": "c9935b9c-b9a6-4599-96a1-7e21244d7d2e",
     "prev": "5027a2d0-73a4-4143-a431-88caf9915241",
     "regions": {
      "d9633c8f-6d3f-4321-abf0-e66fe24d5e52": {
       "attrs": {
        "height": 0.8,
        "width": 0.8,
        "x": 0.1,
        "y": 0.1
       },
       "content": {
        "cell": "65ee88e7-b608-4aba-b622-506c6a855756",
        "part": "whole"
       },
       "id": "d9633c8f-6d3f-4321-abf0-e66fe24d5e52"
      }
     }
    },
    "ca56ea7c-258c-44a7-a7e0-740a8b328d14": {
     "id": "ca56ea7c-258c-44a7-a7e0-740a8b328d14",
     "prev": "655f1d76-228e-4ad3-9e78-2ed99fb69e02",
     "regions": {
      "a37c6752-9976-4848-91af-ac298c4ad499": {
       "attrs": {
        "height": 0.8,
        "width": 0.8,
        "x": 0.1,
        "y": 0.1
       },
       "content": {
        "cell": "403e3b80-54e8-4431-bf7f-d97e42919561",
        "part": "whole"
       },
       "id": "a37c6752-9976-4848-91af-ac298c4ad499"
      }
     }
    },
    "cc08370c-9b8e-447e-8c1a-5c7ae7639e41": {
     "id": "cc08370c-9b8e-447e-8c1a-5c7ae7639e41",
     "prev": "ff87e1e8-9b13-4c56-b522-eb96ce7374f6",
     "regions": {
      "b7a293eb-73b9-457a-8a3a-e8c9e9f30e75": {
       "attrs": {
        "height": 1,
        "width": 1,
        "x": 0,
        "y": 0
       },
       "id": "b7a293eb-73b9-457a-8a3a-e8c9e9f30e75"
      }
     }
    },
    "cef6f3a8-ee4c-43a8-a6ec-a5e6d5b57b5a": {
     "id": "cef6f3a8-ee4c-43a8-a6ec-a5e6d5b57b5a",
     "prev": "9764234d-4c08-42af-8c10-cde89b8295fc",
     "regions": {
      "e0058bef-8625-416d-8f53-ae8aab2bab69": {
       "attrs": {
        "height": 0.8,
        "width": 0.8,
        "x": 0.1,
        "y": 0.1
       },
       "content": {
        "cell": "b24c4057-cbc7-46e9-bda2-d6f017899465",
        "part": "whole"
       },
       "id": "e0058bef-8625-416d-8f53-ae8aab2bab69"
      }
     }
    },
    "d38f66a3-ec45-48e9-8936-5366432842dc": {
     "id": "d38f66a3-ec45-48e9-8936-5366432842dc",
     "prev": "04c233bd-ae9b-4809-b314-f490c39b23e1",
     "regions": {
      "178d337b-893c-4a5a-b466-2d6d0964a2c3": {
       "attrs": {
        "height": 0.8,
        "width": 0.8,
        "x": 0.1,
        "y": 0.1
       },
       "content": {
        "cell": "e652151e-0ded-48f6-9e52-4f1d2f0d98c9",
        "part": "whole"
       },
       "id": "178d337b-893c-4a5a-b466-2d6d0964a2c3"
      }
     }
    },
    "d90ee65d-2fe7-44c7-99d8-0a9cde789005": {
     "id": "d90ee65d-2fe7-44c7-99d8-0a9cde789005",
     "prev": "0c8c0359-9cad-46a8-8530-f445e79a172d",
     "regions": {
      "11028005-14f0-45e8-9ba8-0452ceb869e3": {
       "attrs": {
        "height": 0.8,
        "width": 0.8,
        "x": 0.1,
        "y": 0.1
       },
       "content": {
        "cell": "ded85b71-7b7a-4ebd-a9f5-2dbf8aad0e2e",
        "part": "whole"
       },
       "id": "11028005-14f0-45e8-9ba8-0452ceb869e3"
      }
     }
    },
    "dc078794-4560-4ee6-a428-3dfecd784b88": {
     "id": "dc078794-4560-4ee6-a428-3dfecd784b88",
     "prev": "56a05dbd-e27f-47b5-b062-bc05a65e6c1f",
     "regions": {
      "464963e9-78cb-4964-a735-ff2b75aa3f7e": {
       "attrs": {
        "height": 0.8,
        "width": 0.8,
        "x": 0.1,
        "y": 0.1
       },
       "content": {
        "cell": "07e6e68d-8a66-41f6-8067-b1c558f964b5",
        "part": "whole"
       },
       "id": "464963e9-78cb-4964-a735-ff2b75aa3f7e"
      }
     }
    },
    "dd9fdd7f-4926-4b93-b7f3-b9c2f2a28f34": {
     "id": "dd9fdd7f-4926-4b93-b7f3-b9c2f2a28f34",
     "prev": "6d1b30f2-0e84-496a-a78b-6a45f8b78217",
     "regions": {
      "af3a899c-c4ad-43f6-a3ea-fc565d936d95": {
       "attrs": {
        "height": 0.8,
        "width": 0.8,
        "x": 0.1,
        "y": 0.1
       },
       "content": {
        "cell": "82e5068f-e293-45ff-ad01-0ec1ee1ee77d",
        "part": "whole"
       },
       "id": "af3a899c-c4ad-43f6-a3ea-fc565d936d95"
      }
     }
    },
    "e02e533d-2bc3-46b2-be83-b8a92bc913e4": {
     "id": "e02e533d-2bc3-46b2-be83-b8a92bc913e4",
     "prev": "33ac8d78-e856-4bbc-b732-f34264f88c73",
     "regions": {
      "4d471308-8be2-4f34-be04-d30750922160": {
       "attrs": {
        "height": 0.8,
        "width": 0.8,
        "x": 0.1,
        "y": 0.1
       },
       "content": {
        "cell": "358f222f-7144-4721-9f32-2d6e58e692c3",
        "part": "whole"
       },
       "id": "4d471308-8be2-4f34-be04-d30750922160"
      }
     }
    },
    "e7ea00d0-a892-4672-ad6b-43ed0c65f209": {
     "id": "e7ea00d0-a892-4672-ad6b-43ed0c65f209",
     "prev": "cc08370c-9b8e-447e-8c1a-5c7ae7639e41",
     "regions": {
      "2da48663-990c-4f6e-b478-a753b3310b4b": {
       "attrs": {
        "height": 0.8,
        "width": 0.8,
        "x": 0.1,
        "y": 0.1
       },
       "content": {
        "cell": "02dd0b91-b749-46fe-b895-3dbf1fd455ad",
        "part": "whole"
       },
       "id": "2da48663-990c-4f6e-b478-a753b3310b4b"
      }
     }
    },
    "ea6ff5a8-75bb-409b-9817-2fe62e701fd1": {
     "id": "ea6ff5a8-75bb-409b-9817-2fe62e701fd1",
     "prev": "a4ca1b54-7664-4eed-a593-428358f15347",
     "regions": {
      "26d8f0d8-2f45-4627-b12f-401f76e139cf": {
       "attrs": {
        "height": 0.8,
        "width": 0.8,
        "x": 0.1,
        "y": 0.1
       },
       "content": {
        "cell": "d8643d25-14c7-43ff-a917-453a18d6668d",
        "part": "whole"
       },
       "id": "26d8f0d8-2f45-4627-b12f-401f76e139cf"
      }
     }
    },
    "ee79717b-cc18-434c-989e-9acfd52dd221": {
     "id": "ee79717b-cc18-434c-989e-9acfd52dd221",
     "prev": "38de8e58-9007-4107-9ec4-80fe81da2536",
     "regions": {
      "1161252e-0ea1-4a70-b104-6b37e1dad293": {
       "attrs": {
        "height": 0.8,
        "width": 0.8,
        "x": 0.1,
        "y": 0.1
       },
       "content": {
        "cell": "274918f0-2320-4bbc-a567-95a7db4a7c76",
        "part": "whole"
       },
       "id": "1161252e-0ea1-4a70-b104-6b37e1dad293"
      }
     }
    },
    "f12cdbe6-2dc3-477b-94b2-f6bd19203d2b": {
     "id": "f12cdbe6-2dc3-477b-94b2-f6bd19203d2b",
     "prev": "1b6edd1a-8fbc-45b5-9e40-142142dec55c",
     "regions": {
      "454d67be-3750-4e8d-ba1c-7060f803a101": {
       "attrs": {
        "height": 0.8,
        "width": 0.8,
        "x": 0.1,
        "y": 0.1
       },
       "content": {
        "cell": "43e700fb-5c0c-4003-ae7a-6561f82adcbf",
        "part": "whole"
       },
       "id": "454d67be-3750-4e8d-ba1c-7060f803a101"
      }
     }
    },
    "f25ef9b9-a699-4184-adc6-a8bead5e811f": {
     "id": "f25ef9b9-a699-4184-adc6-a8bead5e811f",
     "prev": "2b0d2e12-da91-4fd5-90fd-f29e6ef23482",
     "regions": {
      "d24bb432-448d-4cd5-898f-6e09def103b4": {
       "attrs": {
        "height": 0.8,
        "width": 0.8,
        "x": 0.1,
        "y": 0.1
       },
       "content": {
        "cell": "f524cc17-8822-4bc2-9488-0f529f87826b",
        "part": "whole"
       },
       "id": "d24bb432-448d-4cd5-898f-6e09def103b4"
      }
     }
    },
    "ff87e1e8-9b13-4c56-b522-eb96ce7374f6": {
     "id": "ff87e1e8-9b13-4c56-b522-eb96ce7374f6",
     "prev": "f12cdbe6-2dc3-477b-94b2-f6bd19203d2b",
     "regions": {
      "75b2a0c4-7e91-4187-b834-2330869e0511": {
       "attrs": {
        "height": 0.8,
        "width": 0.8,
        "x": 0.1,
        "y": 0.1
       },
       "content": {
        "cell": "c9da4407-b644-4480-9749-e812099d3739",
        "part": "whole"
       },
       "id": "75b2a0c4-7e91-4187-b834-2330869e0511"
      }
     }
    }
   },
   "themes": {
    "default": "c386f97a-0943-4552-afa5-19a74ef4212f",
    "theme": {
     "104667f1-5861-4af9-8c83-90d97fcc4e60": {
      "backgrounds": {
       "dc7afa04-bf90-40b1-82a5-726e3cff5267": {
        "background-color": "31af15d2-7e15-44c5-ab5e-e04b16a89eff",
        "id": "dc7afa04-bf90-40b1-82a5-726e3cff5267"
       }
      },
      "id": "104667f1-5861-4af9-8c83-90d97fcc4e60",
      "palette": {
       "19cc588f-0593-49c9-9f4b-e4d7cc113b1c": {
        "id": "19cc588f-0593-49c9-9f4b-e4d7cc113b1c",
        "rgb": [
         252,
         252,
         252
        ]
       },
       "31af15d2-7e15-44c5-ab5e-e04b16a89eff": {
        "id": "31af15d2-7e15-44c5-ab5e-e04b16a89eff",
        "rgb": [
         68,
         68,
         68
        ]
       },
       "50f92c45-a630-455b-aec3-788680ec7410": {
        "id": "50f92c45-a630-455b-aec3-788680ec7410",
        "rgb": [
         197,
         226,
         245
        ]
       },
       "c5cc3653-2ee1-402a-aba2-7caae1da4f6c": {
        "id": "c5cc3653-2ee1-402a-aba2-7caae1da4f6c",
        "rgb": [
         43,
         126,
         184
        ]
       },
       "efa7f048-9acb-414c-8b04-a26811511a21": {
        "id": "efa7f048-9acb-414c-8b04-a26811511a21",
        "rgb": [
         25.118061674008803,
         73.60176211453744,
         107.4819383259912
        ]
       }
      },
      "rules": {
       "a": {
        "color": "19cc588f-0593-49c9-9f4b-e4d7cc113b1c"
       },
       "blockquote": {
        "color": "50f92c45-a630-455b-aec3-788680ec7410",
        "font-size": 3
       },
       "code": {
        "font-family": "Anonymous Pro"
       },
       "h1": {
        "color": "19cc588f-0593-49c9-9f4b-e4d7cc113b1c",
        "font-family": "Merriweather",
        "font-size": 8
       },
       "h2": {
        "color": "19cc588f-0593-49c9-9f4b-e4d7cc113b1c",
        "font-family": "Merriweather",
        "font-size": 6
       },
       "h3": {
        "color": "50f92c45-a630-455b-aec3-788680ec7410",
        "font-family": "Lato",
        "font-size": 5.5
       },
       "h4": {
        "color": "c5cc3653-2ee1-402a-aba2-7caae1da4f6c",
        "font-family": "Lato",
        "font-size": 5
       },
       "h5": {
        "font-family": "Lato"
       },
       "h6": {
        "font-family": "Lato"
       },
       "h7": {
        "font-family": "Lato"
       },
       "li": {
        "color": "50f92c45-a630-455b-aec3-788680ec7410",
        "font-size": 3.25
       },
       "pre": {
        "font-family": "Anonymous Pro",
        "font-size": 4
       }
      },
      "text-base": {
       "color": "19cc588f-0593-49c9-9f4b-e4d7cc113b1c",
       "font-family": "Lato",
       "font-size": 4
      }
     },
     "26ed4f72-6fe7-4802-9e08-7184426bbcbb": {
      "backgrounds": {
       "backgroundColor": {
        "background-color": "backgroundColor",
        "id": "backgroundColor"
       }
      },
      "id": "26ed4f72-6fe7-4802-9e08-7184426bbcbb",
      "palette": {
       "backgroundColor": {
        "id": "backgroundColor",
        "rgb": [
         34,
         34,
         34
        ]
       },
       "headingColor": {
        "id": "headingColor",
        "rgb": [
         256,
         256,
         256
        ]
       },
       "linkColor": {
        "id": "linkColor",
        "rgb": [
         66,
         175,
         250
        ]
       },
       "mainColor": {
        "id": "mainColor",
        "rgb": [
         256,
         256,
         256
        ]
       }
      },
      "rules": {
       "a": {
        "color": "linkColor"
       },
       "h1": {
        "color": "headingColor",
        "font-family": "Source Sans Pro",
        "font-size": 5.25
       },
       "h2": {
        "color": "headingColor",
        "font-family": "Source Sans Pro",
        "font-size": 4
       },
       "h3": {
        "color": "headingColor",
        "font-family": "Source Sans Pro",
        "font-size": 3.5
       },
       "h4": {
        "color": "headingColor",
        "font-family": "Source Sans Pro",
        "font-size": 3
       },
       "h5": {
        "color": "headingColor",
        "font-family": "Source Sans Pro"
       },
       "h6": {
        "color": "headingColor",
        "font-family": "Source Sans Pro"
       },
       "h7": {
        "color": "headingColor",
        "font-family": "Source Sans Pro"
       },
       "li": {
        "color": "mainColor",
        "font-family": "Source Sans Pro",
        "font-size": 6
       },
       "p": {
        "color": "mainColor",
        "font-family": "Source Sans Pro",
        "font-size": 6
       }
      },
      "text-base": {
       "color": "mainColor",
       "font-family": "Source Sans Pro",
       "font-size": 6
      }
     },
     "52bd6427-b8b4-4cd2-b428-7e4e8d7cddf3": {
      "backgrounds": {
       "dc7afa04-bf90-40b1-82a5-726e3cff5267": {
        "background-color": "31af15d2-7e15-44c5-ab5e-e04b16a89eff",
        "id": "dc7afa04-bf90-40b1-82a5-726e3cff5267"
       }
      },
      "id": "52bd6427-b8b4-4cd2-b428-7e4e8d7cddf3",
      "palette": {
       "19cc588f-0593-49c9-9f4b-e4d7cc113b1c": {
        "id": "19cc588f-0593-49c9-9f4b-e4d7cc113b1c",
        "rgb": [
         252,
         252,
         252
        ]
       },
       "31af15d2-7e15-44c5-ab5e-e04b16a89eff": {
        "id": "31af15d2-7e15-44c5-ab5e-e04b16a89eff",
        "rgb": [
         68,
         68,
         68
        ]
       },
       "50f92c45-a630-455b-aec3-788680ec7410": {
        "id": "50f92c45-a630-455b-aec3-788680ec7410",
        "rgb": [
         197,
         226,
         245
        ]
       },
       "c5cc3653-2ee1-402a-aba2-7caae1da4f6c": {
        "id": "c5cc3653-2ee1-402a-aba2-7caae1da4f6c",
        "rgb": [
         43,
         126,
         184
        ]
       },
       "efa7f048-9acb-414c-8b04-a26811511a21": {
        "id": "efa7f048-9acb-414c-8b04-a26811511a21",
        "rgb": [
         25.118061674008803,
         73.60176211453744,
         107.4819383259912
        ]
       }
      },
      "rules": {
       "a": {
        "color": "19cc588f-0593-49c9-9f4b-e4d7cc113b1c"
       },
       "blockquote": {
        "color": "50f92c45-a630-455b-aec3-788680ec7410",
        "font-size": 3
       },
       "code": {
        "font-family": "Anonymous Pro"
       },
       "h1": {
        "color": "19cc588f-0593-49c9-9f4b-e4d7cc113b1c",
        "font-family": "Merriweather",
        "font-size": 8
       },
       "h2": {
        "color": "19cc588f-0593-49c9-9f4b-e4d7cc113b1c",
        "font-family": "Merriweather",
        "font-size": 6
       },
       "h3": {
        "color": "50f92c45-a630-455b-aec3-788680ec7410",
        "font-family": "Lato",
        "font-size": 5.5
       },
       "h4": {
        "color": "c5cc3653-2ee1-402a-aba2-7caae1da4f6c",
        "font-family": "Lato",
        "font-size": 5
       },
       "h5": {
        "font-family": "Lato"
       },
       "h6": {
        "font-family": "Lato"
       },
       "h7": {
        "font-family": "Lato"
       },
       "li": {
        "color": "50f92c45-a630-455b-aec3-788680ec7410",
        "font-size": 3.25
       },
       "pre": {
        "font-family": "Anonymous Pro",
        "font-size": 4
       }
      },
      "text-base": {
       "color": "19cc588f-0593-49c9-9f4b-e4d7cc113b1c",
       "font-family": "Lato",
       "font-size": 4
      }
     },
     "5f773a76-7013-40e2-afce-3c2337847771": {
      "id": "5f773a76-7013-40e2-afce-3c2337847771",
      "palette": {
       "19cc588f-0593-49c9-9f4b-e4d7cc113b1c": {
        "id": "19cc588f-0593-49c9-9f4b-e4d7cc113b1c",
        "rgb": [
         252,
         252,
         252
        ]
       },
       "31af15d2-7e15-44c5-ab5e-e04b16a89eff": {
        "id": "31af15d2-7e15-44c5-ab5e-e04b16a89eff",
        "rgb": [
         68,
         68,
         68
        ]
       },
       "50f92c45-a630-455b-aec3-788680ec7410": {
        "id": "50f92c45-a630-455b-aec3-788680ec7410",
        "rgb": [
         155,
         177,
         192
        ]
       },
       "c5cc3653-2ee1-402a-aba2-7caae1da4f6c": {
        "id": "c5cc3653-2ee1-402a-aba2-7caae1da4f6c",
        "rgb": [
         43,
         126,
         184
        ]
       },
       "efa7f048-9acb-414c-8b04-a26811511a21": {
        "id": "efa7f048-9acb-414c-8b04-a26811511a21",
        "rgb": [
         25.118061674008803,
         73.60176211453744,
         107.4819383259912
        ]
       }
      },
      "rules": {
       "blockquote": {
        "color": "50f92c45-a630-455b-aec3-788680ec7410"
       },
       "code": {
        "font-family": "Anonymous Pro"
       },
       "h1": {
        "color": "c5cc3653-2ee1-402a-aba2-7caae1da4f6c",
        "font-family": "Lato",
        "font-size": 8
       },
       "h2": {
        "color": "c5cc3653-2ee1-402a-aba2-7caae1da4f6c",
        "font-family": "Lato",
        "font-size": 6
       },
       "h3": {
        "color": "50f92c45-a630-455b-aec3-788680ec7410",
        "font-family": "Lato",
        "font-size": 5.5
       },
       "h4": {
        "color": "c5cc3653-2ee1-402a-aba2-7caae1da4f6c",
        "font-family": "Lato",
        "font-size": 5
       },
       "h5": {
        "font-family": "Lato"
       },
       "h6": {
        "font-family": "Lato"
       },
       "h7": {
        "font-family": "Lato"
       },
       "pre": {
        "font-family": "Anonymous Pro",
        "font-size": 4
       }
      },
      "text-base": {
       "font-family": "Merriweather",
       "font-size": 4
      }
     },
     "c386f97a-0943-4552-afa5-19a74ef4212f": {
      "id": "c386f97a-0943-4552-afa5-19a74ef4212f",
      "palette": {
       "19cc588f-0593-49c9-9f4b-e4d7cc113b1c": {
        "id": "19cc588f-0593-49c9-9f4b-e4d7cc113b1c",
        "rgb": [
         252,
         252,
         252
        ]
       },
       "31af15d2-7e15-44c5-ab5e-e04b16a89eff": {
        "id": "31af15d2-7e15-44c5-ab5e-e04b16a89eff",
        "rgb": [
         68,
         68,
         68
        ]
       },
       "50f92c45-a630-455b-aec3-788680ec7410": {
        "id": "50f92c45-a630-455b-aec3-788680ec7410",
        "rgb": [
         155,
         177,
         192
        ]
       },
       "c5cc3653-2ee1-402a-aba2-7caae1da4f6c": {
        "id": "c5cc3653-2ee1-402a-aba2-7caae1da4f6c",
        "rgb": [
         43,
         126,
         184
        ]
       },
       "efa7f048-9acb-414c-8b04-a26811511a21": {
        "id": "efa7f048-9acb-414c-8b04-a26811511a21",
        "rgb": [
         25.118061674008803,
         73.60176211453744,
         107.4819383259912
        ]
       }
      },
      "rules": {
       "blockquote": {
        "color": "50f92c45-a630-455b-aec3-788680ec7410"
       },
       "code": {
        "font-family": "Anonymous Pro"
       },
       "h1": {
        "color": "c5cc3653-2ee1-402a-aba2-7caae1da4f6c",
        "font-family": "Lato",
        "font-size": 8
       },
       "h2": {
        "color": "c5cc3653-2ee1-402a-aba2-7caae1da4f6c",
        "font-family": "Lato",
        "font-size": 6
       },
       "h3": {
        "color": "50f92c45-a630-455b-aec3-788680ec7410",
        "font-family": "Lato",
        "font-size": 5.5
       },
       "h4": {
        "color": "c5cc3653-2ee1-402a-aba2-7caae1da4f6c",
        "font-family": "Lato",
        "font-size": 5
       },
       "h5": {
        "font-family": "Lato"
       },
       "h6": {
        "font-family": "Lato"
       },
       "h7": {
        "font-family": "Lato"
       },
       "pre": {
        "font-family": "Anonymous Pro",
        "font-size": 4
       }
      },
      "text-base": {
       "font-family": "Merriweather",
       "font-size": 4
      }
     },
     "d84a96fb-f2c3-4034-9a47-af5f57adc2a2": {
      "backgrounds": {
       "dc7afa04-bf90-40b1-82a5-726e3cff5267": {
        "background-color": "31af15d2-7e15-44c5-ab5e-e04b16a89eff",
        "id": "dc7afa04-bf90-40b1-82a5-726e3cff5267"
       }
      },
      "id": "d84a96fb-f2c3-4034-9a47-af5f57adc2a2",
      "palette": {
       "19cc588f-0593-49c9-9f4b-e4d7cc113b1c": {
        "id": "19cc588f-0593-49c9-9f4b-e4d7cc113b1c",
        "rgb": [
         252,
         252,
         252
        ]
       },
       "31af15d2-7e15-44c5-ab5e-e04b16a89eff": {
        "id": "31af15d2-7e15-44c5-ab5e-e04b16a89eff",
        "rgb": [
         68,
         68,
         68
        ]
       },
       "50f92c45-a630-455b-aec3-788680ec7410": {
        "id": "50f92c45-a630-455b-aec3-788680ec7410",
        "rgb": [
         197,
         226,
         245
        ]
       },
       "c5cc3653-2ee1-402a-aba2-7caae1da4f6c": {
        "id": "c5cc3653-2ee1-402a-aba2-7caae1da4f6c",
        "rgb": [
         43,
         126,
         184
        ]
       },
       "efa7f048-9acb-414c-8b04-a26811511a21": {
        "id": "efa7f048-9acb-414c-8b04-a26811511a21",
        "rgb": [
         25.118061674008803,
         73.60176211453744,
         107.4819383259912
        ]
       }
      },
      "rules": {
       "a": {
        "color": "19cc588f-0593-49c9-9f4b-e4d7cc113b1c"
       },
       "blockquote": {
        "color": "50f92c45-a630-455b-aec3-788680ec7410",
        "font-size": 3
       },
       "code": {
        "font-family": "Anonymous Pro"
       },
       "h1": {
        "color": "19cc588f-0593-49c9-9f4b-e4d7cc113b1c",
        "font-family": "Merriweather",
        "font-size": 8
       },
       "h2": {
        "color": "19cc588f-0593-49c9-9f4b-e4d7cc113b1c",
        "font-family": "Merriweather",
        "font-size": 6
       },
       "h3": {
        "color": "50f92c45-a630-455b-aec3-788680ec7410",
        "font-family": "Lato",
        "font-size": 5.5
       },
       "h4": {
        "color": "c5cc3653-2ee1-402a-aba2-7caae1da4f6c",
        "font-family": "Lato",
        "font-size": 5
       },
       "h5": {
        "font-family": "Lato"
       },
       "h6": {
        "font-family": "Lato"
       },
       "h7": {
        "font-family": "Lato"
       },
       "li": {
        "color": "50f92c45-a630-455b-aec3-788680ec7410",
        "font-size": 3.25
       },
       "pre": {
        "font-family": "Anonymous Pro",
        "font-size": 4
       }
      },
      "text-base": {
       "color": "19cc588f-0593-49c9-9f4b-e4d7cc113b1c",
       "font-family": "Lato",
       "font-size": 4
      }
     },
     "dd9b7bd8-9eb1-4943-95e6-63daa5b6791e": {
      "backgrounds": {
       "backgroundColor": {
        "background-color": "backgroundColor",
        "id": "backgroundColor"
       }
      },
      "id": "dd9b7bd8-9eb1-4943-95e6-63daa5b6791e",
      "palette": {
       "backgroundColor": {
        "id": "backgroundColor",
        "rgb": [
         240,
         241,
         235
        ]
       },
       "headingColor": {
        "id": "headingColor",
        "rgb": [
         56,
         61,
         61
        ]
       },
       "linkColor": {
        "id": "linkColor",
        "rgb": [
         81,
         72,
         61
        ]
       },
       "mainColor": {
        "id": "mainColor",
        "rgb": [
         0,
         0,
         0
        ]
       }
      },
      "rules": {
       "a": {
        "color": "linkColor"
       },
       "h1": {
        "color": "headingColor",
        "font-family": "EB Garamond",
        "font-size": 7
       },
       "h2": {
        "color": "headingColor",
        "font-family": "EB Garamond",
        "font-size": 5
       },
       "h3": {
        "color": "headingColor",
        "font-family": "EB Garamond",
        "font-size": 3.75
       },
       "h4": {
        "color": "headingColor",
        "font-family": "EB Garamond",
        "font-size": 3
       },
       "h5": {
        "color": "headingColor",
        "font-family": "EB Garamond"
       },
       "h6": {
        "color": "headingColor",
        "font-family": "EB Garamond"
       },
       "h7": {
        "color": "headingColor",
        "font-family": "EB Garamond"
       },
       "li": {
        "color": "mainColor",
        "font-family": "EB Garamond",
        "font-size": 5
       },
       "p": {
        "color": "mainColor",
        "font-family": "EB Garamond",
        "font-size": 5
       }
      },
      "text-base": {
       "color": "mainColor",
       "font-family": "EB Garamond",
       "font-size": 5
      }
     }
    }
   }
  },
  "toc": {
   "nav_menu": {
    "height": "11.818182px",
    "width": "1.818182px"
   },
   "number_sections": true,
   "sideBar": true,
   "skip_h1_title": false,
   "toc_cell": false,
   "toc_position": {},
   "toc_section_display": "block",
   "toc_window_display": false
  },
  "varInspector": {
   "cols": {
    "lenName": 16,
    "lenType": 16,
    "lenVar": 40
   },
   "kernels_config": {
    "python": {
     "delete_cmd_postfix": "",
     "delete_cmd_prefix": "del ",
     "library": "var_list.py",
     "varRefreshCmd": "print(var_dic_list())"
    },
    "r": {
     "delete_cmd_postfix": ") ",
     "delete_cmd_prefix": "rm(",
     "library": "var_list.r",
     "varRefreshCmd": "cat(var_dic_list()) "
    }
   },
   "types_to_exclude": [
    "module",
    "function",
    "builtin_function_or_method",
    "instance",
    "_Feature"
   ],
   "window_display": false
  }
 },
 "nbformat": 4,
 "nbformat_minor": 1
}
