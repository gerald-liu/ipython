{
 "cells": [
  {
   "cell_type": "code",
   "execution_count": 1,
   "metadata": {},
   "outputs": [],
   "source": [
    "import pandas as pd\n",
    "import statsmodels.formula.api as smf\n",
    "from sklearn.model_selection import train_test_split"
   ]
  },
  {
   "cell_type": "code",
   "execution_count": 2,
   "metadata": {},
   "outputs": [],
   "source": [
    "# Extract data for Q2, already done. The data is saved to:\n",
    "# https://raw.githubusercontent.com/Jeff-HOU/bpi.2018/master/data/data_q2.csv\n",
    "# ?token=AilEXVc0O5KlZviHuRGCT7A4Luhovbleks5a8BUjwA%3D%3D\n",
    "\n",
    "# df = pd.read_csv('F:\\\\Competitions\\\\BPI\\\\data\\\\data.csv')\n",
    "\n",
    "# # df_q2 = df[['case', 'event', 'year', 'startTime', 'applicant', 'department', 'doctype', 'subprocess', 'number_parcels',\n",
    "# #            'young farmer', 'small farmer', 'area', 'redistribution',\n",
    "# #            'penalty_B3', 'penalty_B4', 'penalty_B5', 'penalty_B5F', 'penalty_B6', 'penalty_B16', 'penalty_BGK', 'penalty_BGKV',\n",
    "# #            'penalty_C16', 'penalty_JLP3', 'penalty_V5',\n",
    "# #            'amount_applied0', 'amount_applied1', 'amount_applied2', 'amount_applied3',\n",
    "# #            'penalty_amount0', 'penalty_amount1', 'penalty_amount2', 'penalty_amount3',\n",
    "# #            'payment_actual0', 'payment_actual1', 'payment_actual2', 'payment_actual3', 'rejected']]\n",
    "\n",
    "# df_q2 = df[['case', 'department', 'number_parcels', 'young farmer', 'small farmer', 'area', 'redistribution',\n",
    "#            'penalty_B3', 'penalty_B4', 'penalty_B5', 'penalty_B5F', 'penalty_B6', 'penalty_B16', 'penalty_BGK', 'penalty_BGKV',\n",
    "#            'penalty_C16', 'penalty_JLP3', 'penalty_V5', 'rejected']]\n",
    "\n",
    "# df_q2 = df_q2.drop_duplicates(subset='case')\n",
    "# df_q2 = df_q2.fillna(0)\n",
    "# df_q2['severe'] = df_q2['penalty_B3'] | df_q2['penalty_B4'] | df_q2['penalty_B5'] | df_q2['penalty_B5F'] | df_q2['penalty_B6'] | df_q2['penalty_B16'] | df_q2['penalty_BGK'] | df_q2['penalty_BGKV'] | df_q2['penalty_C16'] | df_q2['penalty_JLP3'] | df_q2['penalty_V5']\n",
    "# df_q2.to_csv('F:\\\\Competitions\\\\BPI\\\\data\\\\data_q2.csv')\n",
    "\n",
    "# del df, df_q2\n",
    "# import gc\n",
    "# gc.collect()"
   ]
  },
  {
   "cell_type": "code",
   "execution_count": 3,
   "metadata": {},
   "outputs": [],
   "source": [
    "# The csv file is large, please download it first then read from local files\n",
    "# if you insist in reading online, read it from the link above\n",
    "\n",
    "df_q2 = pd.read_csv('F:\\\\Competitions\\\\BPI\\\\data\\\\data_q2.csv')\n",
    "\n",
    "df_q2_core = df_q2[['severe', 'department', 'number_parcels', 'young farmer', 'small farmer', 'area', 'redistribution']]"
   ]
  },
  {
   "cell_type": "code",
   "execution_count": 4,
   "metadata": {},
   "outputs": [],
   "source": [
    "bools = df_q2_core.select_dtypes(include='bool').columns.tolist()\n",
    "bool_to_int = df_q2_core.loc[:, bools].astype(int)\n",
    "cat_to_dummies = pd.get_dummies(df_q2_core['department'], prefix='dept').iloc[:, 1:]\n",
    "df_q2_core = df_q2_core.drop(columns=bools)\n",
    "df_q2_core = df_q2_core.drop(columns='department')\n",
    "df_q2_core = pd.concat([df_q2_core, bool_to_int, cat_to_dummies], axis=1)\n",
    "df_q2_core.columns = df_q2_core.columns.str.replace('\\s+', '_')"
   ]
  },
  {
   "cell_type": "code",
   "execution_count": 5,
   "metadata": {
    "scrolled": true
   },
   "outputs": [
    {
     "data": {
      "text/html": [
       "<div>\n",
       "<style scoped>\n",
       "    .dataframe tbody tr th:only-of-type {\n",
       "        vertical-align: middle;\n",
       "    }\n",
       "\n",
       "    .dataframe tbody tr th {\n",
       "        vertical-align: top;\n",
       "    }\n",
       "\n",
       "    .dataframe thead th {\n",
       "        text-align: right;\n",
       "    }\n",
       "</style>\n",
       "<table border=\"1\" class=\"dataframe\">\n",
       "  <thead>\n",
       "    <tr style=\"text-align: right;\">\n",
       "      <th></th>\n",
       "      <th>number_parcels</th>\n",
       "      <th>area</th>\n",
       "      <th>severe</th>\n",
       "      <th>young_farmer</th>\n",
       "      <th>small_farmer</th>\n",
       "      <th>redistribution</th>\n",
       "      <th>dept_6b</th>\n",
       "      <th>dept_d4</th>\n",
       "      <th>dept_e7</th>\n",
       "    </tr>\n",
       "  </thead>\n",
       "  <tbody>\n",
       "    <tr>\n",
       "      <th>0</th>\n",
       "      <td>3</td>\n",
       "      <td>2.6994</td>\n",
       "      <td>0</td>\n",
       "      <td>0</td>\n",
       "      <td>1</td>\n",
       "      <td>1</td>\n",
       "      <td>0</td>\n",
       "      <td>0</td>\n",
       "      <td>1</td>\n",
       "    </tr>\n",
       "    <tr>\n",
       "      <th>1</th>\n",
       "      <td>16</td>\n",
       "      <td>93.5478</td>\n",
       "      <td>0</td>\n",
       "      <td>0</td>\n",
       "      <td>0</td>\n",
       "      <td>1</td>\n",
       "      <td>0</td>\n",
       "      <td>1</td>\n",
       "      <td>0</td>\n",
       "    </tr>\n",
       "    <tr>\n",
       "      <th>2</th>\n",
       "      <td>11</td>\n",
       "      <td>19.4835</td>\n",
       "      <td>0</td>\n",
       "      <td>0</td>\n",
       "      <td>0</td>\n",
       "      <td>1</td>\n",
       "      <td>0</td>\n",
       "      <td>0</td>\n",
       "      <td>1</td>\n",
       "    </tr>\n",
       "    <tr>\n",
       "      <th>3</th>\n",
       "      <td>5</td>\n",
       "      <td>19.4835</td>\n",
       "      <td>0</td>\n",
       "      <td>0</td>\n",
       "      <td>0</td>\n",
       "      <td>1</td>\n",
       "      <td>0</td>\n",
       "      <td>0</td>\n",
       "      <td>0</td>\n",
       "    </tr>\n",
       "    <tr>\n",
       "      <th>4</th>\n",
       "      <td>20</td>\n",
       "      <td>133.6535</td>\n",
       "      <td>0</td>\n",
       "      <td>1</td>\n",
       "      <td>0</td>\n",
       "      <td>1</td>\n",
       "      <td>0</td>\n",
       "      <td>1</td>\n",
       "      <td>0</td>\n",
       "    </tr>\n",
       "  </tbody>\n",
       "</table>\n",
       "</div>"
      ],
      "text/plain": [
       "   number_parcels      area  severe  young_farmer  small_farmer  \\\n",
       "0               3    2.6994       0             0             1   \n",
       "1              16   93.5478       0             0             0   \n",
       "2              11   19.4835       0             0             0   \n",
       "3               5   19.4835       0             0             0   \n",
       "4              20  133.6535       0             1             0   \n",
       "\n",
       "   redistribution  dept_6b  dept_d4  dept_e7  \n",
       "0               1        0        0        1  \n",
       "1               1        0        1        0  \n",
       "2               1        0        0        1  \n",
       "3               1        0        0        0  \n",
       "4               1        0        1        0  "
      ]
     },
     "metadata": {},
     "output_type": "display_data"
    }
   ],
   "source": [
    "with pd.option_context('display.max_columns', None):\n",
    "    display(df_q2_core.head())\n",
    "#     display(df_q2_core[df_q2_core['severe'] == True][:5])"
   ]
  },
  {
   "cell_type": "code",
   "execution_count": 6,
   "metadata": {},
   "outputs": [],
   "source": [
    "X_0 = df_q2_core.columns.tolist()\n",
    "X_0.remove('severe')\n",
    "X = df_q2_core[X_0]\n",
    "y = df_q2_core['severe']"
   ]
  },
  {
   "cell_type": "code",
   "execution_count": 7,
   "metadata": {},
   "outputs": [
    {
     "data": {
      "application/javascript": [
       "IPython.OutputArea.prototype._should_scroll = function(lines) {return false;}"
      ],
      "text/plain": [
       "<IPython.core.display.Javascript object>"
      ]
     },
     "metadata": {},
     "output_type": "display_data"
    }
   ],
   "source": [
    "%%javascript\n",
    "IPython.OutputArea.prototype._should_scroll = function(lines) {return false;}"
   ]
  },
  {
   "cell_type": "code",
   "execution_count": 8,
   "metadata": {
    "scrolled": true
   },
   "outputs": [
    {
     "name": "stdout",
     "output_type": "stream",
     "text": [
      "The linear model including all trace attributes:\n",
      "                     coef       pvalues\n",
      "Intercept       0.080837  1.515878e-03\n",
      "number_parcels  0.000272  1.853132e-02\n",
      "area           -0.000063  1.138661e-02\n",
      "young_farmer    0.003554  3.580473e-01\n",
      "small_farmer    0.007075  1.654521e-01\n",
      "redistribution -0.052494  3.930843e-02\n",
      "dept_6b         0.016707  3.072006e-09\n",
      "dept_d4         0.020334  5.754790e-09\n",
      "dept_e7         0.003088  2.511203e-01\n",
      "The significant coefficients:\n",
      "                     coef       pvalues\n",
      "Intercept       0.080837  1.515878e-03\n",
      "number_parcels  0.000272  1.853132e-02\n",
      "area           -0.000063  1.138661e-02\n",
      "redistribution -0.052494  3.930843e-02\n",
      "dept_6b         0.016707  3.072006e-09\n",
      "dept_d4         0.020334  5.754790e-09\n",
      "\n",
      "The adjusted R-squared is 0.0017819388834050542\n",
      "\n",
      "Build a new linear model including only the significant coefficients from last model:\n",
      "                     coef       pvalues\n",
      "Intercept       0.083404  1.049068e-03\n",
      "number_parcels  0.000264  2.156277e-02\n",
      "area           -0.000063  1.094843e-02\n",
      "redistribution -0.052763  3.827334e-02\n",
      "dept_6b         0.015176  1.115760e-09\n",
      "dept_d4         0.018858  5.520653e-09\n",
      "\n",
      "The adjusted R-squared is 0.0017517716396147076\n",
      "It's worse than the last one\n"
     ]
    }
   ],
   "source": [
    "X_train, X_test, y_train, y_test = train_test_split(X, y)\n",
    "train = pd.concat([y_train, X_train], axis=1)\n",
    "lm_0 = smf.ols(formula='severe ~ ' + ' + '.join(X_0),\n",
    "               data=train).fit()\n",
    "lm_0.summary().tables[1]\n",
    "\n",
    "lm_0_summary = pd.DataFrame({'coef':lm_0.params, 'pvalues': lm_0.pvalues})\n",
    "lm_0_sig = lm_0_summary.where(lm_0.pvalues < 0.05).dropna()\n",
    "print('The linear model including all trace attributes:\\n', lm_0_summary)\n",
    "print('The significant coefficients:\\n', lm_0_sig)\n",
    "print('\\nThe adjusted R-squared is',lm_0.rsquared_adj)\n",
    "\n",
    "X_1 = [col for col in lm_0_sig.index.tolist() if col is not 'Intercept']\n",
    "lm_1 = smf.ols(formula='severe ~ ' + ' + '.join(X_1),\n",
    "               data=train).fit()\n",
    "lm_1_summary = pd.DataFrame({'coef':lm_1.params, 'pvalues': lm_1.pvalues})\n",
    "print('\\nBuild a new linear model including only the significant coefficients from last model:\\n', lm_1_summary)\n",
    "print('\\nThe adjusted R-squared is', lm_1.rsquared_adj)\n",
    "print(\"It's better than the last one.\" if abs(lm_1.rsquared_adj)>abs(lm_1.rsquared_adj) else \"It's worse than the last one\")"
   ]
  }
 ],
 "metadata": {
  "kernelspec": {
   "display_name": "Python 3",
   "language": "python",
   "name": "python3"
  },
  "language_info": {
   "codemirror_mode": {
    "name": "ipython",
    "version": 3
   },
   "file_extension": ".py",
   "mimetype": "text/x-python",
   "name": "python",
   "nbconvert_exporter": "python",
   "pygments_lexer": "ipython3",
   "version": "3.6.4"
  }
 },
 "nbformat": 4,
 "nbformat_minor": 2
}
