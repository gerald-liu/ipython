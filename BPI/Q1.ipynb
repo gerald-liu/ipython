{
 "cells": [
  {
   "cell_type": "code",
   "execution_count": 1,
   "metadata": {},
   "outputs": [],
   "source": [
    "import pandas as pd\n",
    "import numpy as np"
   ]
  },
  {
   "cell_type": "code",
   "execution_count": null,
   "metadata": {},
   "outputs": [],
   "source": [
    "df = pd.read_csv('../data/data.csv')\n",
    "np.set_printoptions(threshold=np.nan)"
   ]
  },
  {
   "cell_type": "code",
   "execution_count": 2,
   "metadata": {
    "collapsed": true
   },
   "outputs": [],
   "source": [
    "df_withlabel = df.copy()\n",
    "df_withlabel['timely'] = 1\n",
    "\n",
    "# type(df[(df.event=='begin payment') | (df.event=='finish payment') | (df.event=='abort payment')].groupby(['case']).groups)\n",
    "casesHavingBeginPayment = df[df.event=='begin payment'].case.unique().tolist()\n",
    "dftmp = df.groupby('case').first()\n",
    "dftmp = dftmp.drop(list(set(dftmp.index.values) - set(casesHavingBeginPayment)))\n",
    "# alternative for above 2 lines, but muuuuuuuuuuuuuuuuuch slower\n",
    "# dftmp = df[df.case.isin(casesHavingBeginPayment)]\n",
    "sy = pd.DatetimeIndex(dftmp.groupby('case').first().startTime).year.tolist()\n",
    "cy = pd.DatetimeIndex(df[df.event=='begin payment'].groupby('case').first().startTime).year.tolist()\n",
    "\n",
    "diffIdx = []\n",
    "for pos, val in enumerate(sy):\n",
    "    if val != cy[pos]:\n",
    "        diffIdx.append(pos)\n",
    "late_begin_payment_indexes = df[df.case.isin(dftmp.iloc[diffIdx].index.values)].index.values\n",
    "df_withlabel.loc[late_begin_payment_indexes, 'timely'] = 0\n",
    "late_begin_payment_indexes = None # delete useless variable\n",
    "sy = None\n",
    "cy = None"
   ]
  },
  {
   "cell_type": "code",
   "execution_count": 3,
   "metadata": {},
   "outputs": [
    {
     "name": "stdout",
     "output_type": "stream",
     "text": [
      "There are 88 cases having no 'finish payment' event\n"
     ]
    }
   ],
   "source": [
    "no_finish_payment_list = list(set(df.case) - set(df[df.event=='finish payment'].case.unique().tolist()))\n",
    "print('There are', len(no_finish_payment_list), 'cases having no \\'finish payment\\' event')\n",
    "no_finish_payment_indexes = df[df.case.isin(no_finish_payment_list)].index.values\n",
    "df_withlabel.loc[no_finish_payment_indexes, 'timely'] = 0"
   ]
  },
  {
   "cell_type": "code",
   "execution_count": 4,
   "metadata": {
    "collapsed": true
   },
   "outputs": [],
   "source": [
    "dftmp = df.iloc[list(set(df.index.values.tolist()) - set(no_finish_payment_indexes.tolist()))]\n",
    "by = pd.DatetimeIndex(dftmp[dftmp.event=='begin payment'].groupby('case').first().startTime).year.tolist()\n",
    "fy = pd.DatetimeIndex(df[df.event=='finish payment'].groupby('case').first().startTime).year.tolist()"
   ]
  },
  {
   "cell_type": "code",
   "execution_count": 5,
   "metadata": {},
   "outputs": [
    {
     "name": "stdout",
     "output_type": "stream",
     "text": [
      "There are 43557 cases having: 这个 case 第一个 event 所记录的那年出现 begin payment 但是当年没有 finish payment\n"
     ]
    }
   ],
   "source": [
    "diffIdx = []\n",
    "for pos, val in enumerate(by):\n",
    "#     print(val, fy[pos])\n",
    "    if val != fy[pos]:\n",
    "        diffIdx.append(pos)\n",
    "print('There are', len(diffIdx), 'cases having: 这个 case 第一个 event 所记录的那年出现 begin payment 但是当年没有 finish payment')"
   ]
  },
  {
   "cell_type": "code",
   "execution_count": 6,
   "metadata": {
    "collapsed": true
   },
   "outputs": [],
   "source": [
    "df_withlabel.loc[(~np.isnan(df_withlabel.payment_actual1)) | (~np.isnan(df_withlabel.payment_actual2)) | (~np.isnan(df_withlabel.payment_actual3)), 'timely'] = 0"
   ]
  },
  {
   "cell_type": "code",
   "execution_count": 7,
   "metadata": {
    "collapsed": true
   },
   "outputs": [],
   "source": [
    "case = df_withlabel.drop(columns=['subprocess', 'org:resource', 'event_identity:id', 'eventid', 'docid_uuid', 'docid', 'doctype', 'success', 'activity', 'note', 'startTime', 'completeTime', 'event', 'basic payment', 'program-id', 'greening', 'identity:id', 'application', 'applicant']+[i+str(j) for i in ['amount_applied','payment_actual', 'penalty_amount'] for j in [1,2,3]]).drop_duplicates().fillna(0).set_index(['case'])\n",
    "dpt_to_numerical = dict((dpt, i) for i, dpt in enumerate(case.department.unique()))\n",
    "case.department = case.department.map(dpt_to_numerical)"
   ]
  },
  {
   "cell_type": "code",
   "execution_count": 8,
   "metadata": {},
   "outputs": [
    {
     "data": {
      "text/plain": [
       "(43809, 47)"
      ]
     },
     "execution_count": 8,
     "metadata": {},
     "output_type": "execute_result"
    }
   ],
   "source": [
    "case.shape"
   ]
  },
  {
   "cell_type": "code",
   "execution_count": 9,
   "metadata": {
    "scrolled": false
   },
   "outputs": [
    {
     "name": "stdout",
     "output_type": "stream",
     "text": [
      "One data sample:\n"
     ]
    },
    {
     "data": {
      "text/plain": [
       "array([False, False, False, False, False, False, False, False, 960.35,\n",
       "       False, 2015, False, 960.35, False, False, False, False, False,\n",
       "       False, False, False, False, 0.0, False, False, False, False, 0,\n",
       "       False, True, False, False, False, 2.6994, 1.0, False, True, 0.0,\n",
       "       False, 3, False, False, False, False, False, False, 1],\n",
       "      dtype=object)"
      ]
     },
     "metadata": {},
     "output_type": "display_data"
    }
   ],
   "source": [
    "label = case.values[:, -1].astype('?')\n",
    "data = case.values[:, :-1]\n",
    "print('One data sample:')\n",
    "display(case.values[0])"
   ]
  },
  {
   "cell_type": "code",
   "execution_count": 2,
   "metadata": {},
   "outputs": [],
   "source": [
    "import os\n",
    "import numpy as np\n",
    "if not os.path.exists('./data/store.npz'):\n",
    "    np.savez('./data/store.npz',label=label,data=data)\n",
    "else:\n",
    "    store = np.load('./data/store.npz')\n",
    "    label = store['label']\n",
    "    data = store['data']"
   ]
  },
  {
   "cell_type": "code",
   "execution_count": 11,
   "metadata": {
    "scrolled": false
   },
   "outputs": [
    {
     "name": "stdout",
     "output_type": "stream",
     "text": [
      "Fitting 5 folds for each of 1 candidates, totalling 5 fits\n"
     ]
    },
    {
     "name": "stderr",
     "output_type": "stream",
     "text": [
      "[Parallel(n_jobs=1)]: Done   5 out of   5 | elapsed:  1.1min finished\n"
     ]
    },
    {
     "name": "stdout",
     "output_type": "stream",
     "text": [
      "0.9325709329133283 {'criterion': 'gini', 'min_samples_split': 1100}\n",
      "{'mean_fit_time': array([10.95435886]), 'std_fit_time': array([0.25162404]), 'mean_score_time': array([0.64839072]), 'std_score_time': array([0.04177923]), 'param_criterion': masked_array(data=['gini'],\n",
      "             mask=[False],\n",
      "       fill_value='?',\n",
      "            dtype=object), 'param_min_samples_split': masked_array(data=[1100],\n",
      "             mask=[False],\n",
      "       fill_value='?',\n",
      "            dtype=object), 'params': [{'criterion': 'gini', 'min_samples_split': 1100}], 'split0_test_score': array([0.92809861]), 'split1_test_score': array([0.93038119]), 'split2_test_score': array([0.93209313]), 'split3_test_score': array([0.93266378]), 'split4_test_score': array([0.93961876]), 'mean_test_score': array([0.93257093]), 'std_test_score': array([0.00386527]), 'rank_test_score': array([1], dtype=int32), 'split0_train_score': array([0.93391731]), 'split1_train_score': array([0.93334665]), 'split2_train_score': array([0.93283305]), 'split3_train_score': array([0.93269039]), 'split4_train_score': array([0.93078064]), 'mean_train_score': array([0.93271361]), 'std_train_score': array([0.00105838])}\n"
     ]
    }
   ],
   "source": [
    "from sklearn.model_selection import GridSearchCV\n",
    "from sklearn.ensemble import RandomForestClassifier\n",
    "params = {'criterion':['gini'], 'min_samples_split': [1100]}\n",
    "dtree = RandomForestClassifier(n_estimators=2000, random_state=117, n_jobs=-1)\n",
    "clf = GridSearchCV(dtree, params, cv=5, verbose=1)\n",
    "clf.fit(data, label)\n",
    "print (clf.best_score_, clf.best_params_)\n",
    "print(clf.cv_results_)\n",
    "# clf = DecisionTreeClassifier(random_state=0)\n",
    "# cross_val_score(clf, data, label, cv=10)"
   ]
  },
  {
   "cell_type": "code",
   "execution_count": null,
   "metadata": {
    "collapsed": true
   },
   "outputs": [],
   "source": []
  }
 ],
 "metadata": {
  "kernelspec": {
   "display_name": "Python 3",
   "language": "python",
   "name": "python3"
  },
  "language_info": {
   "codemirror_mode": {
    "name": "ipython",
    "version": 3
   },
   "file_extension": ".py",
   "mimetype": "text/x-python",
   "name": "python",
   "nbconvert_exporter": "python",
   "pygments_lexer": "ipython3",
   "version": "3.6.5"
  }
 },
 "nbformat": 4,
 "nbformat_minor": 2
}
