{
 "cells": [
  {
   "cell_type": "code",
   "execution_count": 9,
   "metadata": {},
   "outputs": [],
   "source": [
    "import pandas as pd\n",
    "import statsmodels.formula.api as smf\n",
    "from sklearn.model_selection import train_test_split"
   ]
  },
  {
   "cell_type": "code",
   "execution_count": 2,
   "metadata": {},
   "outputs": [],
   "source": [
    "# df = pd.read_csv('F:\\\\Competitions\\\\BPI\\\\data\\\\data.csv')\n",
    "\n",
    "# # df_q2 = df[['case', 'event', 'year', 'startTime', 'applicant', 'department', 'doctype', 'subprocess', 'number_parcels',\n",
    "# #            'young farmer', 'small farmer', 'area', 'redistribution',\n",
    "# #            'penalty_B3', 'penalty_B4', 'penalty_B5', 'penalty_B5F', 'penalty_B6', 'penalty_B16', 'penalty_BGK', 'penalty_BGKV',\n",
    "# #            'penalty_C16', 'penalty_JLP3', 'penalty_V5',\n",
    "# #            'amount_applied0', 'amount_applied1', 'amount_applied2', 'amount_applied3',\n",
    "# #            'penalty_amount0', 'penalty_amount1', 'penalty_amount2', 'penalty_amount3',\n",
    "# #            'payment_actual0', 'payment_actual1', 'payment_actual2', 'payment_actual3', 'rejected']]\n",
    "\n",
    "# df_q2 = df[['case', 'department', 'number_parcels', 'young farmer', 'small farmer', 'area', 'redistribution',\n",
    "#            'penalty_B3', 'penalty_B4', 'penalty_B5', 'penalty_B5F', 'penalty_B6', 'penalty_B16', 'penalty_BGK', 'penalty_BGKV',\n",
    "#            'penalty_C16', 'penalty_JLP3', 'penalty_V5', 'rejected']]\n",
    "\n",
    "# df_q2 = df_q2.drop_duplicates(subset='case')\n",
    "# df_q2 = df_q2.fillna(0)\n",
    "# df_q2['severe'] = df_q2['penalty_B3'] | df_q2['penalty_B4'] | df_q2['penalty_B5'] | df_q2['penalty_B5F'] | df_q2['penalty_B6'] | df_q2['penalty_B16'] | df_q2['penalty_BGK'] | df_q2['penalty_BGKV'] | df_q2['penalty_C16'] | df_q2['penalty_JLP3'] | df_q2['penalty_V5']\n",
    "# df_q2.to_csv('F:\\\\Competitions\\\\BPI\\\\data\\\\data_q2.csv')\n",
    "\n",
    "# del df, df_q2\n",
    "# import gc\n",
    "# gc.collect()"
   ]
  },
  {
   "cell_type": "code",
   "execution_count": 3,
   "metadata": {},
   "outputs": [
    {
     "name": "stderr",
     "output_type": "stream",
     "text": [
      "C:\\Users\\geral\\Anaconda3\\lib\\site-packages\\pandas\\core\\indexing.py:537: SettingWithCopyWarning: \n",
      "A value is trying to be set on a copy of a slice from a DataFrame.\n",
      "Try using .loc[row_indexer,col_indexer] = value instead\n",
      "\n",
      "See the caveats in the documentation: http://pandas.pydata.org/pandas-docs/stable/indexing.html#indexing-view-versus-copy\n",
      "  self.obj[item] = s\n"
     ]
    }
   ],
   "source": [
    "df_q2 = pd.read_csv('F:\\\\Competitions\\\\BPI\\\\data\\\\data_q2.csv')\n",
    "\n",
    "df_q2_core = df_q2[['severe', 'department', 'number_parcels', 'young farmer', 'small farmer', 'area', 'redistribution']]\n",
    "bools = df_q2_core.select_dtypes(include='bool').columns.tolist()\n",
    "df_q2_core.loc[:, bools] = df_q2_core.loc[:, bools].astype(int)"
   ]
  },
  {
   "cell_type": "code",
   "execution_count": 4,
   "metadata": {
    "scrolled": true
   },
   "outputs": [
    {
     "data": {
      "text/html": [
       "<div>\n",
       "<style scoped>\n",
       "    .dataframe tbody tr th:only-of-type {\n",
       "        vertical-align: middle;\n",
       "    }\n",
       "\n",
       "    .dataframe tbody tr th {\n",
       "        vertical-align: top;\n",
       "    }\n",
       "\n",
       "    .dataframe thead th {\n",
       "        text-align: right;\n",
       "    }\n",
       "</style>\n",
       "<table border=\"1\" class=\"dataframe\">\n",
       "  <thead>\n",
       "    <tr style=\"text-align: right;\">\n",
       "      <th></th>\n",
       "      <th>severe</th>\n",
       "      <th>department</th>\n",
       "      <th>number_parcels</th>\n",
       "      <th>young farmer</th>\n",
       "      <th>small farmer</th>\n",
       "      <th>area</th>\n",
       "      <th>redistribution</th>\n",
       "    </tr>\n",
       "  </thead>\n",
       "  <tbody>\n",
       "    <tr>\n",
       "      <th>17</th>\n",
       "      <td>1</td>\n",
       "      <td>e7</td>\n",
       "      <td>9</td>\n",
       "      <td>1</td>\n",
       "      <td>0</td>\n",
       "      <td>29.7884</td>\n",
       "      <td>1</td>\n",
       "    </tr>\n",
       "    <tr>\n",
       "      <th>21</th>\n",
       "      <td>1</td>\n",
       "      <td>d4</td>\n",
       "      <td>2</td>\n",
       "      <td>0</td>\n",
       "      <td>0</td>\n",
       "      <td>2.5153</td>\n",
       "      <td>1</td>\n",
       "    </tr>\n",
       "    <tr>\n",
       "      <th>25</th>\n",
       "      <td>1</td>\n",
       "      <td>4e</td>\n",
       "      <td>15</td>\n",
       "      <td>0</td>\n",
       "      <td>0</td>\n",
       "      <td>32.1291</td>\n",
       "      <td>1</td>\n",
       "    </tr>\n",
       "    <tr>\n",
       "      <th>54</th>\n",
       "      <td>1</td>\n",
       "      <td>4e</td>\n",
       "      <td>9</td>\n",
       "      <td>0</td>\n",
       "      <td>0</td>\n",
       "      <td>32.1291</td>\n",
       "      <td>1</td>\n",
       "    </tr>\n",
       "    <tr>\n",
       "      <th>66</th>\n",
       "      <td>1</td>\n",
       "      <td>4e</td>\n",
       "      <td>13</td>\n",
       "      <td>0</td>\n",
       "      <td>0</td>\n",
       "      <td>32.1291</td>\n",
       "      <td>1</td>\n",
       "    </tr>\n",
       "  </tbody>\n",
       "</table>\n",
       "</div>"
      ],
      "text/plain": [
       "    severe department  number_parcels  young farmer  small farmer     area  \\\n",
       "17       1         e7               9             1             0  29.7884   \n",
       "21       1         d4               2             0             0   2.5153   \n",
       "25       1         4e              15             0             0  32.1291   \n",
       "54       1         4e               9             0             0  32.1291   \n",
       "66       1         4e              13             0             0  32.1291   \n",
       "\n",
       "    redistribution  \n",
       "17               1  \n",
       "21               1  \n",
       "25               1  \n",
       "54               1  \n",
       "66               1  "
      ]
     },
     "metadata": {},
     "output_type": "display_data"
    }
   ],
   "source": [
    "with pd.option_context('display.max_columns', None):\n",
    "    display(df_q2_core[df_q2_core['severe'] == True][:5])"
   ]
  },
  {
   "cell_type": "code",
   "execution_count": null,
   "metadata": {},
   "outputs": [],
   "source": [
    "df_q2_core = df_q2_core.sample(frac=1).reset_index(drop=True)"
   ]
  }
 ],
 "metadata": {
  "kernelspec": {
   "display_name": "Python 3",
   "language": "python",
   "name": "python3"
  },
  "language_info": {
   "codemirror_mode": {
    "name": "ipython",
    "version": 3
   },
   "file_extension": ".py",
   "mimetype": "text/x-python",
   "name": "python",
   "nbconvert_exporter": "python",
   "pygments_lexer": "ipython3",
   "version": "3.6.4"
  }
 },
 "nbformat": 4,
 "nbformat_minor": 2
}
